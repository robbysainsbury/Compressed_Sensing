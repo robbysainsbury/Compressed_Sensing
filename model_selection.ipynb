{
 "cells": [
  {
   "cell_type": "code",
   "execution_count": 68,
   "metadata": {},
   "outputs": [],
   "source": [
    "import matplotlib.pyplot as plt\n",
    "import seaborn as sns\n",
    "import numpy as np\n",
    "import pandas as pd\n",
    "import hydroeval as he\n",
    "import datetime\n",
    "\n",
    "from InterpolateHelperFunctions import *\n",
    "\n",
    "all_pressure_df = pd.read_csv(\"all_pressure.csv\")"
   ]
  },
  {
   "cell_type": "code",
   "execution_count": 24,
   "metadata": {},
   "outputs": [],
   "source": [
    "# site_id = \"BSL\"\n",
    "# site_df = pd.DataFrame()\n",
    "# site_df[[\"datetime\",\"pressure_hobo\"]] = all_pressure_df[[\"datetime\",site_id]]\n",
    "# site_df['datetime'] = pd.to_datetime(site_df['datetime'], format='%Y-%m-%d %H:%M:%S')\n",
    "# site_df = site_df[site_df['pressure_hobo'].notna()]\n",
    "# all_days = pd.date_range(site_df['datetime'].min(), site_df['datetime'].max(), freq='15min')\n",
    "# all_days = pd.DataFrame(all_days, columns=[\"datetime\"])\n",
    "# site_df = all_days.merge(site_df, on='datetime', how='left')\n",
    "\n",
    "# #generating a test dataframe from our actual data. This function generate randomly indexed sequences of nas of random lengths\n",
    "# test_df = get_test_df(site_df)"
   ]
  },
  {
   "cell_type": "code",
   "execution_count": 70,
   "metadata": {},
   "outputs": [],
   "source": [
    "#site_names_list = ['BLI']\n",
    "site_names_list = ['BEN', 'BLI', 'BSL', 'CLE', 'CRB', 'DAI', 'DFF', 'DFL', 'DFM', 'DFU', 'HCL', 'HCN', 'HCS', 'IND', 'LAK', 'LDF', 'MIT', 'NEB', 'PBC', 'SBL', 'SFL', 'SHE', 'SHE_', 'SOL', 'SOL_', 'STR', 'TCU', 'TIE', 'WAN']\n",
    "matrix_size_list = [1000,2000,3000,4000]\n",
    "mv_avg_width_list = [1,5,10,15,25,50,100,150,300]"
   ]
  },
  {
   "cell_type": "code",
   "execution_count": 71,
   "metadata": {},
   "outputs": [
    {
     "name": "stdout",
     "output_type": "stream",
     "text": [
      "Working on site: BEN\n",
      "0.20337635837327386\n",
      "0.4364174536136288\n",
      "Down sampling to: 42\n"
     ]
    },
    {
     "name": "stderr",
     "output_type": "stream",
     "text": [
      "creating design matrix: 100%|██████████| 1000/1000 [00:00<00:00, 115335.86it/s]\n",
      "optimizing parameters: 100%|██████████| 1000/1000 [00:00<00:00, 1305.93it/s]\n",
      "creating design matrix: 100%|██████████| 1000/1000 [00:00<00:00, 24575.66it/s]\n"
     ]
    },
    {
     "name": "stdout",
     "output_type": "stream",
     "text": [
      "NAs per column:\n",
      "datetime                    0.000000\n",
      "index                       0.976190\n",
      "pressure_filled             0.976190\n",
      "pressure_hobo               0.872835\n",
      "rolling_average             0.852026\n",
      "pressure_combined           0.852026\n",
      "pressure_combined_filled    0.852026\n",
      "dtype: float64\n",
      "Down sampling to: 21\n"
     ]
    },
    {
     "name": "stderr",
     "output_type": "stream",
     "text": [
      "creating design matrix: 100%|██████████| 2000/2000 [00:00<00:00, 67566.70it/s]\n",
      "optimizing parameters: 100%|██████████| 1000/1000 [00:01<00:00, 515.70it/s]\n",
      "creating design matrix: 100%|██████████| 2000/2000 [00:00<00:00, 13638.70it/s]\n"
     ]
    },
    {
     "name": "stdout",
     "output_type": "stream",
     "text": [
      "NAs per column:\n",
      "datetime                    0.000000\n",
      "index                       0.952380\n",
      "pressure_filled             0.952380\n",
      "pressure_hobo               0.872835\n",
      "rolling_average             0.831348\n",
      "pressure_combined           0.831348\n",
      "pressure_combined_filled    0.831348\n",
      "dtype: float64\n",
      "Down sampling to: 14\n"
     ]
    },
    {
     "name": "stderr",
     "output_type": "stream",
     "text": [
      "creating design matrix: 100%|██████████| 3000/3000 [00:00<00:00, 49063.65it/s]\n",
      "optimizing parameters: 100%|██████████| 1000/1000 [00:03<00:00, 304.31it/s]\n",
      "creating design matrix: 100%|██████████| 3000/3000 [00:00<00:00, 8674.38it/s]\n"
     ]
    },
    {
     "name": "stdout",
     "output_type": "stream",
     "text": [
      "NAs per column:\n",
      "datetime                    0.000000\n",
      "index                       0.928570\n",
      "pressure_filled             0.928570\n",
      "pressure_hobo               0.872835\n",
      "rolling_average             0.810445\n",
      "pressure_combined           0.810445\n",
      "pressure_combined_filled    0.810445\n",
      "dtype: float64\n",
      "Down sampling to: 10\n"
     ]
    },
    {
     "name": "stderr",
     "output_type": "stream",
     "text": [
      "creating design matrix: 100%|██████████| 4000/4000 [00:00<00:00, 28732.39it/s]\n",
      "optimizing parameters: 100%|██████████| 1000/1000 [00:07<00:00, 129.50it/s]\n",
      "creating design matrix: 100%|██████████| 4000/4000 [00:01<00:00, 2010.97it/s]\n"
     ]
    },
    {
     "name": "stdout",
     "output_type": "stream",
     "text": [
      "NAs per column:\n",
      "datetime                    0.000000\n",
      "index                       0.899979\n",
      "pressure_filled             0.899979\n",
      "pressure_hobo               0.872835\n",
      "rolling_average             0.785436\n",
      "pressure_combined           0.785436\n",
      "pressure_combined_filled    0.785436\n",
      "dtype: float64\n",
      "Working on site: BLI\n",
      "0.22900107773137546\n",
      "0.43932340682979293\n",
      "Down sampling to: 29\n"
     ]
    },
    {
     "name": "stderr",
     "output_type": "stream",
     "text": [
      "creating design matrix: 100%|██████████| 1000/1000 [00:00<00:00, 142711.94it/s]\n",
      "optimizing parameters: 100%|██████████| 1000/1000 [00:00<00:00, 1432.04it/s]\n",
      "creating design matrix: 100%|██████████| 1000/1000 [00:00<00:00, 18060.68it/s]\n"
     ]
    },
    {
     "name": "stdout",
     "output_type": "stream",
     "text": [
      "NAs per column:\n",
      "datetime                    0.000000\n",
      "index                       0.963761\n",
      "pressure_filled             0.963761\n",
      "pressure_hobo               0.876381\n",
      "rolling_average             0.844605\n",
      "pressure_combined           0.844605\n",
      "pressure_combined_filled    0.844605\n",
      "dtype: float64\n",
      "Down sampling to: 14\n"
     ]
    },
    {
     "name": "stderr",
     "output_type": "stream",
     "text": [
      "creating design matrix: 100%|██████████| 2000/2000 [00:00<00:00, 74664.96it/s]\n",
      "optimizing parameters: 100%|██████████| 1000/1000 [00:01<00:00, 737.51it/s]\n",
      "creating design matrix: 100%|██████████| 2000/2000 [00:00<00:00, 16327.84it/s]\n"
     ]
    },
    {
     "name": "stdout",
     "output_type": "stream",
     "text": [
      "NAs per column:\n",
      "datetime                    0.000000\n",
      "index                       0.924929\n",
      "pressure_filled             0.924929\n",
      "pressure_hobo               0.876381\n",
      "rolling_average             0.810420\n",
      "pressure_combined           0.810420\n",
      "pressure_combined_filled    0.810420\n",
      "dtype: float64\n",
      "Down sampling to: 9\n"
     ]
    },
    {
     "name": "stderr",
     "output_type": "stream",
     "text": [
      "creating design matrix: 100%|██████████| 3000/3000 [00:00<00:00, 40572.63it/s]\n",
      "optimizing parameters: 100%|██████████| 1000/1000 [00:02<00:00, 343.81it/s]\n",
      "creating design matrix: 100%|██████████| 3000/3000 [00:00<00:00, 8690.53it/s]\n"
     ]
    },
    {
     "name": "stdout",
     "output_type": "stream",
     "text": [
      "NAs per column:\n",
      "datetime                    0.000000\n",
      "index                       0.884430\n",
      "pressure_filled             0.884430\n",
      "pressure_hobo               0.876381\n",
      "rolling_average             0.775478\n",
      "pressure_combined           0.775478\n",
      "pressure_combined_filled    0.775478\n",
      "dtype: float64\n",
      "Down sampling to: 7\n"
     ]
    },
    {
     "name": "stderr",
     "output_type": "stream",
     "text": [
      "creating design matrix: 100%|██████████| 4000/4000 [00:00<00:00, 45372.89it/s]\n",
      "optimizing parameters: 100%|██████████| 1000/1000 [00:04<00:00, 246.67it/s]\n",
      "creating design matrix: 100%|██████████| 4000/4000 [00:00<00:00, 6147.37it/s]\n"
     ]
    },
    {
     "name": "stdout",
     "output_type": "stream",
     "text": [
      "NAs per column:\n",
      "datetime                    0.000000\n",
      "index                       0.849859\n",
      "pressure_filled             0.849859\n",
      "pressure_hobo               0.876381\n",
      "rolling_average             0.744763\n",
      "pressure_combined           0.744763\n",
      "pressure_combined_filled    0.744763\n",
      "dtype: float64\n",
      "Working on site: BSL\n",
      "0.05299283524832164\n",
      "0.4054979909860779\n",
      "Down sampling to: 79\n"
     ]
    },
    {
     "name": "stderr",
     "output_type": "stream",
     "text": [
      "creating design matrix: 100%|██████████| 1000/1000 [00:00<00:00, 80824.45it/s]\n",
      "optimizing parameters: 100%|██████████| 1000/1000 [00:00<00:00, 1348.56it/s]\n",
      "creating design matrix: 100%|██████████| 1000/1000 [00:00<00:00, 15674.31it/s]\n"
     ]
    },
    {
     "name": "stdout",
     "output_type": "stream",
     "text": [
      "NAs per column:\n",
      "datetime                    0.000000\n",
      "index                       0.979371\n",
      "pressure_filled             0.979371\n",
      "pressure_hobo               0.810996\n",
      "rolling_average             0.794755\n",
      "pressure_combined           0.794755\n",
      "pressure_combined_filled    0.794755\n",
      "dtype: float64\n",
      "Down sampling to: 39\n"
     ]
    },
    {
     "name": "stderr",
     "output_type": "stream",
     "text": [
      "creating design matrix: 100%|██████████| 2000/2000 [00:00<00:00, 49992.90it/s]\n",
      "optimizing parameters: 100%|██████████| 1000/1000 [00:01<00:00, 661.06it/s]\n",
      "creating design matrix: 100%|██████████| 2000/2000 [00:00<00:00, 12932.41it/s]\n"
     ]
    },
    {
     "name": "stdout",
     "output_type": "stream",
     "text": [
      "NAs per column:\n",
      "datetime                    0.000000\n",
      "index                       0.957714\n",
      "pressure_filled             0.957714\n",
      "pressure_hobo               0.810996\n",
      "rolling_average             0.777216\n",
      "pressure_combined           0.777216\n",
      "pressure_combined_filled    0.777216\n",
      "dtype: float64\n",
      "Down sampling to: 26\n"
     ]
    },
    {
     "name": "stderr",
     "output_type": "stream",
     "text": [
      "creating design matrix: 100%|██████████| 3000/3000 [00:00<00:00, 37452.60it/s]\n",
      "optimizing parameters: 100%|██████████| 1000/1000 [00:03<00:00, 275.14it/s]\n",
      "creating design matrix: 100%|██████████| 3000/3000 [00:00<00:00, 7339.79it/s]\n"
     ]
    },
    {
     "name": "stdout",
     "output_type": "stream",
     "text": [
      "NAs per column:\n",
      "datetime                    0.000000\n",
      "index                       0.937398\n",
      "pressure_filled             0.937398\n",
      "pressure_hobo               0.810996\n",
      "rolling_average             0.761282\n",
      "pressure_combined           0.761282\n",
      "pressure_combined_filled    0.761282\n",
      "dtype: float64\n",
      "Down sampling to: 19\n"
     ]
    },
    {
     "name": "stderr",
     "output_type": "stream",
     "text": [
      "creating design matrix: 100%|██████████| 4000/4000 [00:00<00:00, 19541.18it/s]\n",
      "optimizing parameters: 100%|██████████| 1000/1000 [00:06<00:00, 162.36it/s]\n",
      "creating design matrix: 100%|██████████| 4000/4000 [00:00<00:00, 6419.01it/s]\n"
     ]
    },
    {
     "name": "stdout",
     "output_type": "stream",
     "text": [
      "NAs per column:\n",
      "datetime                    0.000000\n",
      "index                       0.914361\n",
      "pressure_filled             0.914361\n",
      "pressure_hobo               0.810996\n",
      "rolling_average             0.742595\n",
      "pressure_combined           0.742595\n",
      "pressure_combined_filled    0.742595\n",
      "dtype: float64\n",
      "Working on site: CLE\n",
      "0.1293491879440627\n",
      "0.4181137095644868\n",
      "Down sampling to: 64\n"
     ]
    },
    {
     "name": "stderr",
     "output_type": "stream",
     "text": [
      "creating design matrix: 100%|██████████| 1000/1000 [00:00<00:00, 72811.46it/s]\n",
      "optimizing parameters: 100%|██████████| 1000/1000 [00:01<00:00, 903.18it/s]\n",
      "creating design matrix: 100%|██████████| 1000/1000 [00:00<00:00, 20969.42it/s]\n"
     ]
    },
    {
     "name": "stdout",
     "output_type": "stream",
     "text": [
      "NAs per column:\n",
      "datetime                    0.000000\n",
      "index                       0.981930\n",
      "pressure_filled             0.981930\n",
      "pressure_hobo               0.835892\n",
      "rolling_average             0.820896\n",
      "pressure_combined           0.820896\n",
      "pressure_combined_filled    0.820896\n",
      "dtype: float64\n",
      "Down sampling to: 32\n"
     ]
    },
    {
     "name": "stderr",
     "output_type": "stream",
     "text": [
      "creating design matrix: 100%|██████████| 2000/2000 [00:00<00:00, 33111.92it/s]\n",
      "optimizing parameters: 100%|██████████| 1000/1000 [00:02<00:00, 423.02it/s]\n",
      "creating design matrix: 100%|██████████| 2000/2000 [00:00<00:00, 12897.32it/s]\n"
     ]
    },
    {
     "name": "stdout",
     "output_type": "stream",
     "text": [
      "NAs per column:\n",
      "datetime                    0.000000\n",
      "index                       0.963884\n",
      "pressure_filled             0.963884\n",
      "pressure_hobo               0.835892\n",
      "rolling_average             0.805931\n",
      "pressure_combined           0.805931\n",
      "pressure_combined_filled    0.805931\n",
      "dtype: float64\n",
      "Down sampling to: 21\n"
     ]
    },
    {
     "name": "stderr",
     "output_type": "stream",
     "text": [
      "creating design matrix: 100%|██████████| 3000/3000 [00:00<00:00, 33458.07it/s]\n",
      "optimizing parameters: 100%|██████████| 1000/1000 [00:03<00:00, 290.13it/s]\n",
      "creating design matrix: 100%|██████████| 3000/3000 [00:00<00:00, 8065.10it/s]\n"
     ]
    },
    {
     "name": "stdout",
     "output_type": "stream",
     "text": [
      "NAs per column:\n",
      "datetime                    0.000000\n",
      "index                       0.950724\n",
      "pressure_filled             0.950724\n",
      "pressure_hobo               0.835892\n",
      "rolling_average             0.794725\n",
      "pressure_combined           0.794725\n",
      "pressure_combined_filled    0.794725\n",
      "dtype: float64\n",
      "Down sampling to: 16\n"
     ]
    },
    {
     "name": "stderr",
     "output_type": "stream",
     "text": [
      "creating design matrix: 100%|██████████| 4000/4000 [00:00<00:00, 27775.61it/s]\n",
      "optimizing parameters: 100%|██████████| 1000/1000 [00:04<00:00, 222.52it/s]\n",
      "creating design matrix: 100%|██████████| 4000/4000 [00:00<00:00, 6699.40it/s]\n"
     ]
    },
    {
     "name": "stdout",
     "output_type": "stream",
     "text": [
      "NAs per column:\n",
      "datetime                    0.000000\n",
      "index                       0.927752\n",
      "pressure_filled             0.927752\n",
      "pressure_hobo               0.835892\n",
      "rolling_average             0.775815\n",
      "pressure_combined           0.775815\n",
      "pressure_combined_filled    0.775815\n",
      "dtype: float64\n",
      "Working on site: CRB\n",
      "0.15093599372267683\n",
      "0.4261499113493244\n",
      "Down sampling to: 49\n"
     ]
    },
    {
     "name": "stderr",
     "output_type": "stream",
     "text": [
      "creating design matrix: 100%|██████████| 1000/1000 [00:00<00:00, 83344.34it/s]\n",
      "optimizing parameters: 100%|██████████| 1000/1000 [00:00<00:00, 1139.00it/s]\n",
      "creating design matrix: 100%|██████████| 1000/1000 [00:00<00:00, 26987.77it/s]\n"
     ]
    },
    {
     "name": "stdout",
     "output_type": "stream",
     "text": [
      "NAs per column:\n",
      "datetime                    0.000000\n",
      "index                       0.979568\n",
      "pressure_filled             0.979568\n",
      "pressure_hobo               0.852218\n",
      "rolling_average             0.834762\n",
      "pressure_combined           0.834762\n",
      "pressure_combined_filled    0.834762\n",
      "dtype: float64\n",
      "Down sampling to: 24\n"
     ]
    },
    {
     "name": "stderr",
     "output_type": "stream",
     "text": [
      "creating design matrix: 100%|██████████| 2000/2000 [00:00<00:00, 55507.38it/s]\n",
      "optimizing parameters: 100%|██████████| 1000/1000 [00:01<00:00, 577.50it/s]\n",
      "creating design matrix: 100%|██████████| 2000/2000 [00:00<00:00, 12629.45it/s]\n"
     ]
    },
    {
     "name": "stdout",
     "output_type": "stream",
     "text": [
      "NAs per column:\n",
      "datetime                    0.000000\n",
      "index                       0.958331\n",
      "pressure_filled             0.958331\n",
      "pressure_hobo               0.852218\n",
      "rolling_average             0.816684\n",
      "pressure_combined           0.816684\n",
      "pressure_combined_filled    0.816684\n",
      "dtype: float64\n",
      "Down sampling to: 16\n"
     ]
    },
    {
     "name": "stderr",
     "output_type": "stream",
     "text": [
      "creating design matrix: 100%|██████████| 3000/3000 [00:00<00:00, 25802.84it/s]\n",
      "optimizing parameters: 100%|██████████| 1000/1000 [00:03<00:00, 286.11it/s]\n",
      "creating design matrix: 100%|██████████| 3000/3000 [00:00<00:00, 8234.96it/s]\n"
     ]
    },
    {
     "name": "stdout",
     "output_type": "stream",
     "text": [
      "NAs per column:\n",
      "datetime                    0.000000\n",
      "index                       0.937482\n",
      "pressure_filled             0.937482\n",
      "pressure_hobo               0.852218\n",
      "rolling_average             0.798861\n",
      "pressure_combined           0.798861\n",
      "pressure_combined_filled    0.798861\n",
      "dtype: float64\n",
      "Down sampling to: 12\n"
     ]
    },
    {
     "name": "stderr",
     "output_type": "stream",
     "text": [
      "creating design matrix: 100%|██████████| 4000/4000 [00:00<00:00, 33127.29it/s]\n",
      "optimizing parameters: 100%|██████████| 1000/1000 [00:04<00:00, 232.93it/s]\n",
      "creating design matrix: 100%|██████████| 4000/4000 [00:00<00:00, 6162.61it/s]\n"
     ]
    },
    {
     "name": "stdout",
     "output_type": "stream",
     "text": [
      "NAs per column:\n",
      "datetime                    0.000000\n",
      "index                       0.916662\n",
      "pressure_filled             0.916662\n",
      "pressure_hobo               0.852218\n",
      "rolling_average             0.781180\n",
      "pressure_combined           0.781180\n",
      "pressure_combined_filled    0.781180\n",
      "dtype: float64\n",
      "Working on site: DAI\n",
      "0.17170564746149458\n",
      "0.42702528735632184\n",
      "Down sampling to: 27\n"
     ]
    },
    {
     "name": "stderr",
     "output_type": "stream",
     "text": [
      "creating design matrix: 100%|██████████| 1000/1000 [00:00<00:00, 83327.78it/s]\n",
      "optimizing parameters: 100%|██████████| 1000/1000 [00:00<00:00, 1118.04it/s]\n",
      "creating design matrix: 100%|██████████| 1000/1000 [00:00<00:00, 23708.42it/s]\n"
     ]
    },
    {
     "name": "stdout",
     "output_type": "stream",
     "text": [
      "NAs per column:\n",
      "datetime                    0.000000\n",
      "index                       0.958468\n",
      "pressure_filled             0.958468\n",
      "pressure_hobo               0.853376\n",
      "rolling_average             0.818118\n",
      "pressure_combined           0.818118\n",
      "pressure_combined_filled    0.818118\n",
      "dtype: float64\n",
      "Down sampling to: 13\n"
     ]
    },
    {
     "name": "stderr",
     "output_type": "stream",
     "text": [
      "creating design matrix: 100%|██████████| 2000/2000 [00:00<00:00, 58812.12it/s]\n",
      "optimizing parameters: 100%|██████████| 1000/1000 [00:02<00:00, 498.20it/s]\n",
      "creating design matrix: 100%|██████████| 2000/2000 [00:00<00:00, 10401.92it/s]\n"
     ]
    },
    {
     "name": "stdout",
     "output_type": "stream",
     "text": [
      "NAs per column:\n",
      "datetime                    0.000000\n",
      "index                       0.907256\n",
      "pressure_filled             0.907256\n",
      "pressure_hobo               0.853376\n",
      "rolling_average             0.775353\n",
      "pressure_combined           0.775353\n",
      "pressure_combined_filled    0.775353\n",
      "dtype: float64\n",
      "Down sampling to: 9\n"
     ]
    },
    {
     "name": "stderr",
     "output_type": "stream",
     "text": [
      "creating design matrix: 100%|██████████| 3000/3000 [00:00<00:00, 42449.46it/s]\n",
      "optimizing parameters: 100%|██████████| 1000/1000 [00:03<00:00, 285.99it/s]\n",
      "creating design matrix: 100%|██████████| 3000/3000 [00:00<00:00, 8079.79it/s]\n"
     ]
    },
    {
     "name": "stdout",
     "output_type": "stream",
     "text": [
      "NAs per column:\n",
      "datetime                    0.000000\n",
      "index                       0.875421\n",
      "pressure_filled             0.875421\n",
      "pressure_hobo               0.853376\n",
      "rolling_average             0.748192\n",
      "pressure_combined           0.748192\n",
      "pressure_combined_filled    0.748192\n",
      "dtype: float64\n",
      "Down sampling to: 6\n"
     ]
    },
    {
     "name": "stderr",
     "output_type": "stream",
     "text": [
      "creating design matrix: 100%|██████████| 4000/4000 [00:00<00:00, 31836.11it/s]\n",
      "optimizing parameters: 100%|██████████| 1000/1000 [00:04<00:00, 234.39it/s]\n",
      "creating design matrix: 100%|██████████| 4000/4000 [00:00<00:00, 6277.52it/s]\n"
     ]
    },
    {
     "name": "stdout",
     "output_type": "stream",
     "text": [
      "NAs per column:\n",
      "datetime                    0.000000\n",
      "index                       0.813168\n",
      "pressure_filled             0.813168\n",
      "pressure_hobo               0.853376\n",
      "rolling_average             0.695784\n",
      "pressure_combined           0.695784\n",
      "pressure_combined_filled    0.695784\n",
      "dtype: float64\n",
      "Working on site: DFF\n",
      "0.1642817550615555\n",
      "0.43175967856022984\n",
      "Down sampling to: 68\n"
     ]
    },
    {
     "name": "stderr",
     "output_type": "stream",
     "text": [
      "creating design matrix: 100%|██████████| 1000/1000 [00:00<00:00, 76961.12it/s]\n",
      "optimizing parameters: 100%|██████████| 1000/1000 [00:01<00:00, 720.93it/s]\n",
      "creating design matrix: 100%|██████████| 1000/1000 [00:00<00:00, 16784.74it/s]\n"
     ]
    },
    {
     "name": "stdout",
     "output_type": "stream",
     "text": [
      "NAs per column:\n",
      "datetime                    0.000000\n",
      "index                       0.974422\n",
      "pressure_filled             0.974422\n",
      "pressure_hobo               0.863345\n",
      "rolling_average             0.842472\n",
      "pressure_combined           0.842472\n",
      "pressure_combined_filled    0.842472\n",
      "dtype: float64\n",
      "Down sampling to: 34\n"
     ]
    },
    {
     "name": "stderr",
     "output_type": "stream",
     "text": [
      "creating design matrix: 100%|██████████| 2000/2000 [00:00<00:00, 43655.42it/s]\n",
      "optimizing parameters: 100%|██████████| 1000/1000 [00:01<00:00, 555.01it/s]\n",
      "creating design matrix: 100%|██████████| 2000/2000 [00:00<00:00, 9596.86it/s]\n"
     ]
    },
    {
     "name": "stdout",
     "output_type": "stream",
     "text": [
      "NAs per column:\n",
      "datetime                    0.000000\n",
      "index                       0.948808\n",
      "pressure_filled             0.948808\n",
      "pressure_hobo               0.863345\n",
      "rolling_average             0.821445\n",
      "pressure_combined           0.821445\n",
      "pressure_combined_filled    0.821445\n",
      "dtype: float64\n",
      "Down sampling to: 22\n"
     ]
    },
    {
     "name": "stderr",
     "output_type": "stream",
     "text": [
      "creating design matrix: 100%|██████████| 3000/3000 [00:00<00:00, 37693.82it/s]\n",
      "optimizing parameters: 100%|██████████| 1000/1000 [00:03<00:00, 295.29it/s]\n",
      "creating design matrix: 100%|██████████| 3000/3000 [00:00<00:00, 7767.43it/s]\n"
     ]
    },
    {
     "name": "stdout",
     "output_type": "stream",
     "text": [
      "NAs per column:\n",
      "datetime                    0.000000\n",
      "index                       0.922458\n",
      "pressure_filled             0.922458\n",
      "pressure_hobo               0.863345\n",
      "rolling_average             0.799682\n",
      "pressure_combined           0.799682\n",
      "pressure_combined_filled    0.799682\n",
      "dtype: float64\n",
      "Down sampling to: 17\n"
     ]
    },
    {
     "name": "stderr",
     "output_type": "stream",
     "text": [
      "creating design matrix: 100%|██████████| 4000/4000 [00:00<00:00, 35472.95it/s]\n",
      "optimizing parameters: 100%|██████████| 1000/1000 [00:04<00:00, 245.16it/s]\n",
      "creating design matrix: 100%|██████████| 4000/4000 [00:00<00:00, 6866.47it/s]\n"
     ]
    },
    {
     "name": "stdout",
     "output_type": "stream",
     "text": [
      "NAs per column:\n",
      "datetime                    0.000000\n",
      "index                       0.897573\n",
      "pressure_filled             0.897573\n",
      "pressure_hobo               0.863345\n",
      "rolling_average             0.779305\n",
      "pressure_combined           0.779305\n",
      "pressure_combined_filled    0.779305\n",
      "dtype: float64\n",
      "Working on site: DFL\n",
      "0.09194845360824742\n",
      "0.4147465910957779\n",
      "Down sampling to: 24\n"
     ]
    },
    {
     "name": "stderr",
     "output_type": "stream",
     "text": [
      "creating design matrix: 100%|██████████| 1000/1000 [00:00<00:00, 83344.34it/s]\n",
      "optimizing parameters: 100%|██████████| 1000/1000 [00:00<00:00, 1029.34it/s]\n",
      "creating design matrix: 100%|██████████| 1000/1000 [00:00<00:00, 25866.18it/s]\n"
     ]
    },
    {
     "name": "stdout",
     "output_type": "stream",
     "text": [
      "NAs per column:\n",
      "datetime                    0.000000\n",
      "index                       0.882144\n",
      "pressure_filled             0.882144\n",
      "pressure_hobo               0.824763\n",
      "rolling_average             0.736866\n",
      "pressure_combined           0.736866\n",
      "pressure_combined_filled    0.736866\n",
      "dtype: float64\n",
      "Down sampling to: 12\n"
     ]
    },
    {
     "name": "stderr",
     "output_type": "stream",
     "text": [
      "creating design matrix: 100%|██████████| 2000/2000 [00:00<00:00, 46503.65it/s]\n",
      "optimizing parameters: 100%|██████████| 1000/1000 [00:02<00:00, 413.42it/s]\n",
      "creating design matrix: 100%|██████████| 2000/2000 [00:00<00:00, 11004.93it/s]\n"
     ]
    },
    {
     "name": "stdout",
     "output_type": "stream",
     "text": [
      "NAs per column:\n",
      "datetime                    0.000000\n",
      "index                       0.772027\n",
      "pressure_filled             0.772027\n",
      "pressure_hobo               0.819545\n",
      "rolling_average             0.649566\n",
      "pressure_combined           0.649566\n",
      "pressure_combined_filled    0.649566\n",
      "dtype: float64\n",
      "simulation and evaluation arrays feature incompatible dimensions\n",
      "Working on site: DFM\n",
      "0.07530723867831098\n",
      "0.41365040148239657\n",
      "Down sampling to: 44\n"
     ]
    },
    {
     "name": "stderr",
     "output_type": "stream",
     "text": [
      "creating design matrix: 100%|██████████| 1000/1000 [00:00<00:00, 76989.37it/s]\n",
      "optimizing parameters: 100%|██████████| 1000/1000 [00:00<00:00, 1090.59it/s]\n",
      "creating design matrix: 100%|██████████| 1000/1000 [00:00<00:00, 15873.51it/s]\n"
     ]
    },
    {
     "name": "stdout",
     "output_type": "stream",
     "text": [
      "NAs per column:\n",
      "datetime                    0.000000\n",
      "index                       0.971988\n",
      "pressure_filled             0.971988\n",
      "pressure_hobo               0.824806\n",
      "rolling_average             0.801780\n",
      "pressure_combined           0.801780\n",
      "pressure_combined_filled    0.801780\n",
      "dtype: float64\n",
      "Down sampling to: 22\n"
     ]
    },
    {
     "name": "stderr",
     "output_type": "stream",
     "text": [
      "creating design matrix: 100%|██████████| 2000/2000 [00:00<00:00, 38853.24it/s]\n",
      "optimizing parameters: 100%|██████████| 1000/1000 [00:02<00:00, 451.54it/s]\n",
      "creating design matrix: 100%|██████████| 2000/2000 [00:00<00:00, 13129.40it/s]\n"
     ]
    },
    {
     "name": "stdout",
     "output_type": "stream",
     "text": [
      "NAs per column:\n",
      "datetime                    0.000000\n",
      "index                       0.944011\n",
      "pressure_filled             0.944011\n",
      "pressure_hobo               0.824806\n",
      "rolling_average             0.778833\n",
      "pressure_combined           0.778833\n",
      "pressure_combined_filled    0.778833\n",
      "dtype: float64\n",
      "Down sampling to: 14\n"
     ]
    },
    {
     "name": "stderr",
     "output_type": "stream",
     "text": [
      "creating design matrix: 100%|██████████| 3000/3000 [00:00<00:00, 30516.46it/s]\n",
      "optimizing parameters: 100%|██████████| 1000/1000 [00:03<00:00, 286.42it/s]\n",
      "creating design matrix: 100%|██████████| 3000/3000 [00:00<00:00, 7997.16it/s]\n"
     ]
    },
    {
     "name": "stdout",
     "output_type": "stream",
     "text": [
      "NAs per column:\n",
      "datetime                    0.000000\n",
      "index                       0.911981\n",
      "pressure_filled             0.911981\n",
      "pressure_hobo               0.824806\n",
      "rolling_average             0.752622\n",
      "pressure_combined           0.752622\n",
      "pressure_combined_filled    0.752622\n",
      "dtype: float64\n",
      "Down sampling to: 11\n"
     ]
    },
    {
     "name": "stderr",
     "output_type": "stream",
     "text": [
      "creating design matrix: 100%|██████████| 4000/4000 [00:00<00:00, 23618.27it/s]\n",
      "optimizing parameters: 100%|██████████| 1000/1000 [00:04<00:00, 221.82it/s]\n",
      "creating design matrix: 100%|██████████| 4000/4000 [00:00<00:00, 6705.38it/s]\n"
     ]
    },
    {
     "name": "stdout",
     "output_type": "stream",
     "text": [
      "NAs per column:\n",
      "datetime                    0.000000\n",
      "index                       0.887976\n",
      "pressure_filled             0.887976\n",
      "pressure_hobo               0.824806\n",
      "rolling_average             0.732815\n",
      "pressure_combined           0.732815\n",
      "pressure_combined_filled    0.732815\n",
      "dtype: float64\n",
      "Working on site: DFU\n",
      "0.09940080009782856\n",
      "0.42054162312783\n",
      "Down sampling to: 28\n"
     ]
    },
    {
     "name": "stderr",
     "output_type": "stream",
     "text": [
      "creating design matrix: 100%|██████████| 1000/1000 [00:00<00:00, 76949.82it/s]\n",
      "optimizing parameters: 100%|██████████| 1000/1000 [00:01<00:00, 829.05it/s]\n",
      "creating design matrix: 100%|██████████| 1000/1000 [00:00<00:00, 16945.52it/s]\n"
     ]
    },
    {
     "name": "stdout",
     "output_type": "stream",
     "text": [
      "NAs per column:\n",
      "datetime                    0.000000\n",
      "index                       0.899865\n",
      "pressure_filled             0.899865\n",
      "pressure_hobo               0.837500\n",
      "rolling_average             0.756529\n",
      "pressure_combined           0.756529\n",
      "pressure_combined_filled    0.756529\n",
      "dtype: float64\n",
      "Down sampling to: 14\n"
     ]
    },
    {
     "name": "stderr",
     "output_type": "stream",
     "text": [
      "creating design matrix: 100%|██████████| 2000/2000 [00:00<00:00, 40826.83it/s]\n",
      "optimizing parameters: 100%|██████████| 1000/1000 [00:03<00:00, 317.75it/s]\n",
      "creating design matrix: 100%|██████████| 2000/2000 [00:00<00:00, 7966.94it/s]\n"
     ]
    },
    {
     "name": "stdout",
     "output_type": "stream",
     "text": [
      "NAs per column:\n",
      "datetime                    0.000000\n",
      "index                       0.802687\n",
      "pressure_filled             0.802687\n",
      "pressure_hobo               0.836941\n",
      "rolling_average             0.678315\n",
      "pressure_combined           0.678315\n",
      "pressure_combined_filled    0.678315\n",
      "dtype: float64\n",
      "simulation and evaluation arrays feature incompatible dimensions\n",
      "Working on site: HCL\n",
      "0.1128970074562993\n",
      "0.4234456207892204\n",
      "Down sampling to: 64\n"
     ]
    },
    {
     "name": "stderr",
     "output_type": "stream",
     "text": [
      "creating design matrix: 100%|██████████| 1000/1000 [00:00<00:00, 52604.37it/s]\n",
      "optimizing parameters: 100%|██████████| 1000/1000 [00:01<00:00, 504.01it/s]\n",
      "creating design matrix: 100%|██████████| 1000/1000 [00:00<00:00, 20777.05it/s]\n"
     ]
    },
    {
     "name": "stdout",
     "output_type": "stream",
     "text": [
      "NAs per column:\n",
      "datetime                    0.000000\n",
      "index                       0.983414\n",
      "pressure_filled             0.983414\n",
      "pressure_hobo               0.845237\n",
      "rolling_average             0.831250\n",
      "pressure_combined           0.831250\n",
      "pressure_combined_filled    0.831250\n",
      "dtype: float64\n",
      "Down sampling to: 32\n"
     ]
    },
    {
     "name": "stderr",
     "output_type": "stream",
     "text": [
      "creating design matrix: 100%|██████████| 2000/2000 [00:00<00:00, 44630.23it/s]\n",
      "optimizing parameters: 100%|██████████| 1000/1000 [00:02<00:00, 372.07it/s]\n",
      "creating design matrix: 100%|██████████| 2000/2000 [00:00<00:00, 11907.13it/s]\n"
     ]
    },
    {
     "name": "stdout",
     "output_type": "stream",
     "text": [
      "NAs per column:\n",
      "datetime                    0.000000\n",
      "index                       0.966821\n",
      "pressure_filled             0.966821\n",
      "pressure_hobo               0.845237\n",
      "rolling_average             0.817247\n",
      "pressure_combined           0.817247\n",
      "pressure_combined_filled    0.817247\n",
      "dtype: float64\n",
      "Down sampling to: 21\n"
     ]
    },
    {
     "name": "stderr",
     "output_type": "stream",
     "text": [
      "creating design matrix: 100%|██████████| 3000/3000 [00:00<00:00, 26858.39it/s]\n",
      "optimizing parameters: 100%|██████████| 1000/1000 [00:03<00:00, 258.97it/s]\n",
      "creating design matrix: 100%|██████████| 3000/3000 [00:00<00:00, 6634.68it/s]\n"
     ]
    },
    {
     "name": "stdout",
     "output_type": "stream",
     "text": [
      "NAs per column:\n",
      "datetime                    0.000000\n",
      "index                       0.948785\n",
      "pressure_filled             0.948785\n",
      "pressure_hobo               0.845237\n",
      "rolling_average             0.802235\n",
      "pressure_combined           0.802235\n",
      "pressure_combined_filled    0.802235\n",
      "dtype: float64\n",
      "Down sampling to: 16\n"
     ]
    },
    {
     "name": "stderr",
     "output_type": "stream",
     "text": [
      "creating design matrix: 100%|██████████| 4000/4000 [00:00<00:00, 24467.93it/s]\n",
      "optimizing parameters: 100%|██████████| 1000/1000 [00:04<00:00, 202.86it/s]\n",
      "creating design matrix: 100%|██████████| 4000/4000 [00:00<00:00, 4796.87it/s]\n"
     ]
    },
    {
     "name": "stdout",
     "output_type": "stream",
     "text": [
      "NAs per column:\n",
      "datetime                    0.000000\n",
      "index                       0.933657\n",
      "pressure_filled             0.933657\n",
      "pressure_hobo               0.845237\n",
      "rolling_average             0.789219\n",
      "pressure_combined           0.789219\n",
      "pressure_combined_filled    0.789219\n",
      "dtype: float64\n",
      "Working on site: HCN\n",
      "0.07066539232398736\n",
      "0.39587760457521\n",
      "Down sampling to: 70\n"
     ]
    },
    {
     "name": "stderr",
     "output_type": "stream",
     "text": [
      "creating design matrix: 100%|██████████| 1000/1000 [00:00<00:00, 38442.82it/s]\n",
      "optimizing parameters: 100%|██████████| 1000/1000 [00:01<00:00, 766.25it/s]\n",
      "creating design matrix: 100%|██████████| 1000/1000 [00:00<00:00, 24461.86it/s]\n"
     ]
    },
    {
     "name": "stdout",
     "output_type": "stream",
     "text": [
      "NAs per column:\n",
      "datetime                    0.000000\n",
      "index                       0.983738\n",
      "pressure_filled             0.983738\n",
      "pressure_hobo               0.791488\n",
      "rolling_average             0.778678\n",
      "pressure_combined           0.778678\n",
      "pressure_combined_filled    0.778678\n",
      "dtype: float64\n",
      "Down sampling to: 35\n"
     ]
    },
    {
     "name": "stderr",
     "output_type": "stream",
     "text": [
      "creating design matrix: 100%|██████████| 2000/2000 [00:00<00:00, 38952.10it/s]\n",
      "optimizing parameters: 100%|██████████| 1000/1000 [00:02<00:00, 376.61it/s]\n",
      "creating design matrix: 100%|██████████| 2000/2000 [00:00<00:00, 13722.75it/s]\n"
     ]
    },
    {
     "name": "stdout",
     "output_type": "stream",
     "text": [
      "NAs per column:\n",
      "datetime                    0.000000\n",
      "index                       0.967476\n",
      "pressure_filled             0.967476\n",
      "pressure_hobo               0.791488\n",
      "rolling_average             0.765811\n",
      "pressure_combined           0.765811\n",
      "pressure_combined_filled    0.765811\n",
      "dtype: float64\n",
      "Down sampling to: 23\n"
     ]
    },
    {
     "name": "stderr",
     "output_type": "stream",
     "text": [
      "creating design matrix: 100%|██████████| 3000/3000 [00:00<00:00, 28449.14it/s]\n",
      "optimizing parameters: 100%|██████████| 1000/1000 [00:03<00:00, 259.28it/s]\n",
      "creating design matrix: 100%|██████████| 3000/3000 [00:00<00:00, 7781.43it/s]\n"
     ]
    },
    {
     "name": "stdout",
     "output_type": "stream",
     "text": [
      "NAs per column:\n",
      "datetime                    0.000000\n",
      "index                       0.950493\n",
      "pressure_filled             0.950493\n",
      "pressure_hobo               0.791488\n",
      "rolling_average             0.752416\n",
      "pressure_combined           0.752416\n",
      "pressure_combined_filled    0.752416\n",
      "dtype: float64\n",
      "Down sampling to: 17\n"
     ]
    },
    {
     "name": "stderr",
     "output_type": "stream",
     "text": [
      "creating design matrix: 100%|██████████| 4000/4000 [00:00<00:00, 22345.13it/s]\n",
      "optimizing parameters: 100%|██████████| 1000/1000 [00:05<00:00, 192.00it/s]\n",
      "creating design matrix: 100%|██████████| 4000/4000 [00:00<00:00, 6753.93it/s]\n"
     ]
    },
    {
     "name": "stdout",
     "output_type": "stream",
     "text": [
      "NAs per column:\n",
      "datetime                    0.000000\n",
      "index                       0.933019\n",
      "pressure_filled             0.933019\n",
      "pressure_hobo               0.791488\n",
      "rolling_average             0.738643\n",
      "pressure_combined           0.738643\n",
      "pressure_combined_filled    0.738643\n",
      "dtype: float64\n",
      "Working on site: HCS\n",
      "0.11641257157692807\n",
      "0.41835419337183677\n",
      "Down sampling to: 69\n"
     ]
    },
    {
     "name": "stderr",
     "output_type": "stream",
     "text": [
      "creating design matrix: 100%|██████████| 1000/1000 [00:00<00:00, 76955.47it/s]\n",
      "optimizing parameters: 100%|██████████| 1000/1000 [00:00<00:00, 1083.49it/s]\n",
      "creating design matrix: 100%|██████████| 1000/1000 [00:00<00:00, 15037.28it/s]\n"
     ]
    },
    {
     "name": "stdout",
     "output_type": "stream",
     "text": [
      "NAs per column:\n",
      "datetime                    0.000000\n",
      "index                       0.982706\n",
      "pressure_filled             0.982706\n",
      "pressure_hobo               0.835031\n",
      "rolling_average             0.820787\n",
      "pressure_combined           0.820787\n",
      "pressure_combined_filled    0.820787\n",
      "dtype: float64\n",
      "Down sampling to: 34\n"
     ]
    },
    {
     "name": "stderr",
     "output_type": "stream",
     "text": [
      "creating design matrix: 100%|██████████| 2000/2000 [00:00<00:00, 43734.17it/s]\n",
      "optimizing parameters: 100%|██████████| 1000/1000 [00:02<00:00, 440.45it/s]\n",
      "creating design matrix: 100%|██████████| 2000/2000 [00:00<00:00, 12215.47it/s]\n"
     ]
    },
    {
     "name": "stdout",
     "output_type": "stream",
     "text": [
      "NAs per column:\n",
      "datetime                    0.000000\n",
      "index                       0.966198\n",
      "pressure_filled             0.966198\n",
      "pressure_hobo               0.835031\n",
      "rolling_average             0.807207\n",
      "pressure_combined           0.807207\n",
      "pressure_combined_filled    0.807207\n",
      "dtype: float64\n",
      "Down sampling to: 23\n"
     ]
    },
    {
     "name": "stderr",
     "output_type": "stream",
     "text": [
      "creating design matrix: 100%|██████████| 3000/3000 [00:00<00:00, 34393.35it/s]\n",
      "optimizing parameters: 100%|██████████| 1000/1000 [00:03<00:00, 287.19it/s]\n",
      "creating design matrix: 100%|██████████| 3000/3000 [00:00<00:00, 8910.52it/s]\n"
     ]
    },
    {
     "name": "stdout",
     "output_type": "stream",
     "text": [
      "NAs per column:\n",
      "datetime                    0.000000\n",
      "index                       0.950044\n",
      "pressure_filled             0.950044\n",
      "pressure_hobo               0.835031\n",
      "rolling_average             0.793923\n",
      "pressure_combined           0.793923\n",
      "pressure_combined_filled    0.793923\n",
      "dtype: float64\n",
      "Down sampling to: 17\n"
     ]
    },
    {
     "name": "stderr",
     "output_type": "stream",
     "text": [
      "creating design matrix: 100%|██████████| 4000/4000 [00:00<00:00, 28284.66it/s]\n",
      "optimizing parameters: 100%|██████████| 1000/1000 [00:04<00:00, 217.79it/s]\n",
      "creating design matrix: 100%|██████████| 4000/4000 [00:00<00:00, 6468.76it/s]\n"
     ]
    },
    {
     "name": "stdout",
     "output_type": "stream",
     "text": [
      "NAs per column:\n",
      "datetime                    0.000000\n",
      "index                       0.932433\n",
      "pressure_filled             0.932433\n",
      "pressure_hobo               0.835031\n",
      "rolling_average             0.779319\n",
      "pressure_combined           0.779319\n",
      "pressure_combined_filled    0.779319\n",
      "dtype: float64\n",
      "Working on site: IND\n",
      "0.04791934557194057\n",
      "0.40834268100279975\n",
      "Down sampling to: 54\n"
     ]
    },
    {
     "name": "stderr",
     "output_type": "stream",
     "text": [
      "creating design matrix: 100%|██████████| 1000/1000 [00:00<00:00, 71512.92it/s]\n",
      "optimizing parameters: 100%|██████████| 1000/1000 [00:01<00:00, 962.55it/s]\n",
      "creating design matrix: 100%|██████████| 1000/1000 [00:00<00:00, 24258.69it/s]\n"
     ]
    },
    {
     "name": "stdout",
     "output_type": "stream",
     "text": [
      "NAs per column:\n",
      "datetime                    0.000000\n",
      "index                       0.981478\n",
      "pressure_filled             0.981478\n",
      "pressure_hobo               0.816685\n",
      "rolling_average             0.801601\n",
      "pressure_combined           0.801601\n",
      "pressure_combined_filled    0.801601\n",
      "dtype: float64\n",
      "Down sampling to: 27\n"
     ]
    },
    {
     "name": "stderr",
     "output_type": "stream",
     "text": [
      "creating design matrix: 100%|██████████| 2000/2000 [00:00<00:00, 44721.12it/s]\n",
      "optimizing parameters: 100%|██████████| 1000/1000 [00:02<00:00, 408.52it/s]\n",
      "creating design matrix: 100%|██████████| 2000/2000 [00:00<00:00, 10451.82it/s]\n"
     ]
    },
    {
     "name": "stdout",
     "output_type": "stream",
     "text": [
      "NAs per column:\n",
      "datetime                    0.000000\n",
      "index                       0.962956\n",
      "pressure_filled             0.962956\n",
      "pressure_hobo               0.816685\n",
      "rolling_average             0.786517\n",
      "pressure_combined           0.786517\n",
      "pressure_combined_filled    0.786517\n",
      "dtype: float64\n",
      "Down sampling to: 18\n"
     ]
    },
    {
     "name": "stderr",
     "output_type": "stream",
     "text": [
      "creating design matrix: 100%|██████████| 3000/3000 [00:00<00:00, 20683.20it/s]\n",
      "optimizing parameters: 100%|██████████| 1000/1000 [00:03<00:00, 253.09it/s]\n",
      "creating design matrix: 100%|██████████| 3000/3000 [00:00<00:00, 7514.87it/s]\n"
     ]
    },
    {
     "name": "stdout",
     "output_type": "stream",
     "text": [
      "NAs per column:\n",
      "datetime                    0.000000\n",
      "index                       0.944443\n",
      "pressure_filled             0.944443\n",
      "pressure_hobo               0.816685\n",
      "rolling_average             0.771324\n",
      "pressure_combined           0.771324\n",
      "pressure_combined_filled    0.771324\n",
      "dtype: float64\n",
      "Down sampling to: 13\n"
     ]
    },
    {
     "name": "stderr",
     "output_type": "stream",
     "text": [
      "creating design matrix: 100%|██████████| 4000/4000 [00:00<00:00, 5948.99it/s]\n",
      "optimizing parameters: 100%|██████████| 1000/1000 [00:10<00:00, 95.57it/s]\n",
      "creating design matrix: 100%|██████████| 4000/4000 [00:01<00:00, 2364.68it/s]\n"
     ]
    },
    {
     "name": "stdout",
     "output_type": "stream",
     "text": [
      "NAs per column:\n",
      "datetime                    0.000000\n",
      "index                       0.923066\n",
      "pressure_filled             0.923066\n",
      "pressure_hobo               0.816685\n",
      "rolling_average             0.753851\n",
      "pressure_combined           0.753851\n",
      "pressure_combined_filled    0.753851\n",
      "dtype: float64\n",
      "Working on site: LAK\n",
      "0.22315454125561068\n",
      "0.4468538673804138\n",
      "Down sampling to: 42\n"
     ]
    },
    {
     "name": "stderr",
     "output_type": "stream",
     "text": [
      "creating design matrix: 100%|██████████| 1000/1000 [00:00<00:00, 21544.94it/s]\n",
      "optimizing parameters: 100%|██████████| 1000/1000 [00:02<00:00, 353.41it/s]\n",
      "creating design matrix: 100%|██████████| 1000/1000 [00:00<00:00, 7953.43it/s]\n"
     ]
    },
    {
     "name": "stdout",
     "output_type": "stream",
     "text": [
      "NAs per column:\n",
      "datetime                    0.000000\n",
      "index                       0.975307\n",
      "pressure_filled             0.975307\n",
      "pressure_hobo               0.893708\n",
      "rolling_average             0.871999\n",
      "pressure_combined           0.871999\n",
      "pressure_combined_filled    0.871999\n",
      "dtype: float64\n",
      "Down sampling to: 21\n"
     ]
    },
    {
     "name": "stderr",
     "output_type": "stream",
     "text": [
      "creating design matrix: 100%|██████████| 2000/2000 [00:00<00:00, 24422.76it/s]\n",
      "optimizing parameters: 100%|██████████| 1000/1000 [00:03<00:00, 257.33it/s]\n",
      "creating design matrix: 100%|██████████| 2000/2000 [00:00<00:00, 4240.66it/s]\n"
     ]
    },
    {
     "name": "stdout",
     "output_type": "stream",
     "text": [
      "NAs per column:\n",
      "datetime                    0.000000\n",
      "index                       0.950638\n",
      "pressure_filled             0.950638\n",
      "pressure_hobo               0.893708\n",
      "rolling_average             0.850172\n",
      "pressure_combined           0.850172\n",
      "pressure_combined_filled    0.850172\n",
      "dtype: float64\n",
      "Down sampling to: 14\n"
     ]
    },
    {
     "name": "stderr",
     "output_type": "stream",
     "text": [
      "creating design matrix: 100%|██████████| 3000/3000 [00:00<00:00, 17266.53it/s]\n",
      "optimizing parameters: 100%|██████████| 1000/1000 [00:05<00:00, 183.40it/s]\n",
      "creating design matrix: 100%|██████████| 3000/3000 [00:00<00:00, 3289.06it/s]\n"
     ]
    },
    {
     "name": "stdout",
     "output_type": "stream",
     "text": [
      "NAs per column:\n",
      "datetime                    0.000000\n",
      "index                       0.926182\n",
      "pressure_filled             0.926182\n",
      "pressure_hobo               0.893708\n",
      "rolling_average             0.828547\n",
      "pressure_combined           0.828547\n",
      "pressure_combined_filled    0.828547\n",
      "dtype: float64\n",
      "Down sampling to: 10\n"
     ]
    },
    {
     "name": "stderr",
     "output_type": "stream",
     "text": [
      "creating design matrix: 100%|██████████| 4000/4000 [00:00<00:00, 37701.69it/s]\n",
      "optimizing parameters: 100%|██████████| 1000/1000 [00:05<00:00, 194.71it/s]\n",
      "creating design matrix: 100%|██████████| 4000/4000 [00:00<00:00, 4404.11it/s]\n"
     ]
    },
    {
     "name": "stdout",
     "output_type": "stream",
     "text": [
      "NAs per column:\n",
      "datetime                    0.000000\n",
      "index                       0.896645\n",
      "pressure_filled             0.896645\n",
      "pressure_hobo               0.893708\n",
      "rolling_average             0.802385\n",
      "pressure_combined           0.802385\n",
      "pressure_combined_filled    0.802385\n",
      "dtype: float64\n",
      "Working on site: LDF\n",
      "0.041107033857042764\n",
      "0.40485541725500435\n",
      "Down sampling to: 42\n"
     ]
    },
    {
     "name": "stderr",
     "output_type": "stream",
     "text": [
      "creating design matrix: 100%|██████████| 1000/1000 [00:00<00:00, 20802.19it/s]\n",
      "optimizing parameters: 100%|██████████| 1000/1000 [00:02<00:00, 363.27it/s]\n",
      "creating design matrix: 100%|██████████| 1000/1000 [00:00<00:00, 7814.10it/s]\n"
     ]
    },
    {
     "name": "stdout",
     "output_type": "stream",
     "text": [
      "NAs per column:\n",
      "datetime                    0.000000\n",
      "index                       0.976190\n",
      "pressure_filled             0.976190\n",
      "pressure_hobo               0.808721\n",
      "rolling_average             0.789483\n",
      "pressure_combined           0.789483\n",
      "pressure_combined_filled    0.789483\n",
      "dtype: float64\n",
      "Down sampling to: 21\n"
     ]
    },
    {
     "name": "stderr",
     "output_type": "stream",
     "text": [
      "creating design matrix: 100%|██████████| 2000/2000 [00:00<00:00, 12710.09it/s]\n",
      "optimizing parameters: 100%|██████████| 1000/1000 [00:04<00:00, 235.34it/s]\n",
      "creating design matrix: 100%|██████████| 2000/2000 [00:00<00:00, 4225.59it/s]\n"
     ]
    },
    {
     "name": "stdout",
     "output_type": "stream",
     "text": [
      "NAs per column:\n",
      "datetime                    0.000000\n",
      "index                       0.952379\n",
      "pressure_filled             0.952379\n",
      "pressure_hobo               0.808721\n",
      "rolling_average             0.770280\n",
      "pressure_combined           0.770280\n",
      "pressure_combined_filled    0.770280\n",
      "dtype: float64\n",
      "Down sampling to: 14\n"
     ]
    },
    {
     "name": "stderr",
     "output_type": "stream",
     "text": [
      "creating design matrix: 100%|██████████| 3000/3000 [00:00<00:00, 4760.38it/s]\n",
      "optimizing parameters: 100%|██████████| 1000/1000 [00:07<00:00, 141.14it/s]\n",
      "creating design matrix: 100%|██████████| 3000/3000 [00:00<00:00, 3285.11it/s]\n"
     ]
    },
    {
     "name": "stdout",
     "output_type": "stream",
     "text": [
      "NAs per column:\n",
      "datetime                    0.000000\n",
      "index                       0.928569\n",
      "pressure_filled             0.928569\n",
      "pressure_hobo               0.808721\n",
      "rolling_average             0.751006\n",
      "pressure_combined           0.751006\n",
      "pressure_combined_filled    0.751006\n",
      "dtype: float64\n",
      "Down sampling to: 10\n"
     ]
    },
    {
     "name": "stderr",
     "output_type": "stream",
     "text": [
      "creating design matrix: 100%|██████████| 4000/4000 [00:00<00:00, 7273.24it/s]\n",
      "optimizing parameters: 100%|██████████| 1000/1000 [00:09<00:00, 104.67it/s]\n",
      "creating design matrix: 100%|██████████| 4000/4000 [00:01<00:00, 2204.42it/s]\n"
     ]
    },
    {
     "name": "stdout",
     "output_type": "stream",
     "text": [
      "NAs per column:\n",
      "datetime                    0.000000\n",
      "index                       0.899996\n",
      "pressure_filled             0.899996\n",
      "pressure_hobo               0.808721\n",
      "rolling_average             0.727849\n",
      "pressure_combined           0.727849\n",
      "pressure_combined_filled    0.727849\n",
      "dtype: float64\n",
      "Working on site: MIT\n",
      "0.032691037822370594\n",
      "0.3952459466886507\n",
      "Down sampling to: 54\n"
     ]
    },
    {
     "name": "stderr",
     "output_type": "stream",
     "text": [
      "creating design matrix: 100%|██████████| 1000/1000 [00:00<00:00, 20051.94it/s]\n",
      "optimizing parameters: 100%|██████████| 1000/1000 [00:02<00:00, 356.95it/s]\n",
      "creating design matrix: 100%|██████████| 1000/1000 [00:00<00:00, 7705.67it/s]\n"
     ]
    },
    {
     "name": "stdout",
     "output_type": "stream",
     "text": [
      "NAs per column:\n",
      "datetime                    0.000000\n",
      "index                       0.981474\n",
      "pressure_filled             0.981474\n",
      "pressure_hobo               0.789005\n",
      "rolling_average             0.774506\n",
      "pressure_combined           0.774506\n",
      "pressure_combined_filled    0.774506\n",
      "dtype: float64\n",
      "Down sampling to: 27\n"
     ]
    },
    {
     "name": "stderr",
     "output_type": "stream",
     "text": [
      "creating design matrix: 100%|██████████| 2000/2000 [00:00<00:00, 10899.38it/s]\n",
      "optimizing parameters: 100%|██████████| 1000/1000 [00:04<00:00, 242.50it/s]\n",
      "creating design matrix: 100%|██████████| 2000/2000 [00:00<00:00, 3816.47it/s]\n"
     ]
    },
    {
     "name": "stdout",
     "output_type": "stream",
     "text": [
      "NAs per column:\n",
      "datetime                    0.000000\n",
      "index                       0.962957\n",
      "pressure_filled             0.962957\n",
      "pressure_hobo               0.789005\n",
      "rolling_average             0.759694\n",
      "pressure_combined           0.759694\n",
      "pressure_combined_filled    0.759694\n",
      "dtype: float64\n",
      "Down sampling to: 18\n"
     ]
    },
    {
     "name": "stderr",
     "output_type": "stream",
     "text": [
      "creating design matrix: 100%|██████████| 3000/3000 [00:00<00:00, 7697.87it/s]\n",
      "optimizing parameters: 100%|██████████| 1000/1000 [00:07<00:00, 131.02it/s]\n",
      "creating design matrix: 100%|██████████| 3000/3000 [00:01<00:00, 2522.28it/s]\n"
     ]
    },
    {
     "name": "stdout",
     "output_type": "stream",
     "text": [
      "NAs per column:\n",
      "datetime                    0.000000\n",
      "index                       0.944431\n",
      "pressure_filled             0.944431\n",
      "pressure_hobo               0.789005\n",
      "rolling_average             0.745488\n",
      "pressure_combined           0.745488\n",
      "pressure_combined_filled    0.745488\n",
      "dtype: float64\n",
      "Down sampling to: 13\n"
     ]
    },
    {
     "name": "stderr",
     "output_type": "stream",
     "text": [
      "creating design matrix: 100%|██████████| 4000/4000 [00:00<00:00, 23640.37it/s]\n",
      "optimizing parameters: 100%|██████████| 1000/1000 [00:08<00:00, 112.47it/s]\n",
      "creating design matrix: 100%|██████████| 4000/4000 [00:00<00:00, 4211.70it/s]\n"
     ]
    },
    {
     "name": "stdout",
     "output_type": "stream",
     "text": [
      "NAs per column:\n",
      "datetime                    0.000000\n",
      "index                       0.923062\n",
      "pressure_filled             0.923062\n",
      "pressure_hobo               0.789005\n",
      "rolling_average             0.728255\n",
      "pressure_combined           0.728255\n",
      "pressure_combined_filled    0.728255\n",
      "dtype: float64\n",
      "Working on site: NEB\n",
      "0.08545329862382572\n",
      "0.4249563990254683\n",
      "Down sampling to: 75\n"
     ]
    },
    {
     "name": "stderr",
     "output_type": "stream",
     "text": [
      "creating design matrix: 100%|██████████| 1000/1000 [00:00<00:00, 99942.91it/s]\n",
      "optimizing parameters: 100%|██████████| 1000/1000 [00:00<00:00, 1130.13it/s]\n",
      "creating design matrix: 100%|██████████| 1000/1000 [00:00<00:00, 23217.46it/s]\n"
     ]
    },
    {
     "name": "stdout",
     "output_type": "stream",
     "text": [
      "NAs per column:\n",
      "datetime                    0.000000\n",
      "index                       0.985985\n",
      "pressure_filled             0.985985\n",
      "pressure_hobo               0.849706\n",
      "rolling_average             0.837769\n",
      "pressure_combined           0.837769\n",
      "pressure_combined_filled    0.837769\n",
      "dtype: float64\n",
      "Down sampling to: 37\n"
     ]
    },
    {
     "name": "stderr",
     "output_type": "stream",
     "text": [
      "creating design matrix: 100%|██████████| 2000/2000 [00:00<00:00, 62470.55it/s]\n",
      "optimizing parameters: 100%|██████████| 1000/1000 [00:01<00:00, 508.30it/s]\n",
      "creating design matrix: 100%|██████████| 2000/2000 [00:00<00:00, 13510.40it/s]\n"
     ]
    },
    {
     "name": "stdout",
     "output_type": "stream",
     "text": [
      "NAs per column:\n",
      "datetime                    0.000000\n",
      "index                       0.969387\n",
      "pressure_filled             0.969387\n",
      "pressure_hobo               0.849706\n",
      "rolling_average             0.823694\n",
      "pressure_combined           0.823694\n",
      "pressure_combined_filled    0.823694\n",
      "dtype: float64\n",
      "Down sampling to: 25\n"
     ]
    },
    {
     "name": "stderr",
     "output_type": "stream",
     "text": [
      "creating design matrix: 100%|██████████| 3000/3000 [00:00<00:00, 40493.12it/s]\n",
      "optimizing parameters: 100%|██████████| 1000/1000 [00:03<00:00, 282.37it/s]\n",
      "creating design matrix: 100%|██████████| 3000/3000 [00:00<00:00, 8439.78it/s]\n"
     ]
    },
    {
     "name": "stdout",
     "output_type": "stream",
     "text": [
      "NAs per column:\n",
      "datetime                    0.000000\n",
      "index                       0.954700\n",
      "pressure_filled             0.954700\n",
      "pressure_hobo               0.849706\n",
      "rolling_average             0.811071\n",
      "pressure_combined           0.811071\n",
      "pressure_combined_filled    0.811071\n",
      "dtype: float64\n",
      "Down sampling to: 18\n"
     ]
    },
    {
     "name": "stderr",
     "output_type": "stream",
     "text": [
      "creating design matrix: 100%|██████████| 4000/4000 [00:00<00:00, 34035.83it/s]\n",
      "optimizing parameters: 100%|██████████| 1000/1000 [00:04<00:00, 230.77it/s]\n",
      "creating design matrix: 100%|██████████| 4000/4000 [00:00<00:00, 6372.10it/s]\n"
     ]
    },
    {
     "name": "stdout",
     "output_type": "stream",
     "text": [
      "NAs per column:\n",
      "datetime                    0.000000\n",
      "index                       0.941637\n",
      "pressure_filled             0.941637\n",
      "pressure_hobo               0.849706\n",
      "rolling_average             0.800245\n",
      "pressure_combined           0.800245\n",
      "pressure_combined_filled    0.800245\n",
      "dtype: float64\n",
      "Working on site: PBC\n",
      "0.16232029421598126\n",
      "0.43448638661500166\n",
      "Down sampling to: 58\n"
     ]
    },
    {
     "name": "stderr",
     "output_type": "stream",
     "text": [
      "creating design matrix: 100%|██████████| 1000/1000 [00:00<00:00, 99144.40it/s]\n",
      "optimizing parameters: 100%|██████████| 1000/1000 [00:00<00:00, 1108.05it/s]\n",
      "creating design matrix: 100%|██████████| 1000/1000 [00:00<00:00, 27986.65it/s]\n"
     ]
    },
    {
     "name": "stdout",
     "output_type": "stream",
     "text": [
      "NAs per column:\n",
      "datetime                    0.000000\n",
      "index                       0.982143\n",
      "pressure_filled             0.982143\n",
      "pressure_hobo               0.866471\n",
      "rolling_average             0.851066\n",
      "pressure_combined           0.851066\n",
      "pressure_combined_filled    0.851066\n",
      "dtype: float64\n",
      "Down sampling to: 29\n"
     ]
    },
    {
     "name": "stderr",
     "output_type": "stream",
     "text": [
      "creating design matrix: 100%|██████████| 2000/2000 [00:00<00:00, 54056.23it/s]\n",
      "optimizing parameters: 100%|██████████| 1000/1000 [00:01<00:00, 572.66it/s]\n",
      "creating design matrix: 100%|██████████| 2000/2000 [00:00<00:00, 13247.12it/s]\n"
     ]
    },
    {
     "name": "stdout",
     "output_type": "stream",
     "text": [
      "NAs per column:\n",
      "datetime                    0.000000\n",
      "index                       0.964312\n",
      "pressure_filled             0.964312\n",
      "pressure_hobo               0.866471\n",
      "rolling_average             0.835592\n",
      "pressure_combined           0.835592\n",
      "pressure_combined_filled    0.835592\n",
      "dtype: float64\n",
      "Down sampling to: 19\n"
     ]
    },
    {
     "name": "stderr",
     "output_type": "stream",
     "text": [
      "creating design matrix: 100%|██████████| 3000/3000 [00:00<00:00, 42639.63it/s]\n",
      "optimizing parameters: 100%|██████████| 1000/1000 [00:03<00:00, 321.68it/s]\n",
      "creating design matrix: 100%|██████████| 3000/3000 [00:00<00:00, 9093.36it/s]\n"
     ]
    },
    {
     "name": "stdout",
     "output_type": "stream",
     "text": [
      "NAs per column:\n",
      "datetime                    0.000000\n",
      "index                       0.945529\n",
      "pressure_filled             0.945529\n",
      "pressure_hobo               0.866471\n",
      "rolling_average             0.819347\n",
      "pressure_combined           0.819347\n",
      "pressure_combined_filled    0.819347\n",
      "dtype: float64\n",
      "Down sampling to: 14\n"
     ]
    },
    {
     "name": "stderr",
     "output_type": "stream",
     "text": [
      "creating design matrix: 100%|██████████| 4000/4000 [00:00<00:00, 35039.84it/s]\n",
      "optimizing parameters: 100%|██████████| 1000/1000 [00:04<00:00, 244.59it/s]\n",
      "creating design matrix: 100%|██████████| 4000/4000 [00:00<00:00, 6668.71it/s]\n"
     ]
    },
    {
     "name": "stdout",
     "output_type": "stream",
     "text": [
      "NAs per column:\n",
      "datetime                    0.000000\n",
      "index                       0.926060\n",
      "pressure_filled             0.926060\n",
      "pressure_hobo               0.866471\n",
      "rolling_average             0.802707\n",
      "pressure_combined           0.802707\n",
      "pressure_combined_filled    0.802707\n",
      "dtype: float64\n",
      "Working on site: SBL\n",
      "0.01235711201508988\n",
      "0.3948925586043976\n",
      "Down sampling to: 44\n"
     ]
    },
    {
     "name": "stderr",
     "output_type": "stream",
     "text": [
      "creating design matrix: 100%|██████████| 1000/1000 [00:00<00:00, 67013.44it/s]\n",
      "optimizing parameters: 100%|██████████| 1000/1000 [00:00<00:00, 1065.97it/s]\n",
      "creating design matrix: 100%|██████████| 1000/1000 [00:00<00:00, 13600.38it/s]\n"
     ]
    },
    {
     "name": "stdout",
     "output_type": "stream",
     "text": [
      "NAs per column:\n",
      "datetime                    0.000000\n",
      "index                       0.972206\n",
      "pressure_filled             0.972206\n",
      "pressure_hobo               0.789208\n",
      "rolling_average             0.767584\n",
      "pressure_combined           0.767584\n",
      "pressure_combined_filled    0.767584\n",
      "dtype: float64\n",
      "Down sampling to: 22\n"
     ]
    },
    {
     "name": "stderr",
     "output_type": "stream",
     "text": [
      "creating design matrix: 100%|██████████| 2000/2000 [00:00<00:00, 38325.32it/s]\n",
      "optimizing parameters: 100%|██████████| 1000/1000 [00:02<00:00, 387.62it/s]\n",
      "creating design matrix: 100%|██████████| 2000/2000 [00:00<00:00, 14420.48it/s]\n"
     ]
    },
    {
     "name": "stdout",
     "output_type": "stream",
     "text": [
      "NAs per column:\n",
      "datetime                    0.000000\n",
      "index                       0.944447\n",
      "pressure_filled             0.944447\n",
      "pressure_hobo               0.789208\n",
      "rolling_average             0.745983\n",
      "pressure_combined           0.745983\n",
      "pressure_combined_filled    0.745983\n",
      "dtype: float64\n",
      "Down sampling to: 14\n"
     ]
    },
    {
     "name": "stderr",
     "output_type": "stream",
     "text": [
      "creating design matrix: 100%|██████████| 3000/3000 [00:00<00:00, 33883.33it/s]\n",
      "optimizing parameters: 100%|██████████| 1000/1000 [00:03<00:00, 273.79it/s]\n",
      "creating design matrix: 100%|██████████| 3000/3000 [00:00<00:00, 9067.23it/s]\n"
     ]
    },
    {
     "name": "stdout",
     "output_type": "stream",
     "text": [
      "NAs per column:\n",
      "datetime                    0.000000\n",
      "index                       0.912688\n",
      "pressure_filled             0.912688\n",
      "pressure_hobo               0.789208\n",
      "rolling_average             0.721087\n",
      "pressure_combined           0.721087\n",
      "pressure_combined_filled    0.721087\n",
      "dtype: float64\n",
      "Down sampling to: 11\n"
     ]
    },
    {
     "name": "stderr",
     "output_type": "stream",
     "text": [
      "creating design matrix: 100%|██████████| 4000/4000 [00:00<00:00, 20453.68it/s]\n",
      "optimizing parameters: 100%|██████████| 1000/1000 [00:05<00:00, 176.74it/s]\n",
      "creating design matrix: 100%|██████████| 4000/4000 [00:00<00:00, 6941.96it/s]\n"
     ]
    },
    {
     "name": "stdout",
     "output_type": "stream",
     "text": [
      "NAs per column:\n",
      "datetime                    0.000000\n",
      "index                       0.888883\n",
      "pressure_filled             0.888883\n",
      "pressure_hobo               0.789208\n",
      "rolling_average             0.702554\n",
      "pressure_combined           0.702554\n",
      "pressure_combined_filled    0.702554\n",
      "dtype: float64\n",
      "Working on site: SFL\n",
      "0.13964089220807596\n",
      "0.4252278006074683\n",
      "Down sampling to: 50\n"
     ]
    },
    {
     "name": "stderr",
     "output_type": "stream",
     "text": [
      "creating design matrix: 100%|██████████| 1000/1000 [00:00<00:00, 109306.37it/s]\n",
      "optimizing parameters: 100%|██████████| 1000/1000 [00:00<00:00, 1049.90it/s]\n",
      "creating design matrix: 100%|██████████| 1000/1000 [00:00<00:00, 24708.42it/s]\n"
     ]
    },
    {
     "name": "stdout",
     "output_type": "stream",
     "text": [
      "NAs per column:\n",
      "datetime                    0.000000\n",
      "index                       0.979999\n",
      "pressure_filled             0.979999\n",
      "pressure_hobo               0.849862\n",
      "rolling_average             0.832860\n",
      "pressure_combined           0.832860\n",
      "pressure_combined_filled    0.832860\n",
      "dtype: float64\n",
      "Down sampling to: 25\n"
     ]
    },
    {
     "name": "stderr",
     "output_type": "stream",
     "text": [
      "creating design matrix: 100%|██████████| 2000/2000 [00:00<00:00, 65656.03it/s]\n",
      "optimizing parameters: 100%|██████████| 1000/1000 [00:01<00:00, 516.03it/s]\n",
      "creating design matrix: 100%|██████████| 2000/2000 [00:00<00:00, 13702.04it/s]\n"
     ]
    },
    {
     "name": "stdout",
     "output_type": "stream",
     "text": [
      "NAs per column:\n",
      "datetime                    0.000000\n",
      "index                       0.959998\n",
      "pressure_filled             0.959998\n",
      "pressure_hobo               0.849862\n",
      "rolling_average             0.815818\n",
      "pressure_combined           0.815818\n",
      "pressure_combined_filled    0.815818\n",
      "dtype: float64\n",
      "Down sampling to: 16\n"
     ]
    },
    {
     "name": "stderr",
     "output_type": "stream",
     "text": [
      "creating design matrix: 100%|██████████| 3000/3000 [00:00<00:00, 48227.21it/s]\n",
      "optimizing parameters: 100%|██████████| 1000/1000 [00:03<00:00, 287.15it/s]\n",
      "creating design matrix: 100%|██████████| 3000/3000 [00:00<00:00, 8247.90it/s]\n"
     ]
    },
    {
     "name": "stdout",
     "output_type": "stream",
     "text": [
      "NAs per column:\n",
      "datetime                    0.000000\n",
      "index                       0.937474\n",
      "pressure_filled             0.937474\n",
      "pressure_hobo               0.849862\n",
      "rolling_average             0.796760\n",
      "pressure_combined           0.796760\n",
      "pressure_combined_filled    0.796760\n",
      "dtype: float64\n",
      "Down sampling to: 12\n"
     ]
    },
    {
     "name": "stderr",
     "output_type": "stream",
     "text": [
      "creating design matrix: 100%|██████████| 4000/4000 [00:00<00:00, 34465.14it/s]\n",
      "optimizing parameters: 100%|██████████| 1000/1000 [00:04<00:00, 243.91it/s]\n",
      "creating design matrix: 100%|██████████| 4000/4000 [00:00<00:00, 6460.41it/s]\n"
     ]
    },
    {
     "name": "stdout",
     "output_type": "stream",
     "text": [
      "NAs per column:\n",
      "datetime                    0.000000\n",
      "index                       0.916648\n",
      "pressure_filled             0.916648\n",
      "pressure_hobo               0.849862\n",
      "rolling_average             0.779073\n",
      "pressure_combined           0.779073\n",
      "pressure_combined_filled    0.779073\n",
      "dtype: float64\n",
      "Working on site: SHE\n",
      "0.15928761937537642\n",
      "0.4303011593606366\n",
      "Down sampling to: 29\n"
     ]
    },
    {
     "name": "stderr",
     "output_type": "stream",
     "text": [
      "creating design matrix: 100%|██████████| 1000/1000 [00:00<00:00, 89189.27it/s]\n",
      "optimizing parameters: 100%|██████████| 1000/1000 [00:01<00:00, 540.25it/s]\n",
      "creating design matrix: 100%|██████████| 1000/1000 [00:00<00:00, 14872.05it/s]\n"
     ]
    },
    {
     "name": "stdout",
     "output_type": "stream",
     "text": [
      "NAs per column:\n",
      "datetime                    0.000000\n",
      "index                       0.958771\n",
      "pressure_filled             0.958771\n",
      "pressure_hobo               0.856818\n",
      "rolling_average             0.822163\n",
      "pressure_combined           0.822163\n",
      "pressure_combined_filled    0.822163\n",
      "dtype: float64\n",
      "Down sampling to: 14\n"
     ]
    },
    {
     "name": "stderr",
     "output_type": "stream",
     "text": [
      "creating design matrix: 100%|██████████| 2000/2000 [00:00<00:00, 45693.07it/s]\n",
      "optimizing parameters: 100%|██████████| 1000/1000 [00:02<00:00, 373.36it/s]\n",
      "creating design matrix: 100%|██████████| 2000/2000 [00:00<00:00, 11056.63it/s]\n"
     ]
    },
    {
     "name": "stdout",
     "output_type": "stream",
     "text": [
      "NAs per column:\n",
      "datetime                    0.000000\n",
      "index                       0.914669\n",
      "pressure_filled             0.914669\n",
      "pressure_hobo               0.856818\n",
      "rolling_average             0.784909\n",
      "pressure_combined           0.784909\n",
      "pressure_combined_filled    0.784909\n",
      "dtype: float64\n",
      "Down sampling to: 9\n"
     ]
    },
    {
     "name": "stderr",
     "output_type": "stream",
     "text": [
      "creating design matrix: 100%|██████████| 3000/3000 [00:00<00:00, 35478.50it/s]\n",
      "optimizing parameters: 100%|██████████| 1000/1000 [00:03<00:00, 290.33it/s]\n",
      "creating design matrix: 100%|██████████| 3000/3000 [00:00<00:00, 7196.71it/s]\n"
     ]
    },
    {
     "name": "stdout",
     "output_type": "stream",
     "text": [
      "NAs per column:\n",
      "datetime                    0.000000\n",
      "index                       0.873785\n",
      "pressure_filled             0.873785\n",
      "pressure_hobo               0.856818\n",
      "rolling_average             0.750047\n",
      "pressure_combined           0.750047\n",
      "pressure_combined_filled    0.750047\n",
      "dtype: float64\n",
      "Down sampling to: 7\n"
     ]
    },
    {
     "name": "stderr",
     "output_type": "stream",
     "text": [
      "creating design matrix: 100%|██████████| 4000/4000 [00:00<00:00, 37191.79it/s]\n",
      "optimizing parameters: 100%|██████████| 1000/1000 [00:04<00:00, 223.19it/s]\n",
      "creating design matrix: 100%|██████████| 4000/4000 [00:00<00:00, 5870.69it/s]\n"
     ]
    },
    {
     "name": "stdout",
     "output_type": "stream",
     "text": [
      "NAs per column:\n",
      "datetime                    0.000000\n",
      "index                       0.829132\n",
      "pressure_filled             0.829132\n",
      "pressure_hobo               0.856818\n",
      "rolling_average             0.712708\n",
      "pressure_combined           0.712708\n",
      "pressure_combined_filled    0.712708\n",
      "dtype: float64\n",
      "Working on site: SHE_\n",
      "0.1784244238515551\n",
      "0.4328497432070585\n",
      "Down sampling to: 22\n"
     ]
    },
    {
     "name": "stderr",
     "output_type": "stream",
     "text": [
      "creating design matrix: 100%|██████████| 1000/1000 [00:00<00:00, 132270.70it/s]\n",
      "optimizing parameters: 100%|██████████| 1000/1000 [00:00<00:00, 1227.62it/s]\n",
      "creating design matrix: 100%|██████████| 1000/1000 [00:00<00:00, 22956.45it/s]\n"
     ]
    },
    {
     "name": "stdout",
     "output_type": "stream",
     "text": [
      "NAs per column:\n",
      "datetime                    0.000000\n",
      "index                       0.943123\n",
      "pressure_filled             0.943123\n",
      "pressure_hobo               0.862429\n",
      "rolling_average             0.814664\n",
      "pressure_combined           0.814664\n",
      "pressure_combined_filled    0.814664\n",
      "dtype: float64\n",
      "Down sampling to: 11\n"
     ]
    },
    {
     "name": "stderr",
     "output_type": "stream",
     "text": [
      "creating design matrix: 100%|██████████| 2000/2000 [00:00<00:00, 70273.42it/s]\n",
      "optimizing parameters: 100%|██████████| 1000/1000 [00:01<00:00, 726.26it/s]\n",
      "creating design matrix: 100%|██████████| 2000/2000 [00:00<00:00, 13414.97it/s]\n"
     ]
    },
    {
     "name": "stdout",
     "output_type": "stream",
     "text": [
      "NAs per column:\n",
      "datetime                    0.000000\n",
      "index                       0.886245\n",
      "pressure_filled             0.886245\n",
      "pressure_hobo               0.862429\n",
      "rolling_average             0.766547\n",
      "pressure_combined           0.766547\n",
      "pressure_combined_filled    0.766547\n",
      "dtype: float64\n",
      "Down sampling to: 7\n"
     ]
    },
    {
     "name": "stderr",
     "output_type": "stream",
     "text": [
      "creating design matrix: 100%|██████████| 3000/3000 [00:00<00:00, 54098.88it/s]\n",
      "optimizing parameters: 100%|██████████| 1000/1000 [00:02<00:00, 353.63it/s]\n",
      "creating design matrix: 100%|██████████| 3000/3000 [00:00<00:00, 9466.57it/s]\n"
     ]
    },
    {
     "name": "stdout",
     "output_type": "stream",
     "text": [
      "NAs per column:\n",
      "datetime                    0.000000\n",
      "index                       0.821311\n",
      "pressure_filled             0.821311\n",
      "pressure_hobo               0.862429\n",
      "rolling_average             0.711849\n",
      "pressure_combined           0.711849\n",
      "pressure_combined_filled    0.711849\n",
      "dtype: float64\n",
      "Down sampling to: 5\n"
     ]
    },
    {
     "name": "stderr",
     "output_type": "stream",
     "text": [
      "creating design matrix: 100%|██████████| 4000/4000 [00:00<00:00, 40326.94it/s]\n",
      "optimizing parameters: 100%|██████████| 1000/1000 [00:03<00:00, 250.20it/s]\n",
      "creating design matrix: 100%|██████████| 4000/4000 [00:00<00:00, 7223.76it/s]\n"
     ]
    },
    {
     "name": "stdout",
     "output_type": "stream",
     "text": [
      "NAs per column:\n",
      "datetime                    0.000000\n",
      "index                       0.749730\n",
      "pressure_filled             0.749730\n",
      "pressure_hobo               0.862429\n",
      "rolling_average             0.651648\n",
      "pressure_combined           0.651648\n",
      "pressure_combined_filled    0.651648\n",
      "dtype: float64\n",
      "Working on site: SOL\n",
      "0.09468356222568314\n",
      "0.41985046530742104\n",
      "Down sampling to: 56\n"
     ]
    },
    {
     "name": "stderr",
     "output_type": "stream",
     "text": [
      "creating design matrix: 100%|██████████| 1000/1000 [00:00<00:00, 90961.03it/s]\n",
      "optimizing parameters: 100%|██████████| 1000/1000 [00:01<00:00, 751.39it/s]\n",
      "creating design matrix: 100%|██████████| 1000/1000 [00:00<00:00, 21577.19it/s]\n"
     ]
    },
    {
     "name": "stdout",
     "output_type": "stream",
     "text": [
      "NAs per column:\n",
      "datetime                    0.000000\n",
      "index                       0.982134\n",
      "pressure_filled             0.982134\n",
      "pressure_hobo               0.838233\n",
      "rolling_average             0.823216\n",
      "pressure_combined           0.823216\n",
      "pressure_combined_filled    0.823216\n",
      "dtype: float64\n",
      "Down sampling to: 28\n"
     ]
    },
    {
     "name": "stderr",
     "output_type": "stream",
     "text": [
      "creating design matrix: 100%|██████████| 2000/2000 [00:00<00:00, 47520.79it/s]\n",
      "optimizing parameters: 100%|██████████| 1000/1000 [00:02<00:00, 484.72it/s]\n",
      "creating design matrix: 100%|██████████| 2000/2000 [00:00<00:00, 13296.28it/s]\n"
     ]
    },
    {
     "name": "stdout",
     "output_type": "stream",
     "text": [
      "NAs per column:\n",
      "datetime                    0.000000\n",
      "index                       0.964277\n",
      "pressure_filled             0.964277\n",
      "pressure_hobo               0.838233\n",
      "rolling_average             0.808341\n",
      "pressure_combined           0.808341\n",
      "pressure_combined_filled    0.808341\n",
      "dtype: float64\n",
      "Down sampling to: 18\n"
     ]
    },
    {
     "name": "stderr",
     "output_type": "stream",
     "text": [
      "creating design matrix: 100%|██████████| 3000/3000 [00:00<00:00, 41089.07it/s]\n",
      "optimizing parameters: 100%|██████████| 1000/1000 [00:02<00:00, 343.89it/s]\n",
      "creating design matrix: 100%|██████████| 3000/3000 [00:00<00:00, 9663.41it/s]\n"
     ]
    },
    {
     "name": "stdout",
     "output_type": "stream",
     "text": [
      "NAs per column:\n",
      "datetime                    0.000000\n",
      "index                       0.944438\n",
      "pressure_filled             0.944438\n",
      "pressure_hobo               0.838233\n",
      "rolling_average             0.791687\n",
      "pressure_combined           0.791687\n",
      "pressure_combined_filled    0.791687\n",
      "dtype: float64\n",
      "Down sampling to: 14\n"
     ]
    },
    {
     "name": "stderr",
     "output_type": "stream",
     "text": [
      "creating design matrix: 100%|██████████| 4000/4000 [00:00<00:00, 31597.41it/s]\n",
      "optimizing parameters: 100%|██████████| 1000/1000 [00:08<00:00, 124.02it/s]\n",
      "creating design matrix: 100%|██████████| 4000/4000 [00:01<00:00, 2651.99it/s]\n"
     ]
    },
    {
     "name": "stdout",
     "output_type": "stream",
     "text": [
      "NAs per column:\n",
      "datetime                    0.000000\n",
      "index                       0.928563\n",
      "pressure_filled             0.928563\n",
      "pressure_hobo               0.838233\n",
      "rolling_average             0.778405\n",
      "pressure_combined           0.778405\n",
      "pressure_combined_filled    0.778405\n",
      "dtype: float64\n",
      "Working on site: SOL_\n",
      "0.16320048485392652\n",
      "0.4287590208644317\n",
      "Down sampling to: 44\n"
     ]
    },
    {
     "name": "stderr",
     "output_type": "stream",
     "text": [
      "creating design matrix: 100%|██████████| 1000/1000 [00:00<00:00, 31904.58it/s]\n",
      "optimizing parameters: 100%|██████████| 1000/1000 [00:02<00:00, 354.54it/s]\n",
      "creating design matrix: 100%|██████████| 1000/1000 [00:00<00:00, 9124.48it/s]\n"
     ]
    },
    {
     "name": "stdout",
     "output_type": "stream",
     "text": [
      "NAs per column:\n",
      "datetime                    0.000000\n",
      "index                       0.977272\n",
      "pressure_filled             0.977272\n",
      "pressure_hobo               0.857518\n",
      "rolling_average             0.837967\n",
      "pressure_combined           0.837967\n",
      "pressure_combined_filled    0.837967\n",
      "dtype: float64\n",
      "Down sampling to: 22\n"
     ]
    },
    {
     "name": "stderr",
     "output_type": "stream",
     "text": [
      "creating design matrix: 100%|██████████| 2000/2000 [00:00<00:00, 18194.45it/s]\n",
      "optimizing parameters: 100%|██████████| 1000/1000 [00:03<00:00, 263.50it/s]\n",
      "creating design matrix: 100%|██████████| 2000/2000 [00:00<00:00, 4839.60it/s]\n"
     ]
    },
    {
     "name": "stdout",
     "output_type": "stream",
     "text": [
      "NAs per column:\n",
      "datetime                    0.000000\n",
      "index                       0.954545\n",
      "pressure_filled             0.954545\n",
      "pressure_hobo               0.857518\n",
      "rolling_average             0.818415\n",
      "pressure_combined           0.818415\n",
      "pressure_combined_filled    0.818415\n",
      "dtype: float64\n",
      "Down sampling to: 14\n"
     ]
    },
    {
     "name": "stderr",
     "output_type": "stream",
     "text": [
      "creating design matrix: 100%|██████████| 3000/3000 [00:00<00:00, 12715.88it/s]\n",
      "optimizing parameters: 100%|██████████| 1000/1000 [00:05<00:00, 184.95it/s]\n",
      "creating design matrix: 100%|██████████| 3000/3000 [00:00<00:00, 3263.88it/s]\n"
     ]
    },
    {
     "name": "stdout",
     "output_type": "stream",
     "text": [
      "NAs per column:\n",
      "datetime                    0.000000\n",
      "index                       0.928563\n",
      "pressure_filled             0.928563\n",
      "pressure_hobo               0.857518\n",
      "rolling_average             0.796227\n",
      "pressure_combined           0.796227\n",
      "pressure_combined_filled    0.796227\n",
      "dtype: float64\n",
      "Down sampling to: 11\n"
     ]
    },
    {
     "name": "stderr",
     "output_type": "stream",
     "text": [
      "creating design matrix: 100%|██████████| 4000/4000 [00:00<00:00, 11072.71it/s]\n",
      "optimizing parameters: 100%|██████████| 1000/1000 [00:07<00:00, 129.53it/s]\n",
      "creating design matrix: 100%|██████████| 4000/4000 [00:01<00:00, 2535.45it/s]\n"
     ]
    },
    {
     "name": "stdout",
     "output_type": "stream",
     "text": [
      "NAs per column:\n",
      "datetime                    0.000000\n",
      "index                       0.909090\n",
      "pressure_filled             0.909090\n",
      "pressure_hobo               0.857518\n",
      "rolling_average             0.779549\n",
      "pressure_combined           0.779549\n",
      "pressure_combined_filled    0.779549\n",
      "dtype: float64\n",
      "Working on site: STR\n",
      "0.06405171787608048\n",
      "0.4122175028630242\n",
      "Down sampling to: 34\n"
     ]
    },
    {
     "name": "stderr",
     "output_type": "stream",
     "text": [
      "creating design matrix: 100%|██████████| 1000/1000 [00:00<00:00, 31722.40it/s]\n",
      "optimizing parameters: 100%|██████████| 1000/1000 [00:02<00:00, 380.01it/s]\n",
      "creating design matrix: 100%|██████████| 1000/1000 [00:00<00:00, 8043.69it/s]\n"
     ]
    },
    {
     "name": "stdout",
     "output_type": "stream",
     "text": [
      "NAs per column:\n",
      "datetime                    0.000000\n",
      "index                       0.970582\n",
      "pressure_filled             0.970582\n",
      "pressure_hobo               0.821907\n",
      "rolling_average             0.797777\n",
      "pressure_combined           0.797777\n",
      "pressure_combined_filled    0.797777\n",
      "dtype: float64\n",
      "Down sampling to: 17\n"
     ]
    },
    {
     "name": "stderr",
     "output_type": "stream",
     "text": [
      "creating design matrix: 100%|██████████| 2000/2000 [00:00<00:00, 14198.63it/s]\n",
      "optimizing parameters: 100%|██████████| 1000/1000 [00:04<00:00, 243.59it/s]\n",
      "creating design matrix: 100%|██████████| 2000/2000 [00:00<00:00, 4461.74it/s]\n"
     ]
    },
    {
     "name": "stdout",
     "output_type": "stream",
     "text": [
      "NAs per column:\n",
      "datetime                    0.000000\n",
      "index                       0.941164\n",
      "pressure_filled             0.941164\n",
      "pressure_hobo               0.821907\n",
      "rolling_average             0.773662\n",
      "pressure_combined           0.773662\n",
      "pressure_combined_filled    0.773662\n",
      "dtype: float64\n",
      "Down sampling to: 11\n"
     ]
    },
    {
     "name": "stderr",
     "output_type": "stream",
     "text": [
      "creating design matrix: 100%|██████████| 3000/3000 [00:00<00:00, 43493.29it/s]\n",
      "optimizing parameters: 100%|██████████| 1000/1000 [00:03<00:00, 327.49it/s]\n",
      "creating design matrix: 100%|██████████| 3000/3000 [00:00<00:00, 8601.17it/s]\n"
     ]
    },
    {
     "name": "stdout",
     "output_type": "stream",
     "text": [
      "NAs per column:\n",
      "datetime                    0.000000\n",
      "index                       0.909072\n",
      "pressure_filled             0.909072\n",
      "pressure_hobo               0.821907\n",
      "rolling_average             0.747120\n",
      "pressure_combined           0.747120\n",
      "pressure_combined_filled    0.747120\n",
      "dtype: float64\n",
      "Down sampling to: 8\n"
     ]
    },
    {
     "name": "stderr",
     "output_type": "stream",
     "text": [
      "creating design matrix: 100%|██████████| 4000/4000 [00:00<00:00, 21536.37it/s]\n"
     ]
    },
    {
     "name": "stdout",
     "output_type": "stream",
     "text": [
      "SVD did not converge in Linear Least Squares\n",
      "Working on site: TCU\n",
      "0.04804381456160487\n",
      "0.40481152441049484\n",
      "Down sampling to: 60\n"
     ]
    },
    {
     "name": "stderr",
     "output_type": "stream",
     "text": [
      "creating design matrix: 100%|██████████| 1000/1000 [00:00<00:00, 31988.77it/s]\n",
      "optimizing parameters: 100%|██████████| 1000/1000 [00:02<00:00, 398.37it/s]\n",
      "creating design matrix: 100%|██████████| 1000/1000 [00:00<00:00, 8806.23it/s]\n"
     ]
    },
    {
     "name": "stdout",
     "output_type": "stream",
     "text": [
      "NAs per column:\n",
      "datetime                    0.000000\n",
      "index                       0.979656\n",
      "pressure_filled             0.979656\n",
      "pressure_hobo               0.807584\n",
      "rolling_average             0.791332\n",
      "pressure_combined           0.791332\n",
      "pressure_combined_filled    0.791332\n",
      "dtype: float64\n",
      "Down sampling to: 30\n"
     ]
    },
    {
     "name": "stderr",
     "output_type": "stream",
     "text": [
      "creating design matrix: 100%|██████████| 2000/2000 [00:00<00:00, 12799.73it/s]\n",
      "optimizing parameters: 100%|██████████| 1000/1000 [00:03<00:00, 262.51it/s]\n",
      "creating design matrix: 100%|██████████| 2000/2000 [00:00<00:00, 4702.53it/s]\n"
     ]
    },
    {
     "name": "stdout",
     "output_type": "stream",
     "text": [
      "NAs per column:\n",
      "datetime                    0.000000\n",
      "index                       0.959329\n",
      "pressure_filled             0.959329\n",
      "pressure_hobo               0.807584\n",
      "rolling_average             0.775105\n",
      "pressure_combined           0.775105\n",
      "pressure_combined_filled    0.775105\n",
      "dtype: float64\n",
      "Down sampling to: 20\n"
     ]
    },
    {
     "name": "stderr",
     "output_type": "stream",
     "text": [
      "creating design matrix: 100%|██████████| 3000/3000 [00:00<00:00, 11446.52it/s]\n",
      "optimizing parameters: 100%|██████████| 1000/1000 [00:05<00:00, 171.10it/s]\n",
      "creating design matrix: 100%|██████████| 3000/3000 [00:00<00:00, 3116.77it/s]\n"
     ]
    },
    {
     "name": "stdout",
     "output_type": "stream",
     "text": [
      "NAs per column:\n",
      "datetime                    0.000000\n",
      "index                       0.941522\n",
      "pressure_filled             0.941522\n",
      "pressure_hobo               0.807584\n",
      "rolling_average             0.760708\n",
      "pressure_combined           0.760708\n",
      "pressure_combined_filled    0.760708\n",
      "dtype: float64\n",
      "Down sampling to: 15\n"
     ]
    },
    {
     "name": "stderr",
     "output_type": "stream",
     "text": [
      "creating design matrix: 100%|██████████| 4000/4000 [00:00<00:00, 8199.46it/s]\n",
      "optimizing parameters: 100%|██████████| 1000/1000 [00:08<00:00, 118.54it/s]\n",
      "creating design matrix: 100%|██████████| 4000/4000 [00:01<00:00, 2489.50it/s]\n"
     ]
    },
    {
     "name": "stdout",
     "output_type": "stream",
     "text": [
      "NAs per column:\n",
      "datetime                    0.000000\n",
      "index                       0.918692\n",
      "pressure_filled             0.918692\n",
      "pressure_hobo               0.807584\n",
      "rolling_average             0.742577\n",
      "pressure_combined           0.742577\n",
      "pressure_combined_filled    0.742577\n",
      "dtype: float64\n",
      "Working on site: TIE\n",
      "0.11920049306048573\n",
      "0.42578432518804316\n",
      "Down sampling to: 64\n"
     ]
    },
    {
     "name": "stderr",
     "output_type": "stream",
     "text": [
      "creating design matrix: 100%|██████████| 1000/1000 [00:00<00:00, 29430.61it/s]\n",
      "optimizing parameters: 100%|██████████| 1000/1000 [00:01<00:00, 554.67it/s]\n",
      "creating design matrix: 100%|██████████| 1000/1000 [00:00<00:00, 10607.00it/s]\n"
     ]
    },
    {
     "name": "stdout",
     "output_type": "stream",
     "text": [
      "NAs per column:\n",
      "datetime                    0.000000\n",
      "index                       0.983765\n",
      "pressure_filled             0.983765\n",
      "pressure_hobo               0.850529\n",
      "rolling_average             0.836736\n",
      "pressure_combined           0.836736\n",
      "pressure_combined_filled    0.836736\n",
      "dtype: float64\n",
      "Down sampling to: 32\n"
     ]
    },
    {
     "name": "stderr",
     "output_type": "stream",
     "text": [
      "creating design matrix: 100%|██████████| 2000/2000 [00:00<00:00, 14102.41it/s]\n",
      "optimizing parameters: 100%|██████████| 1000/1000 [00:03<00:00, 296.04it/s]\n",
      "creating design matrix: 100%|██████████| 2000/2000 [00:00<00:00, 4239.12it/s]\n"
     ]
    },
    {
     "name": "stdout",
     "output_type": "stream",
     "text": [
      "NAs per column:\n",
      "datetime                    0.000000\n",
      "index                       0.967561\n",
      "pressure_filled             0.967561\n",
      "pressure_hobo               0.850529\n",
      "rolling_average             0.822959\n",
      "pressure_combined           0.822959\n",
      "pressure_combined_filled    0.822959\n",
      "dtype: float64\n",
      "Down sampling to: 21\n"
     ]
    },
    {
     "name": "stderr",
     "output_type": "stream",
     "text": [
      "creating design matrix: 100%|██████████| 3000/3000 [00:00<00:00, 11975.90it/s]\n",
      "optimizing parameters: 100%|██████████| 1000/1000 [00:05<00:00, 198.23it/s]\n",
      "creating design matrix: 100%|██████████| 3000/3000 [00:00<00:00, 3077.67it/s]\n"
     ]
    },
    {
     "name": "stdout",
     "output_type": "stream",
     "text": [
      "NAs per column:\n",
      "datetime                    0.000000\n",
      "index                       0.950304\n",
      "pressure_filled             0.950304\n",
      "pressure_hobo               0.850529\n",
      "rolling_average             0.808440\n",
      "pressure_combined           0.808440\n",
      "pressure_combined_filled    0.808440\n",
      "dtype: float64\n",
      "Down sampling to: 16\n"
     ]
    },
    {
     "name": "stderr",
     "output_type": "stream",
     "text": [
      "creating design matrix: 100%|██████████| 4000/4000 [00:00<00:00, 28578.51it/s]\n",
      "optimizing parameters: 100%|██████████| 1000/1000 [00:04<00:00, 207.58it/s]\n",
      "creating design matrix: 100%|██████████| 4000/4000 [00:00<00:00, 6277.73it/s]\n"
     ]
    },
    {
     "name": "stdout",
     "output_type": "stream",
     "text": [
      "NAs per column:\n",
      "datetime                    0.000000\n",
      "index                       0.935130\n",
      "pressure_filled             0.935130\n",
      "pressure_hobo               0.850529\n",
      "rolling_average             0.795458\n",
      "pressure_combined           0.795458\n",
      "pressure_combined_filled    0.795458\n",
      "dtype: float64\n",
      "Working on site: WAN\n",
      "0.11001049644287214\n",
      "0.42598676545971387\n",
      "Down sampling to: 64\n"
     ]
    },
    {
     "name": "stderr",
     "output_type": "stream",
     "text": [
      "creating design matrix: 100%|██████████| 1000/1000 [00:00<00:00, 57844.49it/s]\n",
      "optimizing parameters: 100%|██████████| 1000/1000 [00:01<00:00, 789.01it/s]\n",
      "creating design matrix: 100%|██████████| 1000/1000 [00:00<00:00, 19106.71it/s]\n"
     ]
    },
    {
     "name": "stdout",
     "output_type": "stream",
     "text": [
      "NAs per column:\n",
      "datetime                    0.000000\n",
      "index                       0.981853\n",
      "pressure_filled             0.981853\n",
      "pressure_hobo               0.850733\n",
      "rolling_average             0.835354\n",
      "pressure_combined           0.835354\n",
      "pressure_combined_filled    0.835354\n",
      "dtype: float64\n",
      "Down sampling to: 32\n"
     ]
    },
    {
     "name": "stderr",
     "output_type": "stream",
     "text": [
      "creating design matrix: 100%|██████████| 2000/2000 [00:00<00:00, 12852.38it/s]\n",
      "optimizing parameters: 100%|██████████| 1000/1000 [00:03<00:00, 317.59it/s]\n",
      "creating design matrix: 100%|██████████| 2000/2000 [00:00<00:00, 4518.81it/s]\n"
     ]
    },
    {
     "name": "stdout",
     "output_type": "stream",
     "text": [
      "NAs per column:\n",
      "datetime                    0.000000\n",
      "index                       0.963737\n",
      "pressure_filled             0.963737\n",
      "pressure_hobo               0.850733\n",
      "rolling_average             0.819998\n",
      "pressure_combined           0.819998\n",
      "pressure_combined_filled    0.819998\n",
      "dtype: float64\n",
      "Down sampling to: 21\n"
     ]
    },
    {
     "name": "stderr",
     "output_type": "stream",
     "text": [
      "creating design matrix: 100%|██████████| 3000/3000 [00:00<00:00, 10597.17it/s]\n",
      "optimizing parameters: 100%|██████████| 1000/1000 [00:04<00:00, 215.75it/s]\n",
      "creating design matrix: 100%|██████████| 3000/3000 [00:01<00:00, 2973.59it/s]\n"
     ]
    },
    {
     "name": "stdout",
     "output_type": "stream",
     "text": [
      "NAs per column:\n",
      "datetime                    0.000000\n",
      "index                       0.942378\n",
      "pressure_filled             0.942378\n",
      "pressure_hobo               0.850733\n",
      "rolling_average             0.801703\n",
      "pressure_combined           0.801703\n",
      "pressure_combined_filled    0.801703\n",
      "dtype: float64\n",
      "Down sampling to: 16\n"
     ]
    },
    {
     "name": "stderr",
     "output_type": "stream",
     "text": [
      "creating design matrix: 100%|██████████| 4000/4000 [00:00<00:00, 9884.33it/s]\n",
      "optimizing parameters: 100%|██████████| 1000/1000 [00:06<00:00, 149.66it/s]\n",
      "creating design matrix: 100%|██████████| 4000/4000 [00:01<00:00, 2365.52it/s]\n"
     ]
    },
    {
     "name": "stdout",
     "output_type": "stream",
     "text": [
      "NAs per column:\n",
      "datetime                    0.000000\n",
      "index                       0.927458\n",
      "pressure_filled             0.927458\n",
      "pressure_hobo               0.850733\n",
      "rolling_average             0.789138\n",
      "pressure_combined           0.789138\n",
      "pressure_combined_filled    0.789138\n",
      "dtype: float64\n"
     ]
    },
    {
     "data": {
      "text/html": [
       "<div>\n",
       "<style scoped>\n",
       "    .dataframe tbody tr th:only-of-type {\n",
       "        vertical-align: middle;\n",
       "    }\n",
       "\n",
       "    .dataframe tbody tr th {\n",
       "        vertical-align: top;\n",
       "    }\n",
       "\n",
       "    .dataframe thead th {\n",
       "        text-align: right;\n",
       "    }\n",
       "</style>\n",
       "<table border=\"1\" class=\"dataframe\">\n",
       "  <thead>\n",
       "    <tr style=\"text-align: right;\">\n",
       "      <th></th>\n",
       "      <th>site</th>\n",
       "      <th>sample_down_to</th>\n",
       "      <th>matrix_size</th>\n",
       "      <th>mv_avg_width</th>\n",
       "      <th>nse</th>\n",
       "      <th>pbias</th>\n",
       "      <th>rmse</th>\n",
       "    </tr>\n",
       "  </thead>\n",
       "  <tbody>\n",
       "    <tr>\n",
       "      <th>0</th>\n",
       "      <td>BEN</td>\n",
       "      <td>42</td>\n",
       "      <td>1000</td>\n",
       "      <td>1</td>\n",
       "      <td>[nan]</td>\n",
       "      <td>[nan]</td>\n",
       "      <td>[nan]</td>\n",
       "    </tr>\n",
       "    <tr>\n",
       "      <th>1</th>\n",
       "      <td>BEN</td>\n",
       "      <td>42</td>\n",
       "      <td>1000</td>\n",
       "      <td>5</td>\n",
       "      <td>[nan]</td>\n",
       "      <td>[nan]</td>\n",
       "      <td>[nan]</td>\n",
       "    </tr>\n",
       "    <tr>\n",
       "      <th>2</th>\n",
       "      <td>BEN</td>\n",
       "      <td>42</td>\n",
       "      <td>1000</td>\n",
       "      <td>10</td>\n",
       "      <td>[nan]</td>\n",
       "      <td>[nan]</td>\n",
       "      <td>[nan]</td>\n",
       "    </tr>\n",
       "    <tr>\n",
       "      <th>3</th>\n",
       "      <td>BEN</td>\n",
       "      <td>42</td>\n",
       "      <td>1000</td>\n",
       "      <td>15</td>\n",
       "      <td>[nan]</td>\n",
       "      <td>[nan]</td>\n",
       "      <td>[nan]</td>\n",
       "    </tr>\n",
       "    <tr>\n",
       "      <th>4</th>\n",
       "      <td>BEN</td>\n",
       "      <td>42</td>\n",
       "      <td>1000</td>\n",
       "      <td>25</td>\n",
       "      <td>[nan]</td>\n",
       "      <td>[nan]</td>\n",
       "      <td>[nan]</td>\n",
       "    </tr>\n",
       "    <tr>\n",
       "      <th>...</th>\n",
       "      <td>...</td>\n",
       "      <td>...</td>\n",
       "      <td>...</td>\n",
       "      <td>...</td>\n",
       "      <td>...</td>\n",
       "      <td>...</td>\n",
       "      <td>...</td>\n",
       "    </tr>\n",
       "    <tr>\n",
       "      <th>976</th>\n",
       "      <td>WAN</td>\n",
       "      <td>16</td>\n",
       "      <td>4000</td>\n",
       "      <td>25</td>\n",
       "      <td>[0.46179594269380775]</td>\n",
       "      <td>[0.05859057680258665]</td>\n",
       "      <td>[3.9701792765164723]</td>\n",
       "    </tr>\n",
       "    <tr>\n",
       "      <th>977</th>\n",
       "      <td>WAN</td>\n",
       "      <td>16</td>\n",
       "      <td>4000</td>\n",
       "      <td>50</td>\n",
       "      <td>[0.47256165281127627]</td>\n",
       "      <td>[0.05826434888938806]</td>\n",
       "      <td>[3.930270895297327]</td>\n",
       "    </tr>\n",
       "    <tr>\n",
       "      <th>978</th>\n",
       "      <td>WAN</td>\n",
       "      <td>16</td>\n",
       "      <td>4000</td>\n",
       "      <td>100</td>\n",
       "      <td>[0.48415973772525045]</td>\n",
       "      <td>[0.058764025068349546]</td>\n",
       "      <td>[3.886818424282296]</td>\n",
       "    </tr>\n",
       "    <tr>\n",
       "      <th>979</th>\n",
       "      <td>WAN</td>\n",
       "      <td>16</td>\n",
       "      <td>4000</td>\n",
       "      <td>150</td>\n",
       "      <td>[0.4988441665026714]</td>\n",
       "      <td>[0.059223862805397924]</td>\n",
       "      <td>[3.83109595290548]</td>\n",
       "    </tr>\n",
       "    <tr>\n",
       "      <th>980</th>\n",
       "      <td>WAN</td>\n",
       "      <td>16</td>\n",
       "      <td>4000</td>\n",
       "      <td>300</td>\n",
       "      <td>[0.5292130192558557]</td>\n",
       "      <td>[0.06191815051401785]</td>\n",
       "      <td>[3.713204401078601]</td>\n",
       "    </tr>\n",
       "  </tbody>\n",
       "</table>\n",
       "<p>981 rows × 7 columns</p>\n",
       "</div>"
      ],
      "text/plain": [
       "    site  sample_down_to  matrix_size  mv_avg_width                    nse  \\\n",
       "0    BEN              42         1000             1                  [nan]   \n",
       "1    BEN              42         1000             5                  [nan]   \n",
       "2    BEN              42         1000            10                  [nan]   \n",
       "3    BEN              42         1000            15                  [nan]   \n",
       "4    BEN              42         1000            25                  [nan]   \n",
       "..   ...             ...          ...           ...                    ...   \n",
       "976  WAN              16         4000            25  [0.46179594269380775]   \n",
       "977  WAN              16         4000            50  [0.47256165281127627]   \n",
       "978  WAN              16         4000           100  [0.48415973772525045]   \n",
       "979  WAN              16         4000           150   [0.4988441665026714]   \n",
       "980  WAN              16         4000           300   [0.5292130192558557]   \n",
       "\n",
       "                      pbias                  rmse  \n",
       "0                     [nan]                 [nan]  \n",
       "1                     [nan]                 [nan]  \n",
       "2                     [nan]                 [nan]  \n",
       "3                     [nan]                 [nan]  \n",
       "4                     [nan]                 [nan]  \n",
       "..                      ...                   ...  \n",
       "976   [0.05859057680258665]  [3.9701792765164723]  \n",
       "977   [0.05826434888938806]   [3.930270895297327]  \n",
       "978  [0.058764025068349546]   [3.886818424282296]  \n",
       "979  [0.059223862805397924]    [3.83109595290548]  \n",
       "980   [0.06191815051401785]   [3.713204401078601]  \n",
       "\n",
       "[981 rows x 7 columns]"
      ]
     },
     "execution_count": 71,
     "metadata": {},
     "output_type": "execute_result"
    },
    {
     "data": {
      "image/png": "[encoded data removed]",
      "text/plain": [
       "<Figure size 640x480 with 1 Axes>"
      ]
     },
     "metadata": {},
     "output_type": "display_data"
    }
   ],
   "source": [
    "metrics_list = []\n",
    "#iterate through each site\n",
    "for site_id in site_names_list:\n",
    "    print(f\"Working on site: {site_id}\")\n",
    "    site_df = pd.DataFrame()\n",
    "    \n",
    "    try:\n",
    "        \n",
    "        site_df[[\"datetime\",\"pressure_hobo\"]] = all_pressure_df[[\"datetime\",site_id]]\n",
    "        site_df['datetime'] = pd.to_datetime(site_df['datetime'], format='%Y-%m-%d %H:%M:%S')\n",
    "        site_df = site_df[site_df['pressure_hobo'].notna()]\n",
    "        all_days = pd.date_range(site_df['datetime'].min(), site_df['datetime'].max(), freq='15min')\n",
    "        all_days = pd.DataFrame(all_days, columns=[\"datetime\"])\n",
    "        site_df = all_days.merge(site_df, on='datetime', how='left')\n",
    "\n",
    "        #generating a test dataframe from our actual data. This function generate randomly indexed sequences of nas of random lengths\n",
    "        test_df = get_test_df(site_df)\n",
    "\n",
    "        #iterate through different potential down sample values\n",
    "        for matrix_size in matrix_size_list:\n",
    "\n",
    "            sparse_joined_df = down_sample_and_interpolate_once(test_df,all_days,matrix_size,1,'pressure_hobo')\n",
    "\n",
    "            #iterate through different potential moving average window widths\n",
    "            for window_width in mv_avg_width_list:\n",
    "\n",
    "                #print(f\"Attempting width: {window_width}\")\n",
    "                \n",
    "                # creating rolling average column that will fill in gaps left by down sampling\n",
    "                sparse_joined_df[\"rolling_average\"] = sparse_joined_df[\"pressure_combined\"].rolling(min_periods=1, center=True, window=window_width).mean()\n",
    "\n",
    "                #merging the actual, interpolated, and rolling average columns\n",
    "                sparse_joined_df['pressure_combined_filled'] = sparse_joined_df.apply(combine_pressure_row, axis=1)\n",
    "\n",
    "                sample_down_to = int(test_df.shape[0]/(2*matrix_size + 1))\n",
    "\n",
    "                #finding hydro eval metrics for the current hyperparameters\n",
    "                filled_test_df = sparse_joined_df\n",
    "                my_nse = he.evaluator(he.nse, filled_test_df[\"pressure_combined_filled\"], site_df[\"pressure_hobo\"])\n",
    "                my_pbias = he.evaluator(he.pbias, filled_test_df[\"pressure_combined_filled\"], site_df[\"pressure_hobo\"])\n",
    "                my_rmse = he.evaluator(he.rmse, filled_test_df[\"pressure_combined_filled\"], site_df[\"pressure_hobo\"])\n",
    "                \n",
    "                #add metrics and identifiers to a list of dictionaries\n",
    "                metrics_dict = (site_id, sample_down_to, matrix_size, window_width, my_nse, my_pbias, my_rmse)\n",
    "                metrics_list.append(metrics_dict)\n",
    "\n",
    "                #saving each individual df, unrealistic when testing a lot of hyperparameters\n",
    "                #exec(f'{site_id}_{matrix_size}_{window_width}_filled_df = filled_test_df.copy()')\n",
    "\n",
    "    except Exception as e: print(e)\n",
    "\n",
    "#transform metrics list into dataframe\n",
    "metrics_df = pd.DataFrame(metrics_list, columns=[\"site\",\"sample_down_to\",\"matrix_size\",\"mv_avg_width\",\"nse\",\"pbias\",\"rmse\"])\n",
    "metrics_df"
   ]
  },
  {
   "cell_type": "code",
   "execution_count": null,
   "metadata": {},
   "outputs": [],
   "source": [
    "# print(BLI_2000_200_filled_df.isna().sum()/BLI_2000_200_filled_df.shape[0])\n",
    "\n",
    "# plt.scatter(x = \"datetime\", y = \"pressure_combined_filled\",data=BLI_2000_200_filled_df, label=\"Completely Filled Data\", s = .5, color=\"#723cba\")\n",
    "# plt.scatter(x = \"datetime\", y = \"pressure_filled\",data=BLI_2000_200_filled_df, label=\"Sparse Filled Data\", s = .5, color=\"#3bb892\")\n",
    "# plt.scatter(x = \"datetime\", y = \"pressure_hobo\",data=BLI_2000_200_filled_df, label=\"Actual Data\", s = .5, color=\"#224dab\")\n",
    "\n",
    "# left = datetime.date(2019, 8, 1)\n",
    "# right = datetime.date(2019, 8, 2)\n",
    "# # # Format the date into months & days\n",
    "# # plt.gca().xaxis.set_major_formatter(mdates.DateFormatter('%b %y')) \n",
    "# # Changes x-axis range\n",
    "# plt.gca().set_xbound(left, right)\n",
    "# plt.legend()\n",
    "# plt.show()"
   ]
  },
  {
   "cell_type": "code",
   "execution_count": 73,
   "metadata": {},
   "outputs": [
    {
     "ename": "AttributeError",
     "evalue": "Can only use .str accessor with string values!",
     "output_type": "error",
     "traceback": [
      "\u001b[1;31m---------------------------------------------------------------------------\u001b[0m",
      "\u001b[1;31mAttributeError\u001b[0m                            Traceback (most recent call last)",
      "Cell \u001b[1;32mIn[73], line 5\u001b[0m\n\u001b[0;32m      2\u001b[0m metrics_df\u001b[39m.\u001b[39mto_csv(\u001b[39m\"\u001b[39m\u001b[39mmodel_selection_metrics.csv\u001b[39m\u001b[39m\"\u001b[39m)\n\u001b[0;32m      4\u001b[0m \u001b[39m#fixing type for the metrics columns\u001b[39;00m\n\u001b[1;32m----> 5\u001b[0m metrics_df[\u001b[39m'\u001b[39m\u001b[39mnse\u001b[39m\u001b[39m'\u001b[39m] \u001b[39m=\u001b[39m pd\u001b[39m.\u001b[39mto_numeric(metrics_df[\u001b[39m'\u001b[39;49m\u001b[39mnse\u001b[39;49m\u001b[39m'\u001b[39;49m]\u001b[39m.\u001b[39;49mstr[\u001b[39m0\u001b[39m])\n\u001b[0;32m      6\u001b[0m metrics_df[\u001b[39m'\u001b[39m\u001b[39mpbias\u001b[39m\u001b[39m'\u001b[39m] \u001b[39m=\u001b[39m pd\u001b[39m.\u001b[39mto_numeric(metrics_df[\u001b[39m'\u001b[39m\u001b[39mpbias\u001b[39m\u001b[39m'\u001b[39m]\u001b[39m.\u001b[39mstr[\u001b[39m0\u001b[39m])\n\u001b[0;32m      7\u001b[0m metrics_df[\u001b[39m'\u001b[39m\u001b[39mrmse\u001b[39m\u001b[39m'\u001b[39m] \u001b[39m=\u001b[39m pd\u001b[39m.\u001b[39mto_numeric(metrics_df[\u001b[39m'\u001b[39m\u001b[39mrmse\u001b[39m\u001b[39m'\u001b[39m]\u001b[39m.\u001b[39mstr[\u001b[39m0\u001b[39m])\n",
      "File \u001b[1;32mc:\\Users\\robby\\Box\\AbbottLab\\Data\\Management\\ratingCurves\\Compressed_Sensing\\myenv\\Lib\\site-packages\\pandas\\core\\generic.py:5989\u001b[0m, in \u001b[0;36mNDFrame.__getattr__\u001b[1;34m(self, name)\u001b[0m\n\u001b[0;32m   5982\u001b[0m \u001b[39mif\u001b[39;00m (\n\u001b[0;32m   5983\u001b[0m     name \u001b[39mnot\u001b[39;00m \u001b[39min\u001b[39;00m \u001b[39mself\u001b[39m\u001b[39m.\u001b[39m_internal_names_set\n\u001b[0;32m   5984\u001b[0m     \u001b[39mand\u001b[39;00m name \u001b[39mnot\u001b[39;00m \u001b[39min\u001b[39;00m \u001b[39mself\u001b[39m\u001b[39m.\u001b[39m_metadata\n\u001b[0;32m   5985\u001b[0m     \u001b[39mand\u001b[39;00m name \u001b[39mnot\u001b[39;00m \u001b[39min\u001b[39;00m \u001b[39mself\u001b[39m\u001b[39m.\u001b[39m_accessors\n\u001b[0;32m   5986\u001b[0m     \u001b[39mand\u001b[39;00m \u001b[39mself\u001b[39m\u001b[39m.\u001b[39m_info_axis\u001b[39m.\u001b[39m_can_hold_identifiers_and_holds_name(name)\n\u001b[0;32m   5987\u001b[0m ):\n\u001b[0;32m   5988\u001b[0m     \u001b[39mreturn\u001b[39;00m \u001b[39mself\u001b[39m[name]\n\u001b[1;32m-> 5989\u001b[0m \u001b[39mreturn\u001b[39;00m \u001b[39mobject\u001b[39;49m\u001b[39m.\u001b[39;49m\u001b[39m__getattribute__\u001b[39;49m(\u001b[39mself\u001b[39;49m, name)\n",
      "File \u001b[1;32mc:\\Users\\robby\\Box\\AbbottLab\\Data\\Management\\ratingCurves\\Compressed_Sensing\\myenv\\Lib\\site-packages\\pandas\\core\\accessor.py:224\u001b[0m, in \u001b[0;36mCachedAccessor.__get__\u001b[1;34m(self, obj, cls)\u001b[0m\n\u001b[0;32m    221\u001b[0m \u001b[39mif\u001b[39;00m obj \u001b[39mis\u001b[39;00m \u001b[39mNone\u001b[39;00m:\n\u001b[0;32m    222\u001b[0m     \u001b[39m# we're accessing the attribute of the class, i.e., Dataset.geo\u001b[39;00m\n\u001b[0;32m    223\u001b[0m     \u001b[39mreturn\u001b[39;00m \u001b[39mself\u001b[39m\u001b[39m.\u001b[39m_accessor\n\u001b[1;32m--> 224\u001b[0m accessor_obj \u001b[39m=\u001b[39m \u001b[39mself\u001b[39;49m\u001b[39m.\u001b[39;49m_accessor(obj)\n\u001b[0;32m    225\u001b[0m \u001b[39m# Replace the property with the accessor object. Inspired by:\u001b[39;00m\n\u001b[0;32m    226\u001b[0m \u001b[39m# https://www.pydanny.com/cached-property.html\u001b[39;00m\n\u001b[0;32m    227\u001b[0m \u001b[39m# We need to use object.__setattr__ because we overwrite __setattr__ on\u001b[39;00m\n\u001b[0;32m    228\u001b[0m \u001b[39m# NDFrame\u001b[39;00m\n\u001b[0;32m    229\u001b[0m \u001b[39mobject\u001b[39m\u001b[39m.\u001b[39m\u001b[39m__setattr__\u001b[39m(obj, \u001b[39mself\u001b[39m\u001b[39m.\u001b[39m_name, accessor_obj)\n",
      "File \u001b[1;32mc:\\Users\\robby\\Box\\AbbottLab\\Data\\Management\\ratingCurves\\Compressed_Sensing\\myenv\\Lib\\site-packages\\pandas\\core\\strings\\accessor.py:181\u001b[0m, in \u001b[0;36mStringMethods.__init__\u001b[1;34m(self, data)\u001b[0m\n\u001b[0;32m    178\u001b[0m \u001b[39mdef\u001b[39;00m \u001b[39m__init__\u001b[39m(\u001b[39mself\u001b[39m, data) \u001b[39m-\u001b[39m\u001b[39m>\u001b[39m \u001b[39mNone\u001b[39;00m:\n\u001b[0;32m    179\u001b[0m     \u001b[39mfrom\u001b[39;00m \u001b[39mpandas\u001b[39;00m\u001b[39m.\u001b[39;00m\u001b[39mcore\u001b[39;00m\u001b[39m.\u001b[39;00m\u001b[39marrays\u001b[39;00m\u001b[39m.\u001b[39;00m\u001b[39mstring_\u001b[39;00m \u001b[39mimport\u001b[39;00m StringDtype\n\u001b[1;32m--> 181\u001b[0m     \u001b[39mself\u001b[39m\u001b[39m.\u001b[39m_inferred_dtype \u001b[39m=\u001b[39m \u001b[39mself\u001b[39;49m\u001b[39m.\u001b[39;49m_validate(data)\n\u001b[0;32m    182\u001b[0m     \u001b[39mself\u001b[39m\u001b[39m.\u001b[39m_is_categorical \u001b[39m=\u001b[39m is_categorical_dtype(data\u001b[39m.\u001b[39mdtype)\n\u001b[0;32m    183\u001b[0m     \u001b[39mself\u001b[39m\u001b[39m.\u001b[39m_is_string \u001b[39m=\u001b[39m \u001b[39misinstance\u001b[39m(data\u001b[39m.\u001b[39mdtype, StringDtype)\n",
      "File \u001b[1;32mc:\\Users\\robby\\Box\\AbbottLab\\Data\\Management\\ratingCurves\\Compressed_Sensing\\myenv\\Lib\\site-packages\\pandas\\core\\strings\\accessor.py:235\u001b[0m, in \u001b[0;36mStringMethods._validate\u001b[1;34m(data)\u001b[0m\n\u001b[0;32m    232\u001b[0m inferred_dtype \u001b[39m=\u001b[39m lib\u001b[39m.\u001b[39minfer_dtype(values, skipna\u001b[39m=\u001b[39m\u001b[39mTrue\u001b[39;00m)\n\u001b[0;32m    234\u001b[0m \u001b[39mif\u001b[39;00m inferred_dtype \u001b[39mnot\u001b[39;00m \u001b[39min\u001b[39;00m allowed_types:\n\u001b[1;32m--> 235\u001b[0m     \u001b[39mraise\u001b[39;00m \u001b[39mAttributeError\u001b[39;00m(\u001b[39m\"\u001b[39m\u001b[39mCan only use .str accessor with string values!\u001b[39m\u001b[39m\"\u001b[39m)\n\u001b[0;32m    236\u001b[0m \u001b[39mreturn\u001b[39;00m inferred_dtype\n",
      "\u001b[1;31mAttributeError\u001b[0m: Can only use .str accessor with string values!"
     ]
    }
   ],
   "source": [
    "#exporting metrics df as a csv\n",
    "metrics_df.to_csv(\"model_selection_metrics.csv\")\n",
    "\n",
    "#fixing type for the metrics columns\n",
    "metrics_df['nse'] = pd.to_numeric(metrics_df['nse'].str[0])\n",
    "metrics_df['pbias'] = pd.to_numeric(metrics_df['pbias'].str[0])\n",
    "metrics_df['rmse'] = pd.to_numeric(metrics_df['rmse'].str[0])\n",
    "\n",
    "#the closer to 0 the better for percent bias, so taking the absolute value and then finding the minimum works here\n",
    "metrics_df['pbias_abs'] = metrics_df['pbias'].abs()\n",
    "\n",
    "#making a dataframe for each metric that shows which parameters resulted in the best score for each site\n",
    "nse_maxs_df = metrics_df.loc[metrics_df.groupby('site')['nse'].idxmax().values]\n",
    "pbias_mins_df = metrics_df.loc[metrics_df.groupby('site')['pbias_abs'].idxmin().values]\n",
    "rmse_mins_df = metrics_df.loc[metrics_df.groupby('site')['rmse'].idxmin().values]"
   ]
  },
  {
   "cell_type": "code",
   "execution_count": 100,
   "metadata": {},
   "outputs": [
    {
     "data": {
      "text/plain": [
       "<Axes: xlabel='nse', ylabel='Count'>"
      ]
     },
     "execution_count": 100,
     "metadata": {},
     "output_type": "execute_result"
    },
    {
     "data": {
      "image/png": "[encoded data removed]",
      "text/plain": [
       "<Figure size 640x480 with 1 Axes>"
      ]
     },
     "metadata": {},
     "output_type": "display_data"
    }
   ],
   "source": [
    "sns.histplot(x=\"nse\",data=nse_maxs_df)"
   ]
  },
  {
   "cell_type": "code",
   "execution_count": 102,
   "metadata": {},
   "outputs": [
    {
     "data": {
      "text/plain": [
       "<Axes: xlabel='rmse', ylabel='Count'>"
      ]
     },
     "execution_count": 102,
     "metadata": {},
     "output_type": "execute_result"
    },
    {
     "data": {
      "image/png": "[encoded data removed]",
      "text/plain": [
       "<Figure size 640x480 with 1 Axes>"
      ]
     },
     "metadata": {},
     "output_type": "display_data"
    }
   ],
   "source": [
    "sns.histplot(x=\"rmse\",data=rmse_mins_df)"
   ]
  },
  {
   "cell_type": "code",
   "execution_count": 103,
   "metadata": {},
   "outputs": [
    {
     "data": {
      "text/plain": [
       "<Axes: xlabel='pbias_abs', ylabel='Count'>"
      ]
     },
     "execution_count": 103,
     "metadata": {},
     "output_type": "execute_result"
    },
    {
     "data": {
      "image/png": "[encoded data removed]",
      "text/plain": [
       "<Figure size 640x480 with 1 Axes>"
      ]
     },
     "metadata": {},
     "output_type": "display_data"
    }
   ],
   "source": [
    "sns.histplot(x=\"pbias_abs\",data=pbias_mins_df)"
   ]
  },
  {
   "attachments": {},
   "cell_type": "markdown",
   "metadata": {},
   "source": []
  },
  {
   "cell_type": "code",
   "execution_count": 110,
   "metadata": {},
   "outputs": [
    {
     "data": {
      "text/html": [
       "<div>\n",
       "<style scoped>\n",
       "    .dataframe tbody tr th:only-of-type {\n",
       "        vertical-align: middle;\n",
       "    }\n",
       "\n",
       "    .dataframe tbody tr th {\n",
       "        vertical-align: top;\n",
       "    }\n",
       "\n",
       "    .dataframe thead th {\n",
       "        text-align: right;\n",
       "    }\n",
       "</style>\n",
       "<table border=\"1\" class=\"dataframe\">\n",
       "  <thead>\n",
       "    <tr style=\"text-align: right;\">\n",
       "      <th></th>\n",
       "      <th>site</th>\n",
       "      <th>sample_down_to</th>\n",
       "      <th>matrix_size</th>\n",
       "      <th>mv_avg_width</th>\n",
       "      <th>nse</th>\n",
       "      <th>pbias</th>\n",
       "      <th>rmse</th>\n",
       "      <th>pbias_abs</th>\n",
       "    </tr>\n",
       "  </thead>\n",
       "  <tbody>\n",
       "    <tr>\n",
       "      <th>26</th>\n",
       "      <td>BEN</td>\n",
       "      <td>14</td>\n",
       "      <td>3000</td>\n",
       "      <td>300</td>\n",
       "      <td>0.664309</td>\n",
       "      <td>0.074685</td>\n",
       "      <td>3.536022</td>\n",
       "      <td>0.074685</td>\n",
       "    </tr>\n",
       "    <tr>\n",
       "      <th>44</th>\n",
       "      <td>BLI</td>\n",
       "      <td>29</td>\n",
       "      <td>1000</td>\n",
       "      <td>300</td>\n",
       "      <td>0.402057</td>\n",
       "      <td>0.041639</td>\n",
       "      <td>4.145913</td>\n",
       "      <td>0.041639</td>\n",
       "    </tr>\n",
       "    <tr>\n",
       "      <th>107</th>\n",
       "      <td>BSL</td>\n",
       "      <td>19</td>\n",
       "      <td>4000</td>\n",
       "      <td>300</td>\n",
       "      <td>0.871671</td>\n",
       "      <td>-0.015680</td>\n",
       "      <td>5.759995</td>\n",
       "      <td>0.015680</td>\n",
       "    </tr>\n",
       "    <tr>\n",
       "      <th>116</th>\n",
       "      <td>CLE</td>\n",
       "      <td>64</td>\n",
       "      <td>1000</td>\n",
       "      <td>300</td>\n",
       "      <td>0.764213</td>\n",
       "      <td>-0.064106</td>\n",
       "      <td>4.424537</td>\n",
       "      <td>0.064106</td>\n",
       "    </tr>\n",
       "    <tr>\n",
       "      <th>152</th>\n",
       "      <td>CRB</td>\n",
       "      <td>49</td>\n",
       "      <td>1000</td>\n",
       "      <td>300</td>\n",
       "      <td>0.381615</td>\n",
       "      <td>0.026585</td>\n",
       "      <td>6.240616</td>\n",
       "      <td>0.026585</td>\n",
       "    </tr>\n",
       "    <tr>\n",
       "      <th>188</th>\n",
       "      <td>DAI</td>\n",
       "      <td>27</td>\n",
       "      <td>1000</td>\n",
       "      <td>300</td>\n",
       "      <td>0.698592</td>\n",
       "      <td>-0.034948</td>\n",
       "      <td>5.227603</td>\n",
       "      <td>0.034948</td>\n",
       "    </tr>\n",
       "    <tr>\n",
       "      <th>224</th>\n",
       "      <td>DFF</td>\n",
       "      <td>68</td>\n",
       "      <td>1000</td>\n",
       "      <td>300</td>\n",
       "      <td>0.732200</td>\n",
       "      <td>-0.040884</td>\n",
       "      <td>4.917532</td>\n",
       "      <td>0.040884</td>\n",
       "    </tr>\n",
       "    <tr>\n",
       "      <th>260</th>\n",
       "      <td>DFL</td>\n",
       "      <td>24</td>\n",
       "      <td>1000</td>\n",
       "      <td>300</td>\n",
       "      <td>0.616261</td>\n",
       "      <td>-0.039993</td>\n",
       "      <td>3.690948</td>\n",
       "      <td>0.039993</td>\n",
       "    </tr>\n",
       "    <tr>\n",
       "      <th>278</th>\n",
       "      <td>DFM</td>\n",
       "      <td>22</td>\n",
       "      <td>2000</td>\n",
       "      <td>300</td>\n",
       "      <td>0.525260</td>\n",
       "      <td>-0.041824</td>\n",
       "      <td>4.139474</td>\n",
       "      <td>0.041824</td>\n",
       "    </tr>\n",
       "    <tr>\n",
       "      <th>305</th>\n",
       "      <td>DFU</td>\n",
       "      <td>28</td>\n",
       "      <td>1000</td>\n",
       "      <td>300</td>\n",
       "      <td>0.716346</td>\n",
       "      <td>-0.065668</td>\n",
       "      <td>4.679093</td>\n",
       "      <td>0.065668</td>\n",
       "    </tr>\n",
       "    <tr>\n",
       "      <th>314</th>\n",
       "      <td>HCL</td>\n",
       "      <td>64</td>\n",
       "      <td>1000</td>\n",
       "      <td>300</td>\n",
       "      <td>0.786103</td>\n",
       "      <td>-0.075259</td>\n",
       "      <td>5.507701</td>\n",
       "      <td>0.075259</td>\n",
       "    </tr>\n",
       "    <tr>\n",
       "      <th>377</th>\n",
       "      <td>HCN</td>\n",
       "      <td>17</td>\n",
       "      <td>4000</td>\n",
       "      <td>300</td>\n",
       "      <td>0.438497</td>\n",
       "      <td>-0.022058</td>\n",
       "      <td>3.186671</td>\n",
       "      <td>0.022058</td>\n",
       "    </tr>\n",
       "    <tr>\n",
       "      <th>386</th>\n",
       "      <td>HCS</td>\n",
       "      <td>69</td>\n",
       "      <td>1000</td>\n",
       "      <td>300</td>\n",
       "      <td>0.575711</td>\n",
       "      <td>-0.014305</td>\n",
       "      <td>3.883667</td>\n",
       "      <td>0.014305</td>\n",
       "    </tr>\n",
       "    <tr>\n",
       "      <th>431</th>\n",
       "      <td>IND</td>\n",
       "      <td>27</td>\n",
       "      <td>2000</td>\n",
       "      <td>300</td>\n",
       "      <td>0.802915</td>\n",
       "      <td>0.028723</td>\n",
       "      <td>5.455859</td>\n",
       "      <td>0.028723</td>\n",
       "    </tr>\n",
       "    <tr>\n",
       "      <th>476</th>\n",
       "      <td>LAK</td>\n",
       "      <td>14</td>\n",
       "      <td>3000</td>\n",
       "      <td>300</td>\n",
       "      <td>0.665780</td>\n",
       "      <td>0.054890</td>\n",
       "      <td>3.042687</td>\n",
       "      <td>0.054890</td>\n",
       "    </tr>\n",
       "    <tr>\n",
       "      <th>494</th>\n",
       "      <td>LDF</td>\n",
       "      <td>42</td>\n",
       "      <td>1000</td>\n",
       "      <td>300</td>\n",
       "      <td>0.380574</td>\n",
       "      <td>0.012565</td>\n",
       "      <td>3.823740</td>\n",
       "      <td>0.012565</td>\n",
       "    </tr>\n",
       "    <tr>\n",
       "      <th>539</th>\n",
       "      <td>MIT</td>\n",
       "      <td>27</td>\n",
       "      <td>2000</td>\n",
       "      <td>300</td>\n",
       "      <td>0.788902</td>\n",
       "      <td>0.036737</td>\n",
       "      <td>4.920794</td>\n",
       "      <td>0.036737</td>\n",
       "    </tr>\n",
       "    <tr>\n",
       "      <th>584</th>\n",
       "      <td>NEB</td>\n",
       "      <td>25</td>\n",
       "      <td>3000</td>\n",
       "      <td>300</td>\n",
       "      <td>0.670981</td>\n",
       "      <td>-0.200696</td>\n",
       "      <td>5.592507</td>\n",
       "      <td>0.200696</td>\n",
       "    </tr>\n",
       "    <tr>\n",
       "      <th>602</th>\n",
       "      <td>PBC</td>\n",
       "      <td>58</td>\n",
       "      <td>1000</td>\n",
       "      <td>300</td>\n",
       "      <td>0.692657</td>\n",
       "      <td>-0.052651</td>\n",
       "      <td>3.542877</td>\n",
       "      <td>0.052651</td>\n",
       "    </tr>\n",
       "    <tr>\n",
       "      <th>647</th>\n",
       "      <td>SBL</td>\n",
       "      <td>22</td>\n",
       "      <td>2000</td>\n",
       "      <td>300</td>\n",
       "      <td>0.848364</td>\n",
       "      <td>-0.153584</td>\n",
       "      <td>4.855771</td>\n",
       "      <td>0.153584</td>\n",
       "    </tr>\n",
       "    <tr>\n",
       "      <th>674</th>\n",
       "      <td>SFL</td>\n",
       "      <td>50</td>\n",
       "      <td>1000</td>\n",
       "      <td>300</td>\n",
       "      <td>0.502528</td>\n",
       "      <td>0.040867</td>\n",
       "      <td>10.044763</td>\n",
       "      <td>0.040867</td>\n",
       "    </tr>\n",
       "    <tr>\n",
       "      <th>710</th>\n",
       "      <td>SHE</td>\n",
       "      <td>29</td>\n",
       "      <td>1000</td>\n",
       "      <td>300</td>\n",
       "      <td>0.685267</td>\n",
       "      <td>-0.091176</td>\n",
       "      <td>4.187572</td>\n",
       "      <td>0.091176</td>\n",
       "    </tr>\n",
       "    <tr>\n",
       "      <th>746</th>\n",
       "      <td>SHE_</td>\n",
       "      <td>22</td>\n",
       "      <td>1000</td>\n",
       "      <td>300</td>\n",
       "      <td>0.753230</td>\n",
       "      <td>0.002009</td>\n",
       "      <td>3.771949</td>\n",
       "      <td>0.002009</td>\n",
       "    </tr>\n",
       "    <tr>\n",
       "      <th>809</th>\n",
       "      <td>SOL</td>\n",
       "      <td>14</td>\n",
       "      <td>4000</td>\n",
       "      <td>300</td>\n",
       "      <td>0.796349</td>\n",
       "      <td>0.068280</td>\n",
       "      <td>6.108916</td>\n",
       "      <td>0.068280</td>\n",
       "    </tr>\n",
       "    <tr>\n",
       "      <th>818</th>\n",
       "      <td>SOL_</td>\n",
       "      <td>44</td>\n",
       "      <td>1000</td>\n",
       "      <td>300</td>\n",
       "      <td>0.469594</td>\n",
       "      <td>-0.096673</td>\n",
       "      <td>3.397317</td>\n",
       "      <td>0.096673</td>\n",
       "    </tr>\n",
       "    <tr>\n",
       "      <th>863</th>\n",
       "      <td>STR</td>\n",
       "      <td>17</td>\n",
       "      <td>2000</td>\n",
       "      <td>300</td>\n",
       "      <td>0.927432</td>\n",
       "      <td>-0.009014</td>\n",
       "      <td>3.978103</td>\n",
       "      <td>0.009014</td>\n",
       "    </tr>\n",
       "    <tr>\n",
       "      <th>899</th>\n",
       "      <td>TCU</td>\n",
       "      <td>20</td>\n",
       "      <td>3000</td>\n",
       "      <td>300</td>\n",
       "      <td>0.721172</td>\n",
       "      <td>-0.016832</td>\n",
       "      <td>3.667825</td>\n",
       "      <td>0.016832</td>\n",
       "    </tr>\n",
       "    <tr>\n",
       "      <th>944</th>\n",
       "      <td>TIE</td>\n",
       "      <td>16</td>\n",
       "      <td>4000</td>\n",
       "      <td>300</td>\n",
       "      <td>0.378779</td>\n",
       "      <td>-0.007147</td>\n",
       "      <td>3.813548</td>\n",
       "      <td>0.007147</td>\n",
       "    </tr>\n",
       "    <tr>\n",
       "      <th>962</th>\n",
       "      <td>WAN</td>\n",
       "      <td>32</td>\n",
       "      <td>2000</td>\n",
       "      <td>300</td>\n",
       "      <td>0.544048</td>\n",
       "      <td>0.059030</td>\n",
       "      <td>3.654234</td>\n",
       "      <td>0.059030</td>\n",
       "    </tr>\n",
       "  </tbody>\n",
       "</table>\n",
       "</div>"
      ],
      "text/plain": [
       "     site  sample_down_to  matrix_size  mv_avg_width       nse     pbias  \\\n",
       "26    BEN              14         3000           300  0.664309  0.074685   \n",
       "44    BLI              29         1000           300  0.402057  0.041639   \n",
       "107   BSL              19         4000           300  0.871671 -0.015680   \n",
       "116   CLE              64         1000           300  0.764213 -0.064106   \n",
       "152   CRB              49         1000           300  0.381615  0.026585   \n",
       "188   DAI              27         1000           300  0.698592 -0.034948   \n",
       "224   DFF              68         1000           300  0.732200 -0.040884   \n",
       "260   DFL              24         1000           300  0.616261 -0.039993   \n",
       "278   DFM              22         2000           300  0.525260 -0.041824   \n",
       "305   DFU              28         1000           300  0.716346 -0.065668   \n",
       "314   HCL              64         1000           300  0.786103 -0.075259   \n",
       "377   HCN              17         4000           300  0.438497 -0.022058   \n",
       "386   HCS              69         1000           300  0.575711 -0.014305   \n",
       "431   IND              27         2000           300  0.802915  0.028723   \n",
       "476   LAK              14         3000           300  0.665780  0.054890   \n",
       "494   LDF              42         1000           300  0.380574  0.012565   \n",
       "539   MIT              27         2000           300  0.788902  0.036737   \n",
       "584   NEB              25         3000           300  0.670981 -0.200696   \n",
       "602   PBC              58         1000           300  0.692657 -0.052651   \n",
       "647   SBL              22         2000           300  0.848364 -0.153584   \n",
       "674   SFL              50         1000           300  0.502528  0.040867   \n",
       "710   SHE              29         1000           300  0.685267 -0.091176   \n",
       "746  SHE_              22         1000           300  0.753230  0.002009   \n",
       "809   SOL              14         4000           300  0.796349  0.068280   \n",
       "818  SOL_              44         1000           300  0.469594 -0.096673   \n",
       "863   STR              17         2000           300  0.927432 -0.009014   \n",
       "899   TCU              20         3000           300  0.721172 -0.016832   \n",
       "944   TIE              16         4000           300  0.378779 -0.007147   \n",
       "962   WAN              32         2000           300  0.544048  0.059030   \n",
       "\n",
       "          rmse  pbias_abs  \n",
       "26    3.536022   0.074685  \n",
       "44    4.145913   0.041639  \n",
       "107   5.759995   0.015680  \n",
       "116   4.424537   0.064106  \n",
       "152   6.240616   0.026585  \n",
       "188   5.227603   0.034948  \n",
       "224   4.917532   0.040884  \n",
       "260   3.690948   0.039993  \n",
       "278   4.139474   0.041824  \n",
       "305   4.679093   0.065668  \n",
       "314   5.507701   0.075259  \n",
       "377   3.186671   0.022058  \n",
       "386   3.883667   0.014305  \n",
       "431   5.455859   0.028723  \n",
       "476   3.042687   0.054890  \n",
       "494   3.823740   0.012565  \n",
       "539   4.920794   0.036737  \n",
       "584   5.592507   0.200696  \n",
       "602   3.542877   0.052651  \n",
       "647   4.855771   0.153584  \n",
       "674  10.044763   0.040867  \n",
       "710   4.187572   0.091176  \n",
       "746   3.771949   0.002009  \n",
       "809   6.108916   0.068280  \n",
       "818   3.397317   0.096673  \n",
       "863   3.978103   0.009014  \n",
       "899   3.667825   0.016832  \n",
       "944   3.813548   0.007147  \n",
       "962   3.654234   0.059030  "
      ]
     },
     "execution_count": 110,
     "metadata": {},
     "output_type": "execute_result"
    }
   ],
   "source": [
    "nse_maxs_df"
   ]
  },
  {
   "cell_type": "code",
   "execution_count": 77,
   "metadata": {},
   "outputs": [
    {
     "data": {
      "text/plain": [
       "<Axes: xlabel='mv_avg_width', ylabel='nse'>"
      ]
     },
     "execution_count": 77,
     "metadata": {},
     "output_type": "execute_result"
    },
    {
     "data": {
      "image/png": "[encoded data removed]",
      "text/plain": [
       "<Figure size 640x480 with 1 Axes>"
      ]
     },
     "metadata": {},
     "output_type": "display_data"
    }
   ],
   "source": [
    "sns.boxplot(y=\"nse\",x=\"mv_avg_width\",data=metrics_df)"
   ]
  },
  {
   "cell_type": "code",
   "execution_count": 109,
   "metadata": {},
   "outputs": [
    {
     "data": {
      "text/plain": [
       "<Axes: xlabel='mv_avg_width', ylabel='rmse'>"
      ]
     },
     "execution_count": 109,
     "metadata": {},
     "output_type": "execute_result"
    },
    {
     "data": {
      "image/png": "[encoded data removed]",
      "text/plain": [
       "<Figure size 640x480 with 1 Axes>"
      ]
     },
     "metadata": {},
     "output_type": "display_data"
    }
   ],
   "source": [
    "sns.scatterplot(y=\"rmse\",x=\"mv_avg_width\",hue=\"matrix_size\",data=metrics_df)"
   ]
  },
  {
   "cell_type": "code",
   "execution_count": 104,
   "metadata": {},
   "outputs": [
    {
     "data": {
      "text/plain": [
       "<Axes: xlabel='mv_avg_width', ylabel='nse'>"
      ]
     },
     "execution_count": 104,
     "metadata": {},
     "output_type": "execute_result"
    },
    {
     "data": {
      "image/png": "[encoded data removed]",
      "text/plain": [
       "<Figure size 640x480 with 1 Axes>"
      ]
     },
     "metadata": {},
     "output_type": "display_data"
    }
   ],
   "source": [
    "\n",
    "sns.scatterplot(y=\"nse\",x=\"mv_avg_width\",hue=\"matrix_size\",data=metrics_df[metrics_df.nse > 0])\n",
    "sns.lineplot(y=\"nse\",x=\"mv_avg_width\",hue=\"matrix_size\",errorbar = None,data=metrics_df[metrics_df.nse > 0])"
   ]
  },
  {
   "cell_type": "code",
   "execution_count": 86,
   "metadata": {},
   "outputs": [
    {
     "data": {
      "text/plain": [
       "<Axes: xlabel='sample_down_to', ylabel='nse'>"
      ]
     },
     "execution_count": 86,
     "metadata": {},
     "output_type": "execute_result"
    },
    {
     "data": {
      "image/png": "[encoded data removed]",
      "text/plain": [
       "<Figure size 640x480 with 1 Axes>"
      ]
     },
     "metadata": {},
     "output_type": "display_data"
    }
   ],
   "source": [
    "sns.scatterplot(x=\"sample_down_to\",y=\"nse\",data=nse_maxs_df)"
   ]
  },
  {
   "cell_type": "code",
   "execution_count": 87,
   "metadata": {},
   "outputs": [
    {
     "data": {
      "text/plain": [
       "<Axes: xlabel='matrix_size', ylabel='nse'>"
      ]
     },
     "execution_count": 87,
     "metadata": {},
     "output_type": "execute_result"
    },
    {
     "data": {
      "image/png": "[encoded data removed]",
      "text/plain": [
       "<Figure size 640x480 with 1 Axes>"
      ]
     },
     "metadata": {},
     "output_type": "display_data"
    }
   ],
   "source": [
    "sns.scatterplot(x=\"matrix_size\",y=\"nse\",data=nse_maxs_df)"
   ]
  },
  {
   "cell_type": "code",
   "execution_count": 91,
   "metadata": {},
   "outputs": [
    {
     "data": {
      "text/plain": [
       "<Axes: xlabel='pbias', ylabel='nse'>"
      ]
     },
     "execution_count": 91,
     "metadata": {},
     "output_type": "execute_result"
    },
    {
     "data": {
      "image/png": "[encoded data removed]",
      "text/plain": [
       "<Figure size 640x480 with 1 Axes>"
      ]
     },
     "metadata": {},
     "output_type": "display_data"
    }
   ],
   "source": [
    "sns.scatterplot(x=\"pbias\",y=\"nse\",data=nse_maxs_df)"
   ]
  },
  {
   "cell_type": "code",
   "execution_count": 92,
   "metadata": {},
   "outputs": [
    {
     "data": {
      "text/plain": [
       "<Axes: xlabel='sample_down_to', ylabel='matrix_size'>"
      ]
     },
     "execution_count": 92,
     "metadata": {},
     "output_type": "execute_result"
    },
    {
     "data": {
      "image/png": "[encoded data removed]",
      "text/plain": [
       "<Figure size 640x480 with 1 Axes>"
      ]
     },
     "metadata": {},
     "output_type": "display_data"
    }
   ],
   "source": [
    "sns.scatterplot(x=\"sample_down_to\",y=\"matrix_size\",data=nse_maxs_df)"
   ]
  },
  {
   "cell_type": "code",
   "execution_count": null,
   "metadata": {},
   "outputs": [],
   "source": []
  }
 ],
 "metadata": {
  "kernelspec": {
   "display_name": "myenv",
   "language": "python",
   "name": "python3"
  },
  "language_info": {
   "codemirror_mode": {
    "name": "ipython",
    "version": 3
   },
   "file_extension": ".py",
   "mimetype": "text/x-python",
   "name": "python",
   "nbconvert_exporter": "python",
   "pygments_lexer": "ipython3",
   "version": "3.11.4"
  },
  "orig_nbformat": 4
 },
 "nbformat": 4,
 "nbformat_minor": 2
}
