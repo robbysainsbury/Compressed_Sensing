{
 "cells": [
  {
   "cell_type": "code",
   "execution_count": 15,
   "metadata": {},
   "outputs": [],
   "source": [
    "import matplotlib.pyplot as plt\n",
    "import numpy as np\n",
    "import pandas as pd\n",
    "import hydroeval as he\n",
    "from functools import reduce\n",
    "\n",
    "from CompressedSensingInterpolator import CompresedSensingInterpolator\n",
    "from InterpolateHelperFunctions import *\n",
    "\n",
    "site_names_list = ['BEN', 'BLI', 'BSL', 'CLE', 'CRB', 'DAI', 'DFF', 'DFL', 'DFM', 'DFU', 'HCL', 'HCN', 'HCS', 'IND', 'LAK', 'LDF', 'MIT', 'NEB', 'PBC', 'SBL', 'SFL', 'SHE', 'SOL', 'STR', 'TCU', 'TIE', 'WAN']\n",
    "all_pressure_df = pd.read_csv(\"all_pressure.csv\")"
   ]
  },
  {
   "cell_type": "code",
   "execution_count": 8,
   "metadata": {},
   "outputs": [
    {
     "name": "stdout",
     "output_type": "stream",
     "text": [
      "Working on site: BEN\n"
     ]
    },
    {
     "name": "stderr",
     "output_type": "stream",
     "text": [
      "creating design matrix: 100%|██████████| 2108/2108 [00:00<00:00, 6417.92it/s]\n",
      "optimizing parameters: 100%|██████████| 1000/1000 [00:06<00:00, 150.39it/s]\n",
      "creating design matrix: 100%|██████████| 2108/2108 [00:00<00:00, 12078.58it/s]\n"
     ]
    },
    {
     "name": "stdout",
     "output_type": "stream",
     "text": [
      "NAs per column:\n",
      "datetime             0.000000\n",
      "index                0.949983\n",
      "pressure_filled      0.949983\n",
      "pressure_hobo        0.406753\n",
      "pressure_combined    0.386407\n",
      "dtype: float64\n",
      "Working on site: BLI\n"
     ]
    },
    {
     "name": "stderr",
     "output_type": "stream",
     "text": [
      "creating design matrix: 100%|██████████| 1486/1486 [00:00<00:00, 16508.55it/s]\n",
      "optimizing parameters: 100%|██████████| 1000/1000 [00:03<00:00, 264.75it/s]\n",
      "creating design matrix: 100%|██████████| 1486/1486 [00:00<00:00, 20313.78it/s]\n"
     ]
    },
    {
     "name": "stdout",
     "output_type": "stream",
     "text": [
      "NAs per column:\n",
      "datetime             0.000000\n",
      "index                0.947461\n",
      "pressure_filled      0.947461\n",
      "pressure_hobo        0.458002\n",
      "pressure_combined    0.435117\n",
      "dtype: float64\n",
      "Working on site: BSL\n"
     ]
    },
    {
     "name": "stderr",
     "output_type": "stream",
     "text": [
      "creating design matrix: 100%|██████████| 3989/3989 [00:00<00:00, 4115.82it/s]\n",
      "optimizing parameters: 100%|██████████| 1000/1000 [00:20<00:00, 48.08it/s]\n",
      "creating design matrix: 100%|██████████| 3989/3989 [00:00<00:00, 27967.68it/s]\n"
     ]
    },
    {
     "name": "stdout",
     "output_type": "stream",
     "text": [
      "NAs per column:\n",
      "datetime             0.000000\n",
      "index                0.918624\n",
      "pressure_filled      0.918624\n",
      "pressure_hobo        0.105986\n",
      "pressure_combined    0.100676\n",
      "dtype: float64\n",
      "Working on site: CLE\n"
     ]
    },
    {
     "name": "stderr",
     "output_type": "stream",
     "text": [
      "creating design matrix: 100%|██████████| 3214/3214 [00:00<00:00, 8577.03it/s]\n",
      "optimizing parameters: 100%|██████████| 1000/1000 [00:10<00:00, 97.36it/s]\n",
      "creating design matrix: 100%|██████████| 3214/3214 [00:00<00:00, 18047.34it/s]\n"
     ]
    },
    {
     "name": "stdout",
     "output_type": "stream",
     "text": [
      "NAs per column:\n",
      "datetime             0.000000\n",
      "index                0.942211\n",
      "pressure_filled      0.942211\n",
      "pressure_hobo        0.258698\n",
      "pressure_combined    0.245780\n",
      "dtype: float64\n",
      "Working on site: CRB\n"
     ]
    },
    {
     "name": "stderr",
     "output_type": "stream",
     "text": [
      "creating design matrix: 100%|██████████| 2454/2454 [00:00<00:00, 14013.58it/s]\n",
      "optimizing parameters: 100%|██████████| 1000/1000 [00:06<00:00, 159.47it/s]\n",
      "creating design matrix: 100%|██████████| 2454/2454 [00:00<00:00, 19308.57it/s]\n"
     ]
    },
    {
     "name": "stdout",
     "output_type": "stream",
     "text": [
      "NAs per column:\n",
      "datetime             0.000000\n",
      "index                0.949995\n",
      "pressure_filled      0.949995\n",
      "pressure_hobo        0.301872\n",
      "pressure_combined    0.286790\n",
      "dtype: float64\n",
      "Working on site: DAI\n"
     ]
    },
    {
     "name": "stderr",
     "output_type": "stream",
     "text": [
      "creating design matrix: 100%|██████████| 1360/1360 [00:00<00:00, 28944.88it/s]\n",
      "optimizing parameters: 100%|██████████| 1000/1000 [00:03<00:00, 302.67it/s]\n",
      "creating design matrix: 100%|██████████| 1360/1360 [00:00<00:00, 17574.37it/s]\n"
     ]
    },
    {
     "name": "stdout",
     "output_type": "stream",
     "text": [
      "NAs per column:\n",
      "datetime             0.000000\n",
      "index                0.939661\n",
      "pressure_filled      0.939661\n",
      "pressure_hobo        0.343411\n",
      "pressure_combined    0.326279\n",
      "dtype: float64\n",
      "Working on site: DFF\n"
     ]
    },
    {
     "name": "stderr",
     "output_type": "stream",
     "text": [
      "creating design matrix: 100%|██████████| 3429/3429 [00:00<00:00, 8471.90it/s]\n",
      "optimizing parameters: 100%|██████████| 1000/1000 [00:10<00:00, 96.25it/s]\n",
      "creating design matrix: 100%|██████████| 3429/3429 [00:00<00:00, 13654.46it/s]\n"
     ]
    },
    {
     "name": "stdout",
     "output_type": "stream",
     "text": [
      "NAs per column:\n",
      "datetime             0.000000\n",
      "index                0.914661\n",
      "pressure_filled      0.914661\n",
      "pressure_hobo        0.328564\n",
      "pressure_combined    0.312132\n",
      "dtype: float64\n",
      "Working on site: DFL\n"
     ]
    },
    {
     "name": "stderr",
     "output_type": "stream",
     "text": [
      "creating design matrix: 100%|██████████| 1213/1213 [00:00<00:00, 14843.56it/s]\n",
      "optimizing parameters: 100%|██████████| 1000/1000 [00:03<00:00, 328.25it/s]\n",
      "creating design matrix: 100%|██████████| 1213/1213 [00:00<00:00, 55130.80it/s]\n"
     ]
    },
    {
     "name": "stdout",
     "output_type": "stream",
     "text": [
      "NAs per column:\n",
      "datetime             0.000000\n",
      "index                0.853299\n",
      "pressure_filled      0.853299\n",
      "pressure_hobo        0.183897\n",
      "pressure_combined    0.174722\n",
      "dtype: float64\n",
      "Working on site: DFM\n"
     ]
    },
    {
     "name": "stderr",
     "output_type": "stream",
     "text": [
      "creating design matrix: 100%|██████████| 2222/2222 [00:00<00:00, 12369.11it/s]\n",
      "optimizing parameters: 100%|██████████| 1000/1000 [00:06<00:00, 156.88it/s]\n",
      "creating design matrix: 100%|██████████| 2222/2222 [00:00<00:00, 36522.81it/s]\n"
     ]
    },
    {
     "name": "stdout",
     "output_type": "stream",
     "text": [
      "NAs per column:\n",
      "datetime             0.000000\n",
      "index                0.938361\n",
      "pressure_filled      0.938361\n",
      "pressure_hobo        0.150614\n",
      "pressure_combined    0.143119\n",
      "dtype: float64\n",
      "Working on site: DFU\n"
     ]
    },
    {
     "name": "stderr",
     "output_type": "stream",
     "text": [
      "creating design matrix: 100%|██████████| 1432/1432 [00:00<00:00, 20694.56it/s]\n",
      "optimizing parameters: 100%|██████████| 1000/1000 [00:03<00:00, 290.00it/s]\n",
      "creating design matrix: 100%|██████████| 1432/1432 [00:00<00:00, 37644.43it/s]\n"
     ]
    },
    {
     "name": "stdout",
     "output_type": "stream",
     "text": [
      "NAs per column:\n",
      "datetime             0.000000\n",
      "index                0.859983\n",
      "pressure_filled      0.859983\n",
      "pressure_hobo        0.198802\n",
      "pressure_combined    0.188896\n",
      "dtype: float64\n",
      "Working on site: HCL\n"
     ]
    },
    {
     "name": "stderr",
     "output_type": "stream",
     "text": [
      "creating design matrix: 100%|██████████| 3243/3243 [00:00<00:00, 9590.09it/s]\n",
      "optimizing parameters: 100%|██████████| 1000/1000 [00:09<00:00, 100.61it/s]\n",
      "creating design matrix: 100%|██████████| 3243/3243 [00:00<00:00, 23592.52it/s]\n"
     ]
    },
    {
     "name": "stdout",
     "output_type": "stream",
     "text": [
      "NAs per column:\n",
      "datetime             0.000000\n",
      "index                0.946942\n",
      "pressure_filled      0.946942\n",
      "pressure_hobo        0.225794\n",
      "pressure_combined    0.214498\n",
      "dtype: float64\n",
      "Working on site: HCN\n"
     ]
    },
    {
     "name": "stderr",
     "output_type": "stream",
     "text": [
      "creating design matrix: 100%|██████████| 3506/3506 [00:00<00:00, 9465.11it/s] \n",
      "optimizing parameters: 100%|██████████| 1000/1000 [00:11<00:00, 84.80it/s]\n",
      "creating design matrix: 100%|██████████| 3506/3506 [00:00<00:00, 25694.52it/s]\n"
     ]
    },
    {
     "name": "stdout",
     "output_type": "stream",
     "text": [
      "NAs per column:\n",
      "datetime             0.000000\n",
      "index                0.943068\n",
      "pressure_filled      0.943068\n",
      "pressure_hobo        0.141331\n",
      "pressure_combined    0.134277\n",
      "dtype: float64\n",
      "Working on site: HCS\n"
     ]
    },
    {
     "name": "stderr",
     "output_type": "stream",
     "text": [
      "creating design matrix: 100%|██████████| 3468/3468 [00:00<00:00, 10758.02it/s]\n",
      "optimizing parameters: 100%|██████████| 1000/1000 [00:11<00:00, 83.38it/s]\n",
      "creating design matrix: 100%|██████████| 3468/3468 [00:00<00:00, 15282.94it/s]\n"
     ]
    },
    {
     "name": "stdout",
     "output_type": "stream",
     "text": [
      "NAs per column:\n",
      "datetime             0.000000\n",
      "index                0.942522\n",
      "pressure_filled      0.942522\n",
      "pressure_hobo        0.232825\n",
      "pressure_combined    0.221185\n",
      "dtype: float64\n",
      "Working on site: IND\n"
     ]
    },
    {
     "name": "stderr",
     "output_type": "stream",
     "text": [
      "creating design matrix: 100%|██████████| 2742/2742 [00:00<00:00, 9921.57it/s]\n",
      "optimizing parameters: 100%|██████████| 1000/1000 [00:09<00:00, 108.74it/s]\n",
      "creating design matrix: 100%|██████████| 2742/2742 [00:00<00:00, 35818.94it/s]\n"
     ]
    },
    {
     "name": "stdout",
     "output_type": "stream",
     "text": [
      "NAs per column:\n",
      "datetime             0.000000\n",
      "index                0.949988\n",
      "pressure_filled      0.949988\n",
      "pressure_hobo        0.095839\n",
      "pressure_combined    0.091024\n",
      "dtype: float64\n",
      "Working on site: LAK\n"
     ]
    },
    {
     "name": "stderr",
     "output_type": "stream",
     "text": [
      "creating design matrix: 100%|██████████| 2112/2112 [00:00<00:00, 17165.95it/s]\n",
      "optimizing parameters: 100%|██████████| 1000/1000 [00:04<00:00, 212.70it/s]\n",
      "creating design matrix: 100%|██████████| 2112/2112 [00:00<00:00, 18315.02it/s]\n"
     ]
    },
    {
     "name": "stdout",
     "output_type": "stream",
     "text": [
      "NAs per column:\n",
      "datetime             0.000000\n",
      "index                0.948328\n",
      "pressure_filled      0.948328\n",
      "pressure_hobo        0.446309\n",
      "pressure_combined    0.423997\n",
      "dtype: float64\n",
      "Working on site: LDF\n"
     ]
    },
    {
     "name": "stderr",
     "output_type": "stream",
     "text": [
      "creating design matrix: 100%|██████████| 2106/2106 [00:00<00:00, 11256.30it/s]\n",
      "optimizing parameters: 100%|██████████| 1000/1000 [00:06<00:00, 146.86it/s]\n",
      "creating design matrix: 100%|██████████| 2106/2106 [00:00<00:00, 41201.95it/s]\n"
     ]
    },
    {
     "name": "stdout",
     "output_type": "stream",
     "text": [
      "NAs per column:\n",
      "datetime             0.000000\n",
      "index                0.949992\n",
      "pressure_filled      0.949992\n",
      "pressure_hobo        0.082214\n",
      "pressure_combined    0.078093\n",
      "dtype: float64\n",
      "Working on site: MIT\n"
     ]
    },
    {
     "name": "stderr",
     "output_type": "stream",
     "text": [
      "creating design matrix: 100%|██████████| 2727/2727 [00:00<00:00, 8135.03it/s]\n",
      "optimizing parameters: 100%|██████████| 1000/1000 [00:12<00:00, 83.27it/s]\n",
      "creating design matrix: 100%|██████████| 2727/2727 [00:00<00:00, 65255.58it/s]\n"
     ]
    },
    {
     "name": "stdout",
     "output_type": "stream",
     "text": [
      "NAs per column:\n",
      "datetime             0.000000\n",
      "index                0.949998\n",
      "pressure_filled      0.949998\n",
      "pressure_hobo        0.065382\n",
      "pressure_combined    0.065107\n",
      "dtype: float64\n",
      "Working on site: NEB\n"
     ]
    },
    {
     "name": "stderr",
     "output_type": "stream",
     "text": [
      "creating design matrix: 100%|██████████| 3756/3756 [00:00<00:00, 4880.59it/s]\n",
      "optimizing parameters: 100%|██████████| 1000/1000 [00:16<00:00, 60.96it/s]\n",
      "creating design matrix: 100%|██████████| 3756/3756 [00:00<00:00, 18459.55it/s]\n"
     ]
    },
    {
     "name": "stdout",
     "output_type": "stream",
     "text": [
      "NAs per column:\n",
      "datetime             0.000000\n",
      "index                0.943388\n",
      "pressure_filled      0.943388\n",
      "pressure_hobo        0.170907\n",
      "pressure_combined    0.162371\n",
      "dtype: float64\n",
      "Working on site: PBC\n"
     ]
    },
    {
     "name": "stderr",
     "output_type": "stream",
     "text": [
      "creating design matrix: 100%|██████████| 2917/2917 [00:00<00:00, 7659.66it/s]\n",
      "optimizing parameters: 100%|██████████| 1000/1000 [00:09<00:00, 110.05it/s]\n",
      "creating design matrix: 100%|██████████| 2917/2917 [00:00<00:00, 12059.96it/s]\n"
     ]
    },
    {
     "name": "stdout",
     "output_type": "stream",
     "text": [
      "NAs per column:\n",
      "datetime             0.000000\n",
      "index                0.948246\n",
      "pressure_filled      0.948246\n",
      "pressure_hobo        0.324641\n",
      "pressure_combined    0.308395\n",
      "dtype: float64\n",
      "Working on site: SBL\n"
     ]
    },
    {
     "name": "stderr",
     "output_type": "stream",
     "text": [
      "creating design matrix: 100%|██████████| 2201/2201 [00:00<00:00, 5868.82it/s]\n",
      "optimizing parameters: 100%|██████████| 1000/1000 [00:07<00:00, 127.10it/s]\n",
      "creating design matrix: 100%|██████████| 2201/2201 [00:00<00:00, 110109.17it/s]\n"
     ]
    },
    {
     "name": "stdout",
     "output_type": "stream",
     "text": [
      "NAs per column:\n",
      "datetime             0.000000\n",
      "index                0.938913\n",
      "pressure_filled      0.938913\n",
      "pressure_hobo        0.024714\n",
      "pressure_combined    0.023464\n",
      "dtype: float64\n",
      "Working on site: SFL\n"
     ]
    },
    {
     "name": "stderr",
     "output_type": "stream",
     "text": [
      "creating design matrix: 100%|██████████| 2518/2518 [00:00<00:00, 7353.97it/s]\n",
      "optimizing parameters: 100%|██████████| 1000/1000 [00:07<00:00, 133.54it/s]\n",
      "creating design matrix: 100%|██████████| 2518/2518 [00:00<00:00, 18526.02it/s]\n"
     ]
    },
    {
     "name": "stdout",
     "output_type": "stream",
     "text": [
      "NAs per column:\n",
      "datetime             0.000000\n",
      "index                0.949987\n",
      "pressure_filled      0.949987\n",
      "pressure_hobo        0.279282\n",
      "pressure_combined    0.265309\n",
      "dtype: float64\n",
      "Working on site: SHE\n"
     ]
    },
    {
     "name": "stderr",
     "output_type": "stream",
     "text": [
      "creating design matrix: 100%|██████████| 1137/1137 [00:00<00:00, 21562.84it/s]\n",
      "optimizing parameters: 100%|██████████| 1000/1000 [00:03<00:00, 314.13it/s]\n",
      "creating design matrix: 100%|██████████| 1137/1137 [00:00<00:00, 21793.32it/s]\n"
     ]
    },
    {
     "name": "stdout",
     "output_type": "stream",
     "text": [
      "NAs per column:\n",
      "datetime             0.000000\n",
      "index                0.937378\n",
      "pressure_filled      0.937378\n",
      "pressure_hobo        0.356849\n",
      "pressure_combined    0.339042\n",
      "dtype: float64\n",
      "Working on site: SOL\n"
     ]
    },
    {
     "name": "stderr",
     "output_type": "stream",
     "text": [
      "creating design matrix: 100%|██████████| 2228/2228 [00:00<00:00, 9970.02it/s]\n",
      "optimizing parameters: 100%|██████████| 1000/1000 [00:06<00:00, 165.28it/s]\n",
      "creating design matrix: 100%|██████████| 2228/2228 [00:00<00:00, 13586.92it/s]\n"
     ]
    },
    {
     "name": "stdout",
     "output_type": "stream",
     "text": [
      "NAs per column:\n",
      "datetime             0.000000\n",
      "index                0.949988\n",
      "pressure_filled      0.949988\n",
      "pressure_hobo        0.326401\n",
      "pressure_combined    0.310060\n",
      "dtype: float64\n",
      "Working on site: STR\n"
     ]
    },
    {
     "name": "stderr",
     "output_type": "stream",
     "text": [
      "creating design matrix: 100%|██████████| 1722/1722 [00:00<00:00, 10876.18it/s]\n",
      "optimizing parameters: 100%|██████████| 1000/1000 [00:05<00:00, 189.18it/s]\n",
      "creating design matrix: 100%|██████████| 1722/1722 [00:00<00:00, 50365.69it/s]\n"
     ]
    },
    {
     "name": "stdout",
     "output_type": "stream",
     "text": [
      "NAs per column:\n",
      "datetime             0.000000\n",
      "index                0.949996\n",
      "pressure_filled      0.949996\n",
      "pressure_hobo        0.128103\n",
      "pressure_combined    0.121668\n",
      "dtype: float64\n",
      "Working on site: TCU\n"
     ]
    },
    {
     "name": "stderr",
     "output_type": "stream",
     "text": [
      "creating design matrix: 100%|██████████| 3007/3007 [00:00<00:00, 6578.98it/s]\n",
      "optimizing parameters: 100%|██████████| 1000/1000 [00:12<00:00, 79.90it/s]\n",
      "creating design matrix: 100%|██████████| 3007/3007 [00:00<00:00, 35155.28it/s]\n"
     ]
    },
    {
     "name": "stdout",
     "output_type": "stream",
     "text": [
      "NAs per column:\n",
      "datetime             0.000000\n",
      "index                0.941522\n",
      "pressure_filled      0.941522\n",
      "pressure_hobo        0.096088\n",
      "pressure_combined    0.091297\n",
      "dtype: float64\n",
      "Working on site: TIE\n"
     ]
    },
    {
     "name": "stderr",
     "output_type": "stream",
     "text": [
      "creating design matrix: 100%|██████████| 3205/3205 [00:00<00:00, 8274.05it/s]\n",
      "optimizing parameters: 100%|██████████| 1000/1000 [00:10<00:00, 91.52it/s]\n",
      "creating design matrix: 100%|██████████| 3205/3205 [00:00<00:00, 21499.89it/s]\n"
     ]
    },
    {
     "name": "stdout",
     "output_type": "stream",
     "text": [
      "NAs per column:\n",
      "datetime             0.000000\n",
      "index                0.948119\n",
      "pressure_filled      0.948119\n",
      "pressure_hobo        0.238401\n",
      "pressure_combined    0.226504\n",
      "dtype: float64\n",
      "Working on site: WAN\n"
     ]
    },
    {
     "name": "stderr",
     "output_type": "stream",
     "text": [
      "creating design matrix: 100%|██████████| 3216/3216 [00:00<00:00, 8995.66it/s]\n"
     ]
    },
    {
     "ename": "LinAlgError",
     "evalue": "SVD did not converge in Linear Least Squares",
     "output_type": "error",
     "traceback": [
      "\u001b[1;31m---------------------------------------------------------------------------\u001b[0m",
      "\u001b[1;31mLinAlgError\u001b[0m                               Traceback (most recent call last)",
      "Cell \u001b[1;32mIn[8], line 14\u001b[0m\n\u001b[0;32m     11\u001b[0m site_df \u001b[39m=\u001b[39m all_days\u001b[39m.\u001b[39mmerge(site_df, on\u001b[39m=\u001b[39m\u001b[39m'\u001b[39m\u001b[39mdatetime\u001b[39m\u001b[39m'\u001b[39m, how\u001b[39m=\u001b[39m\u001b[39m'\u001b[39m\u001b[39mleft\u001b[39m\u001b[39m'\u001b[39m)\n\u001b[0;32m     13\u001b[0m \u001b[39m#down sampling to every 10th and interpolating\u001b[39;00m\n\u001b[1;32m---> 14\u001b[0m sparse_joined_df \u001b[39m=\u001b[39m down_sample_and_interpolate_once(site_df,all_days,\u001b[39m20\u001b[39;49m,\u001b[39m'\u001b[39;49m\u001b[39mpressure_hobo\u001b[39;49m\u001b[39m'\u001b[39;49m)\n\u001b[0;32m     16\u001b[0m \u001b[39m#filling in the remaining gaps with a moving average\u001b[39;00m\n\u001b[0;32m     17\u001b[0m filled_df \u001b[39m=\u001b[39m sparse_joined_df\n",
      "File \u001b[1;32mc:\\Users\\robby\\Box\\AbbottLab\\Data\\Management\\ratingCurves\\Compressed_Sensing\\InterpolateHelperFunctions.py:40\u001b[0m, in \u001b[0;36mdown_sample_and_interpolate_once\u001b[1;34m(site_df, all_days, sample_down_to, column)\u001b[0m\n\u001b[0;32m     38\u001b[0m numBases \u001b[39m=\u001b[39m \u001b[39mint\u001b[39m((ysMissing\u001b[39m.\u001b[39mshape[\u001b[39m0\u001b[39m]\u001b[39m/\u001b[39m\u001b[39m2\u001b[39m) \u001b[39m+\u001b[39m \u001b[39m1\u001b[39m)\n\u001b[0;32m     39\u001b[0m sparse_interpolator \u001b[39m=\u001b[39m CompresedSensingInterpolator()\n\u001b[1;32m---> 40\u001b[0m ysComplete \u001b[39m=\u001b[39m sparse_interpolator\u001b[39m.\u001b[39;49minterpolate(ysMissing, numBases\u001b[39m=\u001b[39;49mnumBases, method\u001b[39m=\u001b[39;49mmethod)\n\u001b[0;32m     42\u001b[0m ysComplete_df \u001b[39m=\u001b[39m pd\u001b[39m.\u001b[39mDataFrame(ysComplete, columns\u001b[39m=\u001b[39m[\u001b[39m\"\u001b[39m\u001b[39mpressure_filled\u001b[39m\u001b[39m\"\u001b[39m])\n\u001b[0;32m     43\u001b[0m joined_df \u001b[39m=\u001b[39m pd\u001b[39m.\u001b[39mmerge(ysMissing_df\u001b[39m.\u001b[39mloc[:,\u001b[39m'\u001b[39m\u001b[39mdatetime\u001b[39m\u001b[39m'\u001b[39m]\u001b[39m.\u001b[39mreset_index(), ysComplete_df, left_index\u001b[39m=\u001b[39m\u001b[39mTrue\u001b[39;00m, right_index\u001b[39m=\u001b[39m\u001b[39mTrue\u001b[39;00m,suffixes\u001b[39m=\u001b[39m(\u001b[39m\"\u001b[39m\u001b[39m\"\u001b[39m,\u001b[39m\"\u001b[39m\u001b[39m_past\u001b[39m\u001b[39m\"\u001b[39m))\n",
      "File \u001b[1;32mc:\\Users\\robby\\Box\\AbbottLab\\Data\\Management\\ratingCurves\\Compressed_Sensing\\CompressedSensingInterpolator.py:139\u001b[0m, in \u001b[0;36mCompresedSensingInterpolator.interpolate\u001b[1;34m(self, dataWithNones, numBases, ys, method)\u001b[0m\n\u001b[0;32m    137\u001b[0m ts \u001b[39m=\u001b[39m \u001b[39mself\u001b[39m\u001b[39m.\u001b[39m_getTs(normalizedDataWithNones)\n\u001b[0;32m    138\u001b[0m dataWithoutNones, tsWithoutNones \u001b[39m=\u001b[39m \u001b[39mself\u001b[39m\u001b[39m.\u001b[39m_getDataWithoutNones(normalizedDataWithNones, ts)\n\u001b[1;32m--> 139\u001b[0m coefficients \u001b[39m=\u001b[39m \u001b[39mself\u001b[39;49m\u001b[39m.\u001b[39;49m_getCoefficients(dataWithoutNones, tsWithoutNones, numBases, method\u001b[39m=\u001b[39;49mmethod)\n\u001b[0;32m    140\u001b[0m normalizedReconstruction \u001b[39m=\u001b[39m \u001b[39mself\u001b[39m\u001b[39m.\u001b[39m_getReconstruction(coefficients, normalizedDataWithNones, ts, numBases, ys)\n\u001b[0;32m    142\u001b[0m reconstruction \u001b[39m=\u001b[39m \u001b[39mself\u001b[39m\u001b[39m.\u001b[39m_denormalize(normalizedReconstruction)\n",
      "File \u001b[1;32mc:\\Users\\robby\\Box\\AbbottLab\\Data\\Management\\ratingCurves\\Compressed_Sensing\\CompressedSensingInterpolator.py:83\u001b[0m, in \u001b[0;36mCompresedSensingInterpolator._getCoefficients\u001b[1;34m(self, dataWithoutNones, tsWithoutNones, numBases, method)\u001b[0m\n\u001b[0;32m     81\u001b[0m \u001b[39mdef\u001b[39;00m \u001b[39m_getCoefficients\u001b[39m(\u001b[39mself\u001b[39m, dataWithoutNones, tsWithoutNones, numBases, method\u001b[39m=\u001b[39m\u001b[39m\"\u001b[39m\u001b[39mSLSQP\u001b[39m\u001b[39m\"\u001b[39m):\n\u001b[0;32m     82\u001b[0m     A \u001b[39m=\u001b[39m \u001b[39mself\u001b[39m\u001b[39m.\u001b[39m_getDesignMatrix(tsWithoutNones, numBases)\n\u001b[1;32m---> 83\u001b[0m     firstGuess \u001b[39m=\u001b[39m \u001b[39mself\u001b[39;49m\u001b[39m.\u001b[39;49m_getFirstGuessOfCoefficients(dataWithoutNones, A)\n\u001b[0;32m     85\u001b[0m     \u001b[39m# convert everything over to tensors to user Pytorch\u001b[39;00m\n\u001b[0;32m     86\u001b[0m     A \u001b[39m=\u001b[39m torch\u001b[39m.\u001b[39mTensor(A)\n",
      "File \u001b[1;32mc:\\Users\\robby\\Box\\AbbottLab\\Data\\Management\\ratingCurves\\Compressed_Sensing\\CompressedSensingInterpolator.py:74\u001b[0m, in \u001b[0;36mCompresedSensingInterpolator._getFirstGuessOfCoefficients\u001b[1;34m(self, data, A)\u001b[0m\n\u001b[0;32m     73\u001b[0m \u001b[39mdef\u001b[39;00m \u001b[39m_getFirstGuessOfCoefficients\u001b[39m(\u001b[39mself\u001b[39m, data, A):\n\u001b[1;32m---> 74\u001b[0m     result \u001b[39m=\u001b[39m np\u001b[39m.\u001b[39;49mlinalg\u001b[39m.\u001b[39;49mlstsq(A, data, rcond\u001b[39m=\u001b[39;49m\u001b[39mNone\u001b[39;49;00m)\n\u001b[0;32m     75\u001b[0m     coefficients \u001b[39m=\u001b[39m result[\u001b[39m0\u001b[39m]\n\u001b[0;32m     76\u001b[0m     \u001b[39mreturn\u001b[39;00m coefficients\n",
      "File \u001b[1;32m<__array_function__ internals>:200\u001b[0m, in \u001b[0;36mlstsq\u001b[1;34m(*args, **kwargs)\u001b[0m\n",
      "File \u001b[1;32mc:\\Users\\robby\\Box\\AbbottLab\\Data\\Management\\ratingCurves\\Compressed_Sensing\\myenv\\Lib\\site-packages\\numpy\\linalg\\linalg.py:2285\u001b[0m, in \u001b[0;36mlstsq\u001b[1;34m(a, b, rcond)\u001b[0m\n\u001b[0;32m   2282\u001b[0m \u001b[39mif\u001b[39;00m n_rhs \u001b[39m==\u001b[39m \u001b[39m0\u001b[39m:\n\u001b[0;32m   2283\u001b[0m     \u001b[39m# lapack can't handle n_rhs = 0 - so allocate the array one larger in that axis\u001b[39;00m\n\u001b[0;32m   2284\u001b[0m     b \u001b[39m=\u001b[39m zeros(b\u001b[39m.\u001b[39mshape[:\u001b[39m-\u001b[39m\u001b[39m2\u001b[39m] \u001b[39m+\u001b[39m (m, n_rhs \u001b[39m+\u001b[39m \u001b[39m1\u001b[39m), dtype\u001b[39m=\u001b[39mb\u001b[39m.\u001b[39mdtype)\n\u001b[1;32m-> 2285\u001b[0m x, resids, rank, s \u001b[39m=\u001b[39m gufunc(a, b, rcond, signature\u001b[39m=\u001b[39;49msignature, extobj\u001b[39m=\u001b[39;49mextobj)\n\u001b[0;32m   2286\u001b[0m \u001b[39mif\u001b[39;00m m \u001b[39m==\u001b[39m \u001b[39m0\u001b[39m:\n\u001b[0;32m   2287\u001b[0m     x[\u001b[39m.\u001b[39m\u001b[39m.\u001b[39m\u001b[39m.\u001b[39m] \u001b[39m=\u001b[39m \u001b[39m0\u001b[39m\n",
      "File \u001b[1;32mc:\\Users\\robby\\Box\\AbbottLab\\Data\\Management\\ratingCurves\\Compressed_Sensing\\myenv\\Lib\\site-packages\\numpy\\linalg\\linalg.py:101\u001b[0m, in \u001b[0;36m_raise_linalgerror_lstsq\u001b[1;34m(err, flag)\u001b[0m\n\u001b[0;32m    100\u001b[0m \u001b[39mdef\u001b[39;00m \u001b[39m_raise_linalgerror_lstsq\u001b[39m(err, flag):\n\u001b[1;32m--> 101\u001b[0m     \u001b[39mraise\u001b[39;00m LinAlgError(\u001b[39m\"\u001b[39m\u001b[39mSVD did not converge in Linear Least Squares\u001b[39m\u001b[39m\"\u001b[39m)\n",
      "\u001b[1;31mLinAlgError\u001b[0m: SVD did not converge in Linear Least Squares"
     ]
    }
   ],
   "source": [
    "\n",
    "\n",
    "#iterate through each site\n",
    "for site_id in site_names_list:\n",
    "    print(f\"Working on site: {site_id}\")\n",
    "\n",
    "    site_df = pd.DataFrame()\n",
    "    site_df[[\"datetime\",\"pressure_hobo\"]] = all_pressure_df[[\"datetime\",site_id]]\n",
    "    site_df['datetime'] = pd.to_datetime(site_df['datetime'], format='%Y-%m-%d %H:%M:%S')\n",
    "    site_df = site_df[site_df['pressure_hobo'].notna()]\n",
    "    all_days = pd.date_range(site_df['datetime'].min(), site_df['datetime'].max(), freq='15min')\n",
    "    all_days = pd.DataFrame(all_days, columns=[\"datetime\"])\n",
    "    site_df = all_days.merge(site_df, on='datetime', how='left')\n",
    "\n",
    "    #down sampling to every 20th and interpolating\n",
    "    sparse_joined_df = down_sample_and_interpolate_once(site_df,all_days,20,10'pressure_hobo')\n",
    "    \n",
    "    #filling in the remaining gaps with a moving average\n",
    "    #filled_df = sparse_joined_df\n",
    "    #filled_df[\"pressure_combined_filled\"] = filled_df[\"pressure_combined\"].rolling(min_periods=1, center=True, window=1).mean()\n",
    "\n",
    "    #dynamically save filled df for this speciifc site\n",
    "    exec(f'{site_id}_filled_df = filled_df')\n",
    "\n",
    "    \n",
    "\n",
    "    "
   ]
  },
  {
   "cell_type": "code",
   "execution_count": 14,
   "metadata": {},
   "outputs": [
    {
     "name": "stdout",
     "output_type": "stream",
     "text": [
      "datetime                    0.000000\n",
      "index                       0.949983\n",
      "pressure_filled             0.949983\n",
      "pressure_hobo               0.406753\n",
      "pressure_combined           0.386407\n",
      "pressure_combined_filled    0.386407\n",
      "dtype: float64\n"
     ]
    },
    {
     "data": {
      "text/plain": [
       "<matplotlib.collections.PathCollection at 0x16608830f50>"
      ]
     },
     "execution_count": 14,
     "metadata": {},
     "output_type": "execute_result"
    },
    {
     "data": {
      "image/png": "[encoded data removed]",
      "text/plain": [
       "<Figure size 640x480 with 1 Axes>"
      ]
     },
     "metadata": {},
     "output_type": "display_data"
    }
   ],
   "source": [
    "\n",
    "print(BEN_filled_df.isna().sum()/BEN_filled_df.shape[0])\n",
    "\n",
    "plt.scatter(x = \"datetime\", y = \"pressure_combined_filled\",data=BEN_filled_df, label=\"Completely Filled Data\", s = .5, color=\"#723cba\")\n",
    "plt.scatter(x = \"datetime\", y = \"pressure_filled\",data=BEN_filled_df, label=\"Sparse Filled Data\", s = .5, color=\"#3bb892\")\n",
    "plt.scatter(x = \"datetime\", y = \"pressure_hobo\",data=BEN_filled_df, label=\"Actual Data\", s = .5, color=\"#224dab\")\n"
   ]
  },
  {
   "cell_type": "code",
   "execution_count": 24,
   "metadata": {},
   "outputs": [
    {
     "name": "stdout",
     "output_type": "stream",
     "text": [
      "Adding site: BEN\n",
      "Adding site: BLI\n",
      "Adding site: BSL\n",
      "Adding site: CLE\n",
      "Adding site: CRB\n",
      "Adding site: DAI\n",
      "Adding site: DFF\n",
      "Adding site: DFL\n",
      "Adding site: DFM\n",
      "Adding site: DFU\n",
      "Adding site: HCL\n",
      "Adding site: HCN\n",
      "Adding site: HCS\n",
      "Adding site: IND\n",
      "Adding site: LAK\n",
      "Adding site: LDF\n",
      "Adding site: MIT\n",
      "Adding site: NEB\n",
      "Adding site: PBC\n",
      "Adding site: SBL\n",
      "Adding site: SFL\n",
      "Adding site: SHE\n",
      "Adding site: SOL\n",
      "Adding site: STR\n",
      "Adding site: TCU\n",
      "Adding site: TIE\n"
     ]
    },
    {
     "ename": "MemoryError",
     "evalue": "Unable to allocate 389. MiB for an array with shape (1, 51048311) and data type float64",
     "output_type": "error",
     "traceback": [
      "\u001b[1;31m---------------------------------------------------------------------------\u001b[0m",
      "\u001b[1;31mMemoryError\u001b[0m                               Traceback (most recent call last)",
      "Cell \u001b[1;32mIn[24], line 12\u001b[0m\n\u001b[0;32m      9\u001b[0m     exec(\u001b[39mf\u001b[39m\u001b[39m\"\u001b[39m\u001b[39msite_DF_list.append(\u001b[39m\u001b[39m{\u001b[39;00msite_id\u001b[39m}\u001b[39;00m\u001b[39m_filled_df[[\u001b[39m\u001b[39m'\u001b[39m\u001b[39mdatetime\u001b[39m\u001b[39m'\u001b[39m\u001b[39m,\u001b[39m\u001b[39m'\u001b[39m\u001b[39mpressure_combined_filled\u001b[39m\u001b[39m'\u001b[39m\u001b[39m]])\u001b[39m\u001b[39m\"\u001b[39m) \n\u001b[0;32m     11\u001b[0m \u001b[39m#merging into one dataframe\u001b[39;00m\n\u001b[1;32m---> 12\u001b[0m filledPressDF \u001b[39m=\u001b[39m reduce(\u001b[39mlambda\u001b[39;49;00m  left,right: pd\u001b[39m.\u001b[39;49mmerge(left,right,on\u001b[39m=\u001b[39;49m[\u001b[39m'\u001b[39;49m\u001b[39mdatetime\u001b[39;49m\u001b[39m'\u001b[39;49m],\n\u001b[0;32m     13\u001b[0m                                             how\u001b[39m=\u001b[39;49m\u001b[39m'\u001b[39;49m\u001b[39mouter\u001b[39;49m\u001b[39m'\u001b[39;49m,suffixes\u001b[39m=\u001b[39;49m(\u001b[39mNone\u001b[39;49;00m,site_id)), site_DF_list)\n\u001b[0;32m     16\u001b[0m \u001b[39m#exporting csv\u001b[39;00m\n\u001b[0;32m     17\u001b[0m filledPressDF\u001b[39m.\u001b[39mto_csv(\u001b[39m\"\u001b[39m\u001b[39mfilled_all_pressure.csv\u001b[39m\u001b[39m\"\u001b[39m)\n",
      "Cell \u001b[1;32mIn[24], line 12\u001b[0m, in \u001b[0;36m<lambda>\u001b[1;34m(left, right)\u001b[0m\n\u001b[0;32m      9\u001b[0m     exec(\u001b[39mf\u001b[39m\u001b[39m\"\u001b[39m\u001b[39msite_DF_list.append(\u001b[39m\u001b[39m{\u001b[39;00msite_id\u001b[39m}\u001b[39;00m\u001b[39m_filled_df[[\u001b[39m\u001b[39m'\u001b[39m\u001b[39mdatetime\u001b[39m\u001b[39m'\u001b[39m\u001b[39m,\u001b[39m\u001b[39m'\u001b[39m\u001b[39mpressure_combined_filled\u001b[39m\u001b[39m'\u001b[39m\u001b[39m]])\u001b[39m\u001b[39m\"\u001b[39m) \n\u001b[0;32m     11\u001b[0m \u001b[39m#merging into one dataframe\u001b[39;00m\n\u001b[1;32m---> 12\u001b[0m filledPressDF \u001b[39m=\u001b[39m reduce(\u001b[39mlambda\u001b[39;00m  left,right: pd\u001b[39m.\u001b[39;49mmerge(left,right,on\u001b[39m=\u001b[39;49m[\u001b[39m'\u001b[39;49m\u001b[39mdatetime\u001b[39;49m\u001b[39m'\u001b[39;49m],\n\u001b[0;32m     13\u001b[0m                                             how\u001b[39m=\u001b[39;49m\u001b[39m'\u001b[39;49m\u001b[39mouter\u001b[39;49m\u001b[39m'\u001b[39;49m,suffixes\u001b[39m=\u001b[39;49m(\u001b[39mNone\u001b[39;49;00m,site_id)), site_DF_list)\n\u001b[0;32m     16\u001b[0m \u001b[39m#exporting csv\u001b[39;00m\n\u001b[0;32m     17\u001b[0m filledPressDF\u001b[39m.\u001b[39mto_csv(\u001b[39m\"\u001b[39m\u001b[39mfilled_all_pressure.csv\u001b[39m\u001b[39m\"\u001b[39m)\n",
      "File \u001b[1;32mc:\\Users\\robby\\Box\\AbbottLab\\Data\\Management\\ratingCurves\\Compressed_Sensing\\myenv\\Lib\\site-packages\\pandas\\core\\reshape\\merge.py:162\u001b[0m, in \u001b[0;36mmerge\u001b[1;34m(left, right, how, on, left_on, right_on, left_index, right_index, sort, suffixes, copy, indicator, validate)\u001b[0m\n\u001b[0;32m    131\u001b[0m \u001b[39m@Substitution\u001b[39m(\u001b[39m\"\u001b[39m\u001b[39m\\n\u001b[39;00m\u001b[39mleft : DataFrame or named Series\u001b[39m\u001b[39m\"\u001b[39m)\n\u001b[0;32m    132\u001b[0m \u001b[39m@Appender\u001b[39m(_merge_doc, indents\u001b[39m=\u001b[39m\u001b[39m0\u001b[39m)\n\u001b[0;32m    133\u001b[0m \u001b[39mdef\u001b[39;00m \u001b[39mmerge\u001b[39m(\n\u001b[1;32m   (...)\u001b[0m\n\u001b[0;32m    146\u001b[0m     validate: \u001b[39mstr\u001b[39m \u001b[39m|\u001b[39m \u001b[39mNone\u001b[39;00m \u001b[39m=\u001b[39m \u001b[39mNone\u001b[39;00m,\n\u001b[0;32m    147\u001b[0m ) \u001b[39m-\u001b[39m\u001b[39m>\u001b[39m DataFrame:\n\u001b[0;32m    148\u001b[0m     op \u001b[39m=\u001b[39m _MergeOperation(\n\u001b[0;32m    149\u001b[0m         left,\n\u001b[0;32m    150\u001b[0m         right,\n\u001b[1;32m   (...)\u001b[0m\n\u001b[0;32m    160\u001b[0m         validate\u001b[39m=\u001b[39mvalidate,\n\u001b[0;32m    161\u001b[0m     )\n\u001b[1;32m--> 162\u001b[0m     \u001b[39mreturn\u001b[39;00m op\u001b[39m.\u001b[39;49mget_result(copy\u001b[39m=\u001b[39;49mcopy)\n",
      "File \u001b[1;32mc:\\Users\\robby\\Box\\AbbottLab\\Data\\Management\\ratingCurves\\Compressed_Sensing\\myenv\\Lib\\site-packages\\pandas\\core\\reshape\\merge.py:811\u001b[0m, in \u001b[0;36m_MergeOperation.get_result\u001b[1;34m(self, copy)\u001b[0m\n\u001b[0;32m    807\u001b[0m     \u001b[39mself\u001b[39m\u001b[39m.\u001b[39mleft, \u001b[39mself\u001b[39m\u001b[39m.\u001b[39mright \u001b[39m=\u001b[39m \u001b[39mself\u001b[39m\u001b[39m.\u001b[39m_indicator_pre_merge(\u001b[39mself\u001b[39m\u001b[39m.\u001b[39mleft, \u001b[39mself\u001b[39m\u001b[39m.\u001b[39mright)\n\u001b[0;32m    809\u001b[0m join_index, left_indexer, right_indexer \u001b[39m=\u001b[39m \u001b[39mself\u001b[39m\u001b[39m.\u001b[39m_get_join_info()\n\u001b[1;32m--> 811\u001b[0m result \u001b[39m=\u001b[39m \u001b[39mself\u001b[39;49m\u001b[39m.\u001b[39;49m_reindex_and_concat(\n\u001b[0;32m    812\u001b[0m     join_index, left_indexer, right_indexer, copy\u001b[39m=\u001b[39;49mcopy\n\u001b[0;32m    813\u001b[0m )\n\u001b[0;32m    814\u001b[0m result \u001b[39m=\u001b[39m result\u001b[39m.\u001b[39m__finalize__(\u001b[39mself\u001b[39m, method\u001b[39m=\u001b[39m\u001b[39mself\u001b[39m\u001b[39m.\u001b[39m_merge_type)\n\u001b[0;32m    816\u001b[0m \u001b[39mif\u001b[39;00m \u001b[39mself\u001b[39m\u001b[39m.\u001b[39mindicator:\n",
      "File \u001b[1;32mc:\\Users\\robby\\Box\\AbbottLab\\Data\\Management\\ratingCurves\\Compressed_Sensing\\myenv\\Lib\\site-packages\\pandas\\core\\reshape\\merge.py:802\u001b[0m, in \u001b[0;36m_MergeOperation._reindex_and_concat\u001b[1;34m(self, join_index, left_indexer, right_indexer, copy)\u001b[0m\n\u001b[0;32m    800\u001b[0m left\u001b[39m.\u001b[39mcolumns \u001b[39m=\u001b[39m llabels\n\u001b[0;32m    801\u001b[0m right\u001b[39m.\u001b[39mcolumns \u001b[39m=\u001b[39m rlabels\n\u001b[1;32m--> 802\u001b[0m result \u001b[39m=\u001b[39m concat([left, right], axis\u001b[39m=\u001b[39;49m\u001b[39m1\u001b[39;49m, copy\u001b[39m=\u001b[39;49mcopy)\n\u001b[0;32m    803\u001b[0m \u001b[39mreturn\u001b[39;00m result\n",
      "File \u001b[1;32mc:\\Users\\robby\\Box\\AbbottLab\\Data\\Management\\ratingCurves\\Compressed_Sensing\\myenv\\Lib\\site-packages\\pandas\\core\\reshape\\concat.py:385\u001b[0m, in \u001b[0;36mconcat\u001b[1;34m(objs, axis, join, ignore_index, keys, levels, names, verify_integrity, sort, copy)\u001b[0m\n\u001b[0;32m    370\u001b[0m     copy \u001b[39m=\u001b[39m \u001b[39mFalse\u001b[39;00m\n\u001b[0;32m    372\u001b[0m op \u001b[39m=\u001b[39m _Concatenator(\n\u001b[0;32m    373\u001b[0m     objs,\n\u001b[0;32m    374\u001b[0m     axis\u001b[39m=\u001b[39maxis,\n\u001b[1;32m   (...)\u001b[0m\n\u001b[0;32m    382\u001b[0m     sort\u001b[39m=\u001b[39msort,\n\u001b[0;32m    383\u001b[0m )\n\u001b[1;32m--> 385\u001b[0m \u001b[39mreturn\u001b[39;00m op\u001b[39m.\u001b[39;49mget_result()\n",
      "File \u001b[1;32mc:\\Users\\robby\\Box\\AbbottLab\\Data\\Management\\ratingCurves\\Compressed_Sensing\\myenv\\Lib\\site-packages\\pandas\\core\\reshape\\concat.py:616\u001b[0m, in \u001b[0;36m_Concatenator.get_result\u001b[1;34m(self)\u001b[0m\n\u001b[0;32m    612\u001b[0m             indexers[ax] \u001b[39m=\u001b[39m obj_labels\u001b[39m.\u001b[39mget_indexer(new_labels)\n\u001b[0;32m    614\u001b[0m     mgrs_indexers\u001b[39m.\u001b[39mappend((obj\u001b[39m.\u001b[39m_mgr, indexers))\n\u001b[1;32m--> 616\u001b[0m new_data \u001b[39m=\u001b[39m concatenate_managers(\n\u001b[0;32m    617\u001b[0m     mgrs_indexers, \u001b[39mself\u001b[39;49m\u001b[39m.\u001b[39;49mnew_axes, concat_axis\u001b[39m=\u001b[39;49m\u001b[39mself\u001b[39;49m\u001b[39m.\u001b[39;49mbm_axis, copy\u001b[39m=\u001b[39;49m\u001b[39mself\u001b[39;49m\u001b[39m.\u001b[39;49mcopy\n\u001b[0;32m    618\u001b[0m )\n\u001b[0;32m    619\u001b[0m \u001b[39mif\u001b[39;00m \u001b[39mnot\u001b[39;00m \u001b[39mself\u001b[39m\u001b[39m.\u001b[39mcopy \u001b[39mand\u001b[39;00m \u001b[39mnot\u001b[39;00m using_copy_on_write():\n\u001b[0;32m    620\u001b[0m     new_data\u001b[39m.\u001b[39m_consolidate_inplace()\n",
      "File \u001b[1;32mc:\\Users\\robby\\Box\\AbbottLab\\Data\\Management\\ratingCurves\\Compressed_Sensing\\myenv\\Lib\\site-packages\\pandas\\core\\internals\\concat.py:204\u001b[0m, in \u001b[0;36mconcatenate_managers\u001b[1;34m(mgrs_indexers, axes, concat_axis, copy)\u001b[0m\n\u001b[0;32m    197\u001b[0m \u001b[39m# Assertions disabled for performance\u001b[39;00m\n\u001b[0;32m    198\u001b[0m \u001b[39m# for tup in mgrs_indexers:\u001b[39;00m\n\u001b[0;32m    199\u001b[0m \u001b[39m#    # caller is responsible for ensuring this\u001b[39;00m\n\u001b[0;32m    200\u001b[0m \u001b[39m#    indexers = tup[1]\u001b[39;00m\n\u001b[0;32m    201\u001b[0m \u001b[39m#    assert concat_axis not in indexers\u001b[39;00m\n\u001b[0;32m    203\u001b[0m \u001b[39mif\u001b[39;00m concat_axis \u001b[39m==\u001b[39m \u001b[39m0\u001b[39m:\n\u001b[1;32m--> 204\u001b[0m     \u001b[39mreturn\u001b[39;00m _concat_managers_axis0(mgrs_indexers, axes, copy)\n\u001b[0;32m    206\u001b[0m mgrs_indexers \u001b[39m=\u001b[39m _maybe_reindex_columns_na_proxy(axes, mgrs_indexers)\n\u001b[0;32m    208\u001b[0m concat_plans \u001b[39m=\u001b[39m [\n\u001b[0;32m    209\u001b[0m     _get_mgr_concatenation_plan(mgr, indexers) \u001b[39mfor\u001b[39;00m mgr, indexers \u001b[39min\u001b[39;00m mgrs_indexers\n\u001b[0;32m    210\u001b[0m ]\n",
      "File \u001b[1;32mc:\\Users\\robby\\Box\\AbbottLab\\Data\\Management\\ratingCurves\\Compressed_Sensing\\myenv\\Lib\\site-packages\\pandas\\core\\internals\\concat.py:279\u001b[0m, in \u001b[0;36m_concat_managers_axis0\u001b[1;34m(mgrs_indexers, axes, copy)\u001b[0m\n\u001b[0;32m    277\u001b[0m     nb \u001b[39m=\u001b[39m blk\u001b[39m.\u001b[39mcopy(deep\u001b[39m=\u001b[39m\u001b[39mFalse\u001b[39;00m)\n\u001b[0;32m    278\u001b[0m \u001b[39melif\u001b[39;00m copy:\n\u001b[1;32m--> 279\u001b[0m     nb \u001b[39m=\u001b[39m blk\u001b[39m.\u001b[39;49mcopy()\n\u001b[0;32m    280\u001b[0m \u001b[39melse\u001b[39;00m:\n\u001b[0;32m    281\u001b[0m     \u001b[39m# by slicing instead of copy(deep=False), we get a new array\u001b[39;00m\n\u001b[0;32m    282\u001b[0m     \u001b[39m#  object, see test_concat_copy\u001b[39;00m\n\u001b[0;32m    283\u001b[0m     nb \u001b[39m=\u001b[39m blk\u001b[39m.\u001b[39mgetitem_block(\u001b[39mslice\u001b[39m(\u001b[39mNone\u001b[39;00m))\n",
      "File \u001b[1;32mc:\\Users\\robby\\Box\\AbbottLab\\Data\\Management\\ratingCurves\\Compressed_Sensing\\myenv\\Lib\\site-packages\\pandas\\core\\internals\\blocks.py:540\u001b[0m, in \u001b[0;36mBlock.copy\u001b[1;34m(self, deep)\u001b[0m\n\u001b[0;32m    538\u001b[0m refs: BlockValuesRefs \u001b[39m|\u001b[39m \u001b[39mNone\u001b[39;00m\n\u001b[0;32m    539\u001b[0m \u001b[39mif\u001b[39;00m deep:\n\u001b[1;32m--> 540\u001b[0m     values \u001b[39m=\u001b[39m values\u001b[39m.\u001b[39mcopy()\n\u001b[0;32m    541\u001b[0m     refs \u001b[39m=\u001b[39m \u001b[39mNone\u001b[39;00m\n\u001b[0;32m    542\u001b[0m \u001b[39melse\u001b[39;00m:\n",
      "\u001b[1;31mMemoryError\u001b[0m: Unable to allocate 389. MiB for an array with shape (1, 51048311) and data type float64"
     ]
    }
   ],
   "source": [
    "\n",
    "#combining the filled pressure dataframes for each site into one dataframe\n",
    "site_names_list = ['BEN', 'BLI', 'BSL', 'CLE', 'CRB', 'DAI', 'DFF', 'DFL', 'DFM', 'DFU', 'HCL', 'HCN', 'HCS', 'IND', 'LAK', 'LDF', 'MIT', 'NEB', 'PBC', 'SBL', 'SFL', 'SHE', 'SOL', 'STR', 'TCU', 'TIE']\n",
    "\n",
    "site_DF_list = []\n",
    "\n",
    "for site_id in site_names_list:\n",
    "    print(f\"Adding site: {site_id}\")\n",
    "    #adding to the list\n",
    "    exec(f\"site_DF_list.append({site_id}_filled_df[['datetime','pressure_combined_filled']])\") \n",
    "\n",
    "#merging into one dataframe\n",
    "#filledPressDF = reduce(lambda  left,right: pd.merge(left,right,on=['datetime'],\n",
    "                                            how='outer',suffixes=(None,site_id)), site_DF_list)\n",
    "\n",
    "\n",
    "#exporting csv\n",
    "#filledPressDF.to_csv(\"filled_all_pressure.csv\")"
   ]
  },
  {
   "cell_type": "code",
   "execution_count": 28,
   "metadata": {},
   "outputs": [
    {
     "data": {
      "text/html": [
       "<div>\n",
       "<style scoped>\n",
       "    .dataframe tbody tr th:only-of-type {\n",
       "        vertical-align: middle;\n",
       "    }\n",
       "\n",
       "    .dataframe tbody tr th {\n",
       "        vertical-align: top;\n",
       "    }\n",
       "\n",
       "    .dataframe thead th {\n",
       "        text-align: right;\n",
       "    }\n",
       "</style>\n",
       "<table border=\"1\" class=\"dataframe\">\n",
       "  <thead>\n",
       "    <tr style=\"text-align: right;\">\n",
       "      <th></th>\n",
       "      <th>datetime</th>\n",
       "      <th>index</th>\n",
       "      <th>pressure_filled</th>\n",
       "      <th>pressure_hobo</th>\n",
       "      <th>pressure_combined</th>\n",
       "      <th>pressure_combined_filled</th>\n",
       "      <th>rolling_average</th>\n",
       "    </tr>\n",
       "  </thead>\n",
       "  <tbody>\n",
       "    <tr>\n",
       "      <th>0</th>\n",
       "      <td>2020-05-11 16:00:00</td>\n",
       "      <td>0.0</td>\n",
       "      <td>618.87</td>\n",
       "      <td>618.870000</td>\n",
       "      <td>618.870000</td>\n",
       "      <td>618.870000</td>\n",
       "      <td>NaN</td>\n",
       "    </tr>\n",
       "    <tr>\n",
       "      <th>1</th>\n",
       "      <td>2020-05-11 16:15:00</td>\n",
       "      <td>NaN</td>\n",
       "      <td>NaN</td>\n",
       "      <td>618.730000</td>\n",
       "      <td>618.730000</td>\n",
       "      <td>618.730000</td>\n",
       "      <td>NaN</td>\n",
       "    </tr>\n",
       "    <tr>\n",
       "      <th>2</th>\n",
       "      <td>2020-05-11 16:30:00</td>\n",
       "      <td>NaN</td>\n",
       "      <td>NaN</td>\n",
       "      <td>618.730000</td>\n",
       "      <td>618.730000</td>\n",
       "      <td>618.730000</td>\n",
       "      <td>NaN</td>\n",
       "    </tr>\n",
       "    <tr>\n",
       "      <th>3</th>\n",
       "      <td>2020-05-11 16:45:00</td>\n",
       "      <td>NaN</td>\n",
       "      <td>NaN</td>\n",
       "      <td>618.790000</td>\n",
       "      <td>618.790000</td>\n",
       "      <td>618.790000</td>\n",
       "      <td>NaN</td>\n",
       "    </tr>\n",
       "    <tr>\n",
       "      <th>4</th>\n",
       "      <td>2020-05-11 17:00:00</td>\n",
       "      <td>NaN</td>\n",
       "      <td>NaN</td>\n",
       "      <td>618.500000</td>\n",
       "      <td>618.500000</td>\n",
       "      <td>618.500000</td>\n",
       "      <td>NaN</td>\n",
       "    </tr>\n",
       "    <tr>\n",
       "      <th>...</th>\n",
       "      <td>...</td>\n",
       "      <td>...</td>\n",
       "      <td>...</td>\n",
       "      <td>...</td>\n",
       "      <td>...</td>\n",
       "      <td>...</td>\n",
       "      <td>...</td>\n",
       "    </tr>\n",
       "    <tr>\n",
       "      <th>84287</th>\n",
       "      <td>2022-10-06 15:15:00</td>\n",
       "      <td>NaN</td>\n",
       "      <td>NaN</td>\n",
       "      <td>631.957300</td>\n",
       "      <td>631.957300</td>\n",
       "      <td>631.957300</td>\n",
       "      <td>NaN</td>\n",
       "    </tr>\n",
       "    <tr>\n",
       "      <th>84288</th>\n",
       "      <td>2022-10-06 15:30:00</td>\n",
       "      <td>NaN</td>\n",
       "      <td>NaN</td>\n",
       "      <td>631.869385</td>\n",
       "      <td>631.869385</td>\n",
       "      <td>631.869385</td>\n",
       "      <td>NaN</td>\n",
       "    </tr>\n",
       "    <tr>\n",
       "      <th>84289</th>\n",
       "      <td>2022-10-06 15:45:00</td>\n",
       "      <td>NaN</td>\n",
       "      <td>NaN</td>\n",
       "      <td>631.776298</td>\n",
       "      <td>631.776298</td>\n",
       "      <td>631.776298</td>\n",
       "      <td>NaN</td>\n",
       "    </tr>\n",
       "    <tr>\n",
       "      <th>84290</th>\n",
       "      <td>2022-10-06 16:00:00</td>\n",
       "      <td>NaN</td>\n",
       "      <td>NaN</td>\n",
       "      <td>632.138303</td>\n",
       "      <td>632.138303</td>\n",
       "      <td>632.138303</td>\n",
       "      <td>NaN</td>\n",
       "    </tr>\n",
       "    <tr>\n",
       "      <th>84291</th>\n",
       "      <td>2022-10-06 16:15:00</td>\n",
       "      <td>NaN</td>\n",
       "      <td>NaN</td>\n",
       "      <td>632.386535</td>\n",
       "      <td>632.386535</td>\n",
       "      <td>632.386535</td>\n",
       "      <td>NaN</td>\n",
       "    </tr>\n",
       "  </tbody>\n",
       "</table>\n",
       "<p>84292 rows × 7 columns</p>\n",
       "</div>"
      ],
      "text/plain": [
       "                 datetime  index  pressure_filled  pressure_hobo  \\\n",
       "0     2020-05-11 16:00:00    0.0           618.87     618.870000   \n",
       "1     2020-05-11 16:15:00    NaN              NaN     618.730000   \n",
       "2     2020-05-11 16:30:00    NaN              NaN     618.730000   \n",
       "3     2020-05-11 16:45:00    NaN              NaN     618.790000   \n",
       "4     2020-05-11 17:00:00    NaN              NaN     618.500000   \n",
       "...                   ...    ...              ...            ...   \n",
       "84287 2022-10-06 15:15:00    NaN              NaN     631.957300   \n",
       "84288 2022-10-06 15:30:00    NaN              NaN     631.869385   \n",
       "84289 2022-10-06 15:45:00    NaN              NaN     631.776298   \n",
       "84290 2022-10-06 16:00:00    NaN              NaN     632.138303   \n",
       "84291 2022-10-06 16:15:00    NaN              NaN     632.386535   \n",
       "\n",
       "       pressure_combined  pressure_combined_filled  rolling_average  \n",
       "0             618.870000                618.870000              NaN  \n",
       "1             618.730000                618.730000              NaN  \n",
       "2             618.730000                618.730000              NaN  \n",
       "3             618.790000                618.790000              NaN  \n",
       "4             618.500000                618.500000              NaN  \n",
       "...                  ...                       ...              ...  \n",
       "84287         631.957300                631.957300              NaN  \n",
       "84288         631.869385                631.869385              NaN  \n",
       "84289         631.776298                631.776298              NaN  \n",
       "84290         632.138303                632.138303              NaN  \n",
       "84291         632.386535                632.386535              NaN  \n",
       "\n",
       "[84292 rows x 7 columns]"
      ]
     },
     "execution_count": 28,
     "metadata": {},
     "output_type": "execute_result"
    }
   ],
   "source": [
    "BEN_filled_df[\"rolling_average\"] = np.nan\n",
    "BEN_filled_df"
   ]
  },
  {
   "cell_type": "code",
   "execution_count": null,
   "metadata": {},
   "outputs": [],
   "source": [
    "# making a combined column of the filled in data and the original data, at full resolution\n",
    "def combine_pressure_row(row):\n",
    "    if not math.isnan(row['pressure_filled']) and math.isnan(row['pressure_hobo']):\n",
    "        return row['pressure_filled']\n",
    "    elif math.isnan(row['pressure_filled']) and not math.isnan(row['pressure_hobo']):\n",
    "        return  row['pressure_hobo']\n",
    "    elif not math.isnan(row['pressure_filled']) and not math.isnan(row['pressure_hobo']):\n",
    "        return  row['pressure_hobo']\n",
    "    elif math.isnan(row['pressure_filled']) and math.isnan(row['pressure_hobo']) and not math.isnan(row['rolling_average']):\n",
    "        return  row['rolling_average']\n",
    "    else:\n",
    "        return np.nan"
   ]
  }
 ],
 "metadata": {
  "kernelspec": {
   "display_name": "myenv",
   "language": "python",
   "name": "python3"
  },
  "language_info": {
   "codemirror_mode": {
    "name": "ipython",
    "version": 3
   },
   "file_extension": ".py",
   "mimetype": "text/x-python",
   "name": "python",
   "nbconvert_exporter": "python",
   "pygments_lexer": "ipython3",
   "version": "3.11.4"
  },
  "orig_nbformat": 4
 },
 "nbformat": 4,
 "nbformat_minor": 2
}
